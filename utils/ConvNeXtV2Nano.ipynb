{
 "cells": [
  {
   "cell_type": "code",
   "execution_count": 1,
   "id": "6822f2e4",
   "metadata": {
    "execution": {
     "iopub.execute_input": "2023-06-15T03:32:36.474037Z",
     "iopub.status.busy": "2023-06-15T03:32:36.473212Z",
     "iopub.status.idle": "2023-06-15T03:32:50.439090Z",
     "shell.execute_reply": "2023-06-15T03:32:50.437946Z"
    },
    "papermill": {
     "duration": 13.983864,
     "end_time": "2023-06-15T03:32:50.442154",
     "exception": false,
     "start_time": "2023-06-15T03:32:36.458290",
     "status": "completed"
    },
    "tags": []
   },
   "outputs": [
    {
     "name": "stdout",
     "output_type": "stream",
     "text": [
      "\u001b[33mWARNING: Running pip as the 'root' user can result in broken permissions and conflicting behaviour with the system package manager. It is recommended to use a virtual environment instead: https://pip.pypa.io/warnings/venv\u001b[0m\u001b[33m\r\n",
      "\u001b[0m\u001b[33mWARNING: You are using pip version 22.0.4; however, version 23.1.2 is available.\r\n",
      "You should consider upgrading via the '/usr/local/bin/python -m pip install --upgrade pip' command.\u001b[0m\u001b[33m\r\n",
      "\u001b[0m\u001b[33mWARNING: Running pip as the 'root' user can result in broken permissions and conflicting behaviour with the system package manager. It is recommended to use a virtual environment instead: https://pip.pypa.io/warnings/venv\u001b[0m\u001b[33m\r\n",
      "\u001b[0m\u001b[33mWARNING: You are using pip version 22.0.4; however, version 23.1.2 is available.\r\n",
      "You should consider upgrading via the '/usr/local/bin/python -m pip install --upgrade pip' command.\u001b[0m\u001b[33m\r\n",
      "\u001b[0m"
     ]
    }
   ],
   "source": [
    "!pip install -q \"git+https://github.com/Keyza-asyadda/DERMIS-MachineLearning.git#egg=dermis_utils&subdirectory=utils\"\n",
    "!pip install -q keras-cv-attention-models"
   ]
  },
  {
   "cell_type": "code",
   "execution_count": 2,
   "id": "69762313",
   "metadata": {
    "execution": {
     "iopub.execute_input": "2023-06-15T03:32:50.472414Z",
     "iopub.status.busy": "2023-06-15T03:32:50.472020Z",
     "iopub.status.idle": "2023-06-15T03:33:31.539517Z",
     "shell.execute_reply": "2023-06-15T03:33:31.538518Z"
    },
    "papermill": {
     "duration": 41.085634,
     "end_time": "2023-06-15T03:33:31.542141",
     "exception": false,
     "start_time": "2023-06-15T03:32:50.456507",
     "status": "completed"
    },
    "tags": []
   },
   "outputs": [
    {
     "name": "stderr",
     "output_type": "stream",
     "text": [
      "D0615 03:33:22.462294722      13 config.cc:119]                        gRPC EXPERIMENT tcp_frame_size_tuning               OFF (default:OFF)\n",
      "D0615 03:33:22.462318435      13 config.cc:119]                        gRPC EXPERIMENT tcp_rcv_lowat                       OFF (default:OFF)\n",
      "D0615 03:33:22.462321608      13 config.cc:119]                        gRPC EXPERIMENT peer_state_based_framing            OFF (default:OFF)\n",
      "D0615 03:33:22.462323830      13 config.cc:119]                        gRPC EXPERIMENT flow_control_fixes                  ON  (default:ON)\n",
      "D0615 03:33:22.462325983      13 config.cc:119]                        gRPC EXPERIMENT memory_pressure_controller          OFF (default:OFF)\n",
      "D0615 03:33:22.462328332      13 config.cc:119]                        gRPC EXPERIMENT unconstrained_max_quota_buffer_size OFF (default:OFF)\n",
      "D0615 03:33:22.462330475      13 config.cc:119]                        gRPC EXPERIMENT new_hpack_huffman_decoder           ON  (default:ON)\n",
      "D0615 03:33:22.462332660      13 config.cc:119]                        gRPC EXPERIMENT event_engine_client                 OFF (default:OFF)\n",
      "D0615 03:33:22.462334585      13 config.cc:119]                        gRPC EXPERIMENT monitoring_experiment               ON  (default:ON)\n",
      "D0615 03:33:22.462336522      13 config.cc:119]                        gRPC EXPERIMENT promise_based_client_call           OFF (default:OFF)\n",
      "D0615 03:33:22.462338727      13 config.cc:119]                        gRPC EXPERIMENT free_large_allocator                OFF (default:OFF)\n",
      "D0615 03:33:22.462340609      13 config.cc:119]                        gRPC EXPERIMENT promise_based_server_call           OFF (default:OFF)\n",
      "D0615 03:33:22.462350079      13 config.cc:119]                        gRPC EXPERIMENT transport_supplies_client_latency   OFF (default:OFF)\n",
      "D0615 03:33:22.462352105      13 config.cc:119]                        gRPC EXPERIMENT event_engine_listener               OFF (default:OFF)\n",
      "I0615 03:33:22.462514018      13 ev_epoll1_linux.cc:122]               grpc epoll fd: 59\n",
      "D0615 03:33:22.462523923      13 ev_posix.cc:144]                      Using polling engine: epoll1\n",
      "D0615 03:33:22.462542476      13 dns_resolver_ares.cc:822]             Using ares dns resolver\n",
      "D0615 03:33:22.462961334      13 lb_policy_registry.cc:46]             registering LB policy factory for \"priority_experimental\"\n",
      "D0615 03:33:22.462971085      13 lb_policy_registry.cc:46]             registering LB policy factory for \"outlier_detection_experimental\"\n",
      "D0615 03:33:22.462974076      13 lb_policy_registry.cc:46]             registering LB policy factory for \"weighted_target_experimental\"\n",
      "D0615 03:33:22.462976784      13 lb_policy_registry.cc:46]             registering LB policy factory for \"pick_first\"\n",
      "D0615 03:33:22.462980175      13 lb_policy_registry.cc:46]             registering LB policy factory for \"round_robin\"\n",
      "D0615 03:33:22.462982763      13 lb_policy_registry.cc:46]             registering LB policy factory for \"weighted_round_robin_experimental\"\n",
      "D0615 03:33:22.462988817      13 lb_policy_registry.cc:46]             registering LB policy factory for \"ring_hash_experimental\"\n",
      "D0615 03:33:22.463002092      13 lb_policy_registry.cc:46]             registering LB policy factory for \"grpclb\"\n",
      "D0615 03:33:22.463024888      13 lb_policy_registry.cc:46]             registering LB policy factory for \"rls_experimental\"\n",
      "D0615 03:33:22.463037144      13 lb_policy_registry.cc:46]             registering LB policy factory for \"xds_cluster_manager_experimental\"\n",
      "D0615 03:33:22.463040260      13 lb_policy_registry.cc:46]             registering LB policy factory for \"xds_cluster_impl_experimental\"\n",
      "D0615 03:33:22.463042970      13 lb_policy_registry.cc:46]             registering LB policy factory for \"cds_experimental\"\n",
      "D0615 03:33:22.463048631      13 lb_policy_registry.cc:46]             registering LB policy factory for \"xds_cluster_resolver_experimental\"\n",
      "D0615 03:33:22.463051646      13 lb_policy_registry.cc:46]             registering LB policy factory for \"xds_override_host_experimental\"\n",
      "D0615 03:33:22.463054511      13 lb_policy_registry.cc:46]             registering LB policy factory for \"xds_wrr_locality_experimental\"\n",
      "D0615 03:33:22.463058409      13 certificate_provider_registry.cc:35]  registering certificate provider factory for \"file_watcher\"\n",
      "I0615 03:33:22.465265997      13 socket_utils_common_posix.cc:408]     Disabling AF_INET6 sockets because ::1 is not available.\n",
      "I0615 03:33:22.486436455      13 socket_utils_common_posix.cc:337]     TCP_USER_TIMEOUT is available. TCP_USER_TIMEOUT will be used thereafter\n",
      "E0615 03:33:22.493415878      13 oauth2_credentials.cc:236]            oauth_fetch: UNKNOWN:C-ares status is not ARES_SUCCESS qtype=A name=metadata.google.internal. is_balancer=0: Domain name not found {grpc_status:2, created_time:\"2023-06-15T03:33:22.493399116+00:00\"}\n"
     ]
    }
   ],
   "source": [
    "import warnings\n",
    "warnings.filterwarnings(\"ignore\")\n",
    "\n",
    "from tensorflow import keras\n",
    "import tensorflow as tf\n",
    "\n",
    "import keras_cv_attention_models as kecam\n",
    "\n",
    "import dermis_utils\n",
    "\n",
    "import os\n",
    "import gc"
   ]
  },
  {
   "cell_type": "code",
   "execution_count": 3,
   "id": "3b56b25e",
   "metadata": {
    "execution": {
     "iopub.execute_input": "2023-06-15T03:33:31.570736Z",
     "iopub.status.busy": "2023-06-15T03:33:31.570201Z",
     "iopub.status.idle": "2023-06-15T03:33:31.575775Z",
     "shell.execute_reply": "2023-06-15T03:33:31.574894Z"
    },
    "papermill": {
     "duration": 0.022408,
     "end_time": "2023-06-15T03:33:31.577809",
     "exception": false,
     "start_time": "2023-06-15T03:33:31.555401",
     "status": "completed"
    },
    "tags": []
   },
   "outputs": [],
   "source": [
    "DATA_DIR = '../input/isic-2019-capstone/ISIC_2019'\n",
    "CACHE_DIR = '../tmp/'\n",
    "SAVE_DIR = os.getcwd()\n",
    "IMG_SIZE = 224\n",
    "EPOCHS = 40\n",
    "BATCH_SIZE = 128\n",
    "BRIGHTNESS_LEVEL = .2\n",
    "NUM_CLASSES = 8\n",
    "LR = 0.00035"
   ]
  },
  {
   "cell_type": "code",
   "execution_count": 4,
   "id": "d297356b",
   "metadata": {
    "execution": {
     "iopub.execute_input": "2023-06-15T03:33:31.606134Z",
     "iopub.status.busy": "2023-06-15T03:33:31.605810Z",
     "iopub.status.idle": "2023-06-15T03:33:31.610289Z",
     "shell.execute_reply": "2023-06-15T03:33:31.609530Z"
    },
    "papermill": {
     "duration": 0.021257,
     "end_time": "2023-06-15T03:33:31.612563",
     "exception": false,
     "start_time": "2023-06-15T03:33:31.591306",
     "status": "completed"
    },
    "tags": []
   },
   "outputs": [],
   "source": [
    "if not os.path.exists(CACHE_DIR):\n",
    "    os.makedirs(CACHE_DIR)"
   ]
  },
  {
   "cell_type": "code",
   "execution_count": 5,
   "id": "413f0aab",
   "metadata": {
    "execution": {
     "iopub.execute_input": "2023-06-15T03:33:31.641502Z",
     "iopub.status.busy": "2023-06-15T03:33:31.640914Z",
     "iopub.status.idle": "2023-06-15T03:33:41.566163Z",
     "shell.execute_reply": "2023-06-15T03:33:41.565188Z"
    },
    "papermill": {
     "duration": 9.944173,
     "end_time": "2023-06-15T03:33:41.570963",
     "exception": false,
     "start_time": "2023-06-15T03:33:31.626790",
     "status": "completed"
    },
    "tags": []
   },
   "outputs": [
    {
     "name": "stdout",
     "output_type": "stream",
     "text": [
      "INFO:tensorflow:Deallocate tpu buffers before initializing tpu system.\n",
      "INFO:tensorflow:Initializing the TPU system: local\n",
      "INFO:tensorflow:Finished initializing TPU system.\n",
      "INFO:tensorflow:Found TPU system:\n",
      "INFO:tensorflow:*** Num TPU Cores: 8\n",
      "INFO:tensorflow:*** Num TPU Workers: 1\n",
      "INFO:tensorflow:*** Num TPU Cores Per Worker: 8\n",
      "INFO:tensorflow:*** Available Device: _DeviceAttributes(/job:localhost/replica:0/task:0/device:CPU:0, CPU, 0, 0)\n",
      "INFO:tensorflow:*** Available Device: _DeviceAttributes(/job:localhost/replica:0/task:0/device:TPU:0, TPU, 0, 0)\n",
      "INFO:tensorflow:*** Available Device: _DeviceAttributes(/job:localhost/replica:0/task:0/device:TPU:1, TPU, 0, 0)\n",
      "INFO:tensorflow:*** Available Device: _DeviceAttributes(/job:localhost/replica:0/task:0/device:TPU:2, TPU, 0, 0)\n",
      "INFO:tensorflow:*** Available Device: _DeviceAttributes(/job:localhost/replica:0/task:0/device:TPU:3, TPU, 0, 0)\n",
      "INFO:tensorflow:*** Available Device: _DeviceAttributes(/job:localhost/replica:0/task:0/device:TPU:4, TPU, 0, 0)\n",
      "INFO:tensorflow:*** Available Device: _DeviceAttributes(/job:localhost/replica:0/task:0/device:TPU:5, TPU, 0, 0)\n",
      "INFO:tensorflow:*** Available Device: _DeviceAttributes(/job:localhost/replica:0/task:0/device:TPU:6, TPU, 0, 0)\n",
      "INFO:tensorflow:*** Available Device: _DeviceAttributes(/job:localhost/replica:0/task:0/device:TPU:7, TPU, 0, 0)\n",
      "INFO:tensorflow:*** Available Device: _DeviceAttributes(/job:localhost/replica:0/task:0/device:TPU_SYSTEM:0, TPU_SYSTEM, 0, 0)\n"
     ]
    }
   ],
   "source": [
    "try:\n",
    "    tpu =tf.distribute.cluster_resolver.TPUClusterResolver.connect()\n",
    "    strategy = tf.distribute.TPUStrategy(tpu)\n",
    "except:\n",
    "    if len(tf.config.list_logical_devices(\"GPU\")) > 1:\n",
    "        strategy = tf.distribute.MirroredStrategy()\n",
    "    else:\n",
    "        strategy = tf.distribute.get_strategy()"
   ]
  },
  {
   "cell_type": "markdown",
   "id": "040309d9",
   "metadata": {
    "papermill": {
     "duration": 0.013782,
     "end_time": "2023-06-15T03:33:41.598592",
     "exception": false,
     "start_time": "2023-06-15T03:33:41.584810",
     "status": "completed"
    },
    "tags": []
   },
   "source": [
    "## Import dataset"
   ]
  },
  {
   "cell_type": "markdown",
   "id": "8a6e379c",
   "metadata": {
    "papermill": {
     "duration": 0.01333,
     "end_time": "2023-06-15T03:33:41.625226",
     "exception": false,
     "start_time": "2023-06-15T03:33:41.611896",
     "status": "completed"
    },
    "tags": []
   },
   "source": [
    "### Define augmentation function"
   ]
  },
  {
   "cell_type": "code",
   "execution_count": 6,
   "id": "28571992",
   "metadata": {
    "execution": {
     "iopub.execute_input": "2023-06-15T03:33:41.653683Z",
     "iopub.status.busy": "2023-06-15T03:33:41.653403Z",
     "iopub.status.idle": "2023-06-15T03:33:41.674321Z",
     "shell.execute_reply": "2023-06-15T03:33:41.673522Z"
    },
    "papermill": {
     "duration": 0.037719,
     "end_time": "2023-06-15T03:33:41.676525",
     "exception": false,
     "start_time": "2023-06-15T03:33:41.638806",
     "status": "completed"
    },
    "tags": []
   },
   "outputs": [],
   "source": [
    "if len(tf.config.list_logical_devices(\"TPU\")) >0:\n",
    "    augmentation_model = keras.Sequential([\n",
    "        keras.layers.RandomBrightness(BRIGHTNESS_LEVEL),\n",
    "        keras.layers.RandomFlip(),\n",
    "        keras.layers.RandomRotation(.9),\n",
    "    ])\n",
    "else:\n",
    "    with strategy.scope():\n",
    "        augmentation_model = keras.Sequential([\n",
    "            keras.layers.RandomBrightness(BRIGHTNESS_LEVEL),\n",
    "            keras.layers.RandomFlip(),\n",
    "            keras.layers.RandomRotation(.9),\n",
    "        ])\n",
    "\n",
    "@tf.function\n",
    "def aug_image_label(images, labels):\n",
    "    aug = augmentation_model(images, training = True)\n",
    "    return aug, labels"
   ]
  },
  {
   "cell_type": "code",
   "execution_count": 7,
   "id": "8c0bcd0c",
   "metadata": {
    "execution": {
     "iopub.execute_input": "2023-06-15T03:33:41.704669Z",
     "iopub.status.busy": "2023-06-15T03:33:41.704390Z",
     "iopub.status.idle": "2023-06-15T03:34:03.731206Z",
     "shell.execute_reply": "2023-06-15T03:34:03.730353Z"
    },
    "papermill": {
     "duration": 22.043815,
     "end_time": "2023-06-15T03:34:03.733629",
     "exception": false,
     "start_time": "2023-06-15T03:33:41.689814",
     "status": "completed"
    },
    "tags": []
   },
   "outputs": [
    {
     "name": "stdout",
     "output_type": "stream",
     "text": [
      "Found 17731 files belonging to 8 classes.\n"
     ]
    }
   ],
   "source": [
    "train_ds = keras.utils.image_dataset_from_directory(\n",
    "    os.path.join(DATA_DIR, 'train'),\n",
    "    image_size = (IMG_SIZE, IMG_SIZE),\n",
    "    batch_size = BATCH_SIZE,\n",
    "    shuffle = True,\n",
    "    label_mode = \"categorical\"\n",
    ")"
   ]
  },
  {
   "cell_type": "code",
   "execution_count": 8,
   "id": "ffab9336",
   "metadata": {
    "execution": {
     "iopub.execute_input": "2023-06-15T03:34:03.762662Z",
     "iopub.status.busy": "2023-06-15T03:34:03.762384Z",
     "iopub.status.idle": "2023-06-15T03:34:03.766152Z",
     "shell.execute_reply": "2023-06-15T03:34:03.765383Z"
    },
    "papermill": {
     "duration": 0.020864,
     "end_time": "2023-06-15T03:34:03.768300",
     "exception": false,
     "start_time": "2023-06-15T03:34:03.747436",
     "status": "completed"
    },
    "tags": []
   },
   "outputs": [],
   "source": [
    "class_weight = train_ds.class_names"
   ]
  },
  {
   "cell_type": "code",
   "execution_count": 9,
   "id": "52615fad",
   "metadata": {
    "execution": {
     "iopub.execute_input": "2023-06-15T03:34:03.796602Z",
     "iopub.status.busy": "2023-06-15T03:34:03.796102Z",
     "iopub.status.idle": "2023-06-15T03:34:04.375227Z",
     "shell.execute_reply": "2023-06-15T03:34:04.374253Z"
    },
    "papermill": {
     "duration": 0.596021,
     "end_time": "2023-06-15T03:34:04.377766",
     "exception": false,
     "start_time": "2023-06-15T03:34:03.781745",
     "status": "completed"
    },
    "tags": []
   },
   "outputs": [],
   "source": [
    "# train_ds = train_ds.cache(os.path.join(CACHE_DIR, 'train'))\n",
    "train_ds = train_ds.map(aug_image_label, num_parallel_calls = tf.data.AUTOTUNE, deterministic = False)\n",
    "train_ds = train_ds.prefetch(tf.data.AUTOTUNE)"
   ]
  },
  {
   "cell_type": "code",
   "execution_count": 10,
   "id": "a3c16aa6",
   "metadata": {
    "execution": {
     "iopub.execute_input": "2023-06-15T03:34:04.406118Z",
     "iopub.status.busy": "2023-06-15T03:34:04.405846Z",
     "iopub.status.idle": "2023-06-15T03:34:07.581355Z",
     "shell.execute_reply": "2023-06-15T03:34:07.580446Z"
    },
    "papermill": {
     "duration": 3.192315,
     "end_time": "2023-06-15T03:34:07.583714",
     "exception": false,
     "start_time": "2023-06-15T03:34:04.391399",
     "status": "completed"
    },
    "tags": []
   },
   "outputs": [
    {
     "name": "stdout",
     "output_type": "stream",
     "text": [
      "Found 3800 files belonging to 8 classes.\n"
     ]
    }
   ],
   "source": [
    "val_ds = keras.utils.image_dataset_from_directory(\n",
    "    os.path.join(DATA_DIR, 'val'),\n",
    "    image_size = (IMG_SIZE, IMG_SIZE),\n",
    "    batch_size = BATCH_SIZE,\n",
    "    shuffle = False, # No need to shuffle validation set, and also to reduce computation\n",
    "    label_mode = 'categorical'\n",
    ")"
   ]
  },
  {
   "cell_type": "code",
   "execution_count": 11,
   "id": "9754b7f8",
   "metadata": {
    "execution": {
     "iopub.execute_input": "2023-06-15T03:34:07.612802Z",
     "iopub.status.busy": "2023-06-15T03:34:07.612475Z",
     "iopub.status.idle": "2023-06-15T03:34:07.621253Z",
     "shell.execute_reply": "2023-06-15T03:34:07.620486Z"
    },
    "papermill": {
     "duration": 0.025739,
     "end_time": "2023-06-15T03:34:07.623314",
     "exception": false,
     "start_time": "2023-06-15T03:34:07.597575",
     "status": "completed"
    },
    "tags": []
   },
   "outputs": [],
   "source": [
    "val_ds = val_ds.cache(os.path.join(CACHE_DIR, 'val'))\n",
    "val_ds = val_ds.prefetch(tf.data.AUTOTUNE)"
   ]
  },
  {
   "cell_type": "markdown",
   "id": "8e0f6cfe",
   "metadata": {
    "papermill": {
     "duration": 0.013599,
     "end_time": "2023-06-15T03:34:07.650403",
     "exception": false,
     "start_time": "2023-06-15T03:34:07.636804",
     "status": "completed"
    },
    "tags": []
   },
   "source": [
    "## Calculate class weight for weighted cross entropy"
   ]
  },
  {
   "cell_type": "code",
   "execution_count": 12,
   "id": "6e272532",
   "metadata": {
    "execution": {
     "iopub.execute_input": "2023-06-15T03:34:07.678594Z",
     "iopub.status.busy": "2023-06-15T03:34:07.678290Z",
     "iopub.status.idle": "2023-06-15T03:34:07.701989Z",
     "shell.execute_reply": "2023-06-15T03:34:07.701248Z"
    },
    "papermill": {
     "duration": 0.040198,
     "end_time": "2023-06-15T03:34:07.704012",
     "exception": false,
     "start_time": "2023-06-15T03:34:07.663814",
     "status": "completed"
    },
    "tags": []
   },
   "outputs": [],
   "source": [
    "class_weight = list(map(lambda x: len(os.listdir(os.path.join(DATA_DIR, 'train', x))), class_weight))\n",
    "class_weight = tf.divide(tf.reduce_sum(class_weight), class_weight)\n",
    "class_weight = tf.divide(class_weight * 10, tf.reduce_sum(class_weight))\n",
    "class_weight = dict(enumerate(class_weight))"
   ]
  },
  {
   "cell_type": "markdown",
   "id": "c2fae888",
   "metadata": {
    "papermill": {
     "duration": 0.013577,
     "end_time": "2023-06-15T03:34:07.730986",
     "exception": false,
     "start_time": "2023-06-15T03:34:07.717409",
     "status": "completed"
    },
    "tags": []
   },
   "source": [
    "## Define model"
   ]
  },
  {
   "cell_type": "code",
   "execution_count": 13,
   "id": "9ef667e9",
   "metadata": {
    "execution": {
     "iopub.execute_input": "2023-06-15T03:34:07.759035Z",
     "iopub.status.busy": "2023-06-15T03:34:07.758730Z",
     "iopub.status.idle": "2023-06-15T03:34:07.765585Z",
     "shell.execute_reply": "2023-06-15T03:34:07.764860Z"
    },
    "papermill": {
     "duration": 0.023143,
     "end_time": "2023-06-15T03:34:07.767498",
     "exception": false,
     "start_time": "2023-06-15T03:34:07.744355",
     "status": "completed"
    },
    "tags": []
   },
   "outputs": [],
   "source": [
    "def get_pretrained(\n",
    "    trainable_blocks = [],\n",
    "    train_all = False,\n",
    "):\n",
    "    base = kecam.convnext.ConvNeXtV2Nano(input_shape = (IMG_SIZE, IMG_SIZE, 3), num_classes = 0, pretrained = 'imagenet')\n",
    "    if not train_all:\n",
    "        for layer in base.layers:\n",
    "            layer.trainable = any(i in layer.name for i in trainable_blocks) and not isinstance(layer, keras.layers.BatchNormalization)\n",
    "    else:\n",
    "        for layer in base.layers:\n",
    "            layer.trainable = not isinstance(layer, keras.layers.BatchNormalization)\n",
    "    return base"
   ]
  },
  {
   "cell_type": "code",
   "execution_count": 14,
   "id": "9fc1c68d",
   "metadata": {
    "execution": {
     "iopub.execute_input": "2023-06-15T03:34:07.796075Z",
     "iopub.status.busy": "2023-06-15T03:34:07.795819Z",
     "iopub.status.idle": "2023-06-15T03:34:07.802734Z",
     "shell.execute_reply": "2023-06-15T03:34:07.802013Z"
    },
    "papermill": {
     "duration": 0.023129,
     "end_time": "2023-06-15T03:34:07.804569",
     "exception": false,
     "start_time": "2023-06-15T03:34:07.781440",
     "status": "completed"
    },
    "tags": []
   },
   "outputs": [],
   "source": [
    "def get_model(\n",
    "    h_units = 64,\n",
    "    trainable_blocks = ['stack4_block1', 'stack4_block2'],\n",
    "    train_all_base_model = False\n",
    "):\n",
    "    inputs = keras.Input(shape = (IMG_SIZE, IMG_SIZE, 3))\n",
    "    x = dermis_utils.layers.PreprocessKecam()(inputs)\n",
    "    x = get_pretrained(\n",
    "        trainable_blocks = trainable_blocks,\n",
    "        train_all = train_all_base_model\n",
    "    )(x)\n",
    "    x = keras.layers.GlobalAveragePooling2D()(x)\n",
    "    x = keras.layers.Dense(h_units)(x)\n",
    "    x = dermis_utils.layers.Swish()(x)\n",
    "    output = keras.layers.Dense(NUM_CLASSES)(x)\n",
    "    return keras.Model(inputs = inputs, outputs = output)"
   ]
  },
  {
   "cell_type": "markdown",
   "id": "c6366133",
   "metadata": {
    "papermill": {
     "duration": 0.013488,
     "end_time": "2023-06-15T03:34:07.831555",
     "exception": false,
     "start_time": "2023-06-15T03:34:07.818067",
     "status": "completed"
    },
    "tags": []
   },
   "source": [
    "## Train model"
   ]
  },
  {
   "cell_type": "markdown",
   "id": "28935570",
   "metadata": {
    "papermill": {
     "duration": 0.013523,
     "end_time": "2023-06-15T03:34:07.858452",
     "exception": false,
     "start_time": "2023-06-15T03:34:07.844929",
     "status": "completed"
    },
    "tags": []
   },
   "source": [
    "### Train model with Focal Loss"
   ]
  },
  {
   "cell_type": "code",
   "execution_count": 15,
   "id": "b80c15d6",
   "metadata": {
    "execution": {
     "iopub.execute_input": "2023-06-15T03:34:07.886710Z",
     "iopub.status.busy": "2023-06-15T03:34:07.886455Z",
     "iopub.status.idle": "2023-06-15T03:34:22.790640Z",
     "shell.execute_reply": "2023-06-15T03:34:22.789336Z"
    },
    "papermill": {
     "duration": 14.921585,
     "end_time": "2023-06-15T03:34:22.793550",
     "exception": false,
     "start_time": "2023-06-15T03:34:07.871965",
     "status": "completed"
    },
    "tags": []
   },
   "outputs": [
    {
     "name": "stdout",
     "output_type": "stream",
     "text": [
      "Downloading data from https://github.com/leondgarse/keras_cv_attention_models/releases/download/convnext/convnext_v2_nano_imagenet.h5\n",
      "62970120/62970120 [==============================] - 1s 0us/step\n",
      ">>>> Load pretrained from: /root/.keras/models/convnext_v2_nano_imagenet.h5\n"
     ]
    }
   ],
   "source": [
    "with strategy.scope():\n",
    "    model = get_model()"
   ]
  },
  {
   "cell_type": "code",
   "execution_count": 16,
   "id": "55f5cd59",
   "metadata": {
    "execution": {
     "iopub.execute_input": "2023-06-15T03:34:22.825553Z",
     "iopub.status.busy": "2023-06-15T03:34:22.825221Z",
     "iopub.status.idle": "2023-06-15T03:34:23.156843Z",
     "shell.execute_reply": "2023-06-15T03:34:23.155471Z"
    },
    "papermill": {
     "duration": 0.351048,
     "end_time": "2023-06-15T03:34:23.159750",
     "exception": false,
     "start_time": "2023-06-15T03:34:22.808702",
     "status": "completed"
    },
    "tags": []
   },
   "outputs": [],
   "source": [
    "with strategy.scope():\n",
    "    \n",
    "    optimizer = keras.optimizers.Adam(\n",
    "        LR\n",
    "    )\n",
    "    \n",
    "    model.compile(\n",
    "        optimizer = optimizer,\n",
    "        loss = dermis_utils.losses.CategoricalFocalCrossentropy(gamma = 1., from_logits = True),\n",
    "        metrics = [\n",
    "            \"accuracy\",\n",
    "            keras.metrics.AUC(\n",
    "                multi_label = True,\n",
    "                from_logits = True,\n",
    "                num_labels = NUM_CLASSES\n",
    "            ),\n",
    "            keras.metrics.Recall(thresholds = 0),\n",
    "            keras.metrics.Precision(thresholds = 0)\n",
    "        ]\n",
    "    )"
   ]
  },
  {
   "cell_type": "code",
   "execution_count": 17,
   "id": "be42bf34",
   "metadata": {
    "execution": {
     "iopub.execute_input": "2023-06-15T03:34:23.192243Z",
     "iopub.status.busy": "2023-06-15T03:34:23.191917Z",
     "iopub.status.idle": "2023-06-15T03:34:23.199019Z",
     "shell.execute_reply": "2023-06-15T03:34:23.198057Z"
    },
    "papermill": {
     "duration": 0.026544,
     "end_time": "2023-06-15T03:34:23.201301",
     "exception": false,
     "start_time": "2023-06-15T03:34:23.174757",
     "status": "completed"
    },
    "tags": []
   },
   "outputs": [],
   "source": [
    "with strategy.scope():\n",
    "    \n",
    "    csv_logger = keras.callbacks.CSVLogger(os.path.join(SAVE_DIR, 'focal_loss_unfreeze_last_two.csv'))\n",
    "    tensorboard = keras.callbacks.TensorBoard(os.path.join(SAVE_DIR, 'logs', 'focal_loss_unfreeze_last_two/'))\n",
    "    checkpoint = keras.callbacks.ModelCheckpoint(os.path.join(SAVE_DIR, \"focal-loss-unfreeze-last-two-at-epoch-{epoch:02d}.hdf5\"))\n",
    "    reducelr = keras.callbacks.ReduceLROnPlateau(monitor=\"val_loss\", factor=.4, patience=4, min_lr=1e-7)"
   ]
  },
  {
   "cell_type": "code",
   "execution_count": 18,
   "id": "99ef734d",
   "metadata": {
    "_kg_hide-input": true,
    "execution": {
     "iopub.execute_input": "2023-06-15T03:34:23.234559Z",
     "iopub.status.busy": "2023-06-15T03:34:23.234220Z",
     "iopub.status.idle": "2023-06-15T03:47:37.408044Z",
     "shell.execute_reply": "2023-06-15T03:47:37.406752Z"
    },
    "papermill": {
     "duration": 794.612226,
     "end_time": "2023-06-15T03:47:37.828910",
     "exception": false,
     "start_time": "2023-06-15T03:34:23.216684",
     "status": "completed"
    },
    "tags": []
   },
   "outputs": [
    {
     "name": "stdout",
     "output_type": "stream",
     "text": [
      "Epoch 1/40\n"
     ]
    },
    {
     "name": "stderr",
     "output_type": "stream",
     "text": [
      "2023-06-15 03:34:41.705561: E tensorflow/core/grappler/optimizers/meta_optimizer.cc:954] model_pruner failed: INVALID_ARGUMENT: Graph does not contain terminal node Add_50/ReadVariableOp.\n",
      "2023-06-15 03:34:42.159353: E tensorflow/core/grappler/optimizers/meta_optimizer.cc:954] model_pruner failed: INVALID_ARGUMENT: Graph does not contain terminal node Add_50/ReadVariableOp.\n"
     ]
    },
    {
     "name": "stdout",
     "output_type": "stream",
     "text": [
      "139/139 [==============================] - ETA: 0s - loss: 0.8393 - accuracy: 0.6223 - auc: 0.7376 - recall: 0.9532 - precision: 0.2293"
     ]
    },
    {
     "name": "stderr",
     "output_type": "stream",
     "text": [
      "2023-06-15 03:35:39.030082: E tensorflow/core/grappler/optimizers/meta_optimizer.cc:954] model_pruner failed: INVALID_ARGUMENT: Graph does not contain terminal node Add/ReadVariableOp.\n",
      "2023-06-15 03:35:39.240931: E tensorflow/core/grappler/optimizers/meta_optimizer.cc:954] model_pruner failed: INVALID_ARGUMENT: Graph does not contain terminal node Add/ReadVariableOp.\n"
     ]
    },
    {
     "name": "stdout",
     "output_type": "stream",
     "text": [
      "139/139 [==============================] - 96s 372ms/step - loss: 0.8393 - accuracy: 0.6223 - auc: 0.7376 - recall: 0.9532 - precision: 0.2293 - val_loss: 0.6565 - val_accuracy: 0.6737 - val_auc: 0.8204 - val_recall: 0.9768 - val_precision: 0.2364 - lr: 3.5000e-04\n",
      "Epoch 2/40\n",
      "139/139 [==============================] - 17s 110ms/step - loss: 0.6329 - accuracy: 0.6870 - auc: 0.8274 - recall: 0.9798 - precision: 0.2395 - val_loss: 0.5745 - val_accuracy: 0.7074 - val_auc: 0.8453 - val_recall: 0.9871 - val_precision: 0.2322 - lr: 3.5000e-04\n",
      "Epoch 3/40\n",
      "139/139 [==============================] - 18s 113ms/step - loss: 0.5584 - accuracy: 0.7191 - auc: 0.8525 - recall: 0.9877 - precision: 0.2375 - val_loss: 0.5438 - val_accuracy: 0.7187 - val_auc: 0.8607 - val_recall: 0.9866 - val_precision: 0.2402 - lr: 3.5000e-04\n",
      "Epoch 4/40\n",
      "139/139 [==============================] - 17s 111ms/step - loss: 0.5025 - accuracy: 0.7414 - auc: 0.8673 - recall: 0.9896 - precision: 0.2402 - val_loss: 0.5352 - val_accuracy: 0.7221 - val_auc: 0.8519 - val_recall: 0.9850 - val_precision: 0.2325 - lr: 3.5000e-04\n",
      "Epoch 5/40\n",
      "139/139 [==============================] - 17s 112ms/step - loss: 0.4472 - accuracy: 0.7639 - auc: 0.8742 - recall: 0.9924 - precision: 0.2396 - val_loss: 0.5613 - val_accuracy: 0.7158 - val_auc: 0.8709 - val_recall: 0.9900 - val_precision: 0.2283 - lr: 3.5000e-04\n",
      "Epoch 6/40\n",
      "139/139 [==============================] - 17s 112ms/step - loss: 0.4114 - accuracy: 0.7821 - auc: 0.8824 - recall: 0.9947 - precision: 0.2381 - val_loss: 0.5639 - val_accuracy: 0.7058 - val_auc: 0.8706 - val_recall: 0.9908 - val_precision: 0.2262 - lr: 3.5000e-04\n",
      "Epoch 7/40\n",
      "139/139 [==============================] - 17s 110ms/step - loss: 0.3799 - accuracy: 0.7903 - auc: 0.8831 - recall: 0.9954 - precision: 0.2376 - val_loss: 0.5062 - val_accuracy: 0.7326 - val_auc: 0.8694 - val_recall: 0.9937 - val_precision: 0.2317 - lr: 3.5000e-04\n",
      "Epoch 8/40\n",
      "139/139 [==============================] - 17s 108ms/step - loss: 0.3520 - accuracy: 0.8033 - auc: 0.8895 - recall: 0.9958 - precision: 0.2383 - val_loss: 0.5221 - val_accuracy: 0.7384 - val_auc: 0.8734 - val_recall: 0.9913 - val_precision: 0.2442 - lr: 3.5000e-04\n",
      "Epoch 9/40\n",
      "139/139 [==============================] - 17s 110ms/step - loss: 0.3232 - accuracy: 0.8202 - auc: 0.8905 - recall: 0.9961 - precision: 0.2410 - val_loss: 0.5063 - val_accuracy: 0.7463 - val_auc: 0.8671 - val_recall: 0.9897 - val_precision: 0.2322 - lr: 3.5000e-04\n",
      "Epoch 10/40\n",
      "139/139 [==============================] - 17s 109ms/step - loss: 0.2915 - accuracy: 0.8372 - auc: 0.8969 - recall: 0.9967 - precision: 0.2439 - val_loss: 0.4979 - val_accuracy: 0.7534 - val_auc: 0.8667 - val_recall: 0.9905 - val_precision: 0.2410 - lr: 3.5000e-04\n",
      "Epoch 11/40\n",
      "139/139 [==============================] - 17s 110ms/step - loss: 0.2775 - accuracy: 0.8390 - auc: 0.8953 - recall: 0.9968 - precision: 0.2438 - val_loss: 0.5314 - val_accuracy: 0.7437 - val_auc: 0.8645 - val_recall: 0.9908 - val_precision: 0.2295 - lr: 3.5000e-04\n",
      "Epoch 12/40\n",
      "139/139 [==============================] - 17s 110ms/step - loss: 0.2676 - accuracy: 0.8474 - auc: 0.8911 - recall: 0.9972 - precision: 0.2412 - val_loss: 0.5383 - val_accuracy: 0.7518 - val_auc: 0.8661 - val_recall: 0.9897 - val_precision: 0.2404 - lr: 3.5000e-04\n",
      "Epoch 13/40\n",
      "139/139 [==============================] - 17s 109ms/step - loss: 0.2534 - accuracy: 0.8543 - auc: 0.8987 - recall: 0.9969 - precision: 0.2445 - val_loss: 0.5399 - val_accuracy: 0.7579 - val_auc: 0.8718 - val_recall: 0.9889 - val_precision: 0.2352 - lr: 3.5000e-04\n",
      "Epoch 14/40\n",
      "139/139 [==============================] - 17s 110ms/step - loss: 0.2454 - accuracy: 0.8587 - auc: 0.8954 - recall: 0.9969 - precision: 0.2441 - val_loss: 0.5525 - val_accuracy: 0.7484 - val_auc: 0.8612 - val_recall: 0.9900 - val_precision: 0.2383 - lr: 3.5000e-04\n",
      "Epoch 15/40\n",
      "139/139 [==============================] - 17s 109ms/step - loss: 0.1870 - accuracy: 0.8907 - auc: 0.8980 - recall: 0.9981 - precision: 0.2411 - val_loss: 0.5395 - val_accuracy: 0.7676 - val_auc: 0.8668 - val_recall: 0.9921 - val_precision: 0.2373 - lr: 1.4000e-04\n",
      "Epoch 16/40\n",
      "139/139 [==============================] - 17s 110ms/step - loss: 0.1786 - accuracy: 0.8966 - auc: 0.8992 - recall: 0.9987 - precision: 0.2432 - val_loss: 0.5311 - val_accuracy: 0.7661 - val_auc: 0.8670 - val_recall: 0.9921 - val_precision: 0.2357 - lr: 1.4000e-04\n",
      "Epoch 17/40\n",
      "139/139 [==============================] - 17s 109ms/step - loss: 0.1551 - accuracy: 0.9077 - auc: 0.9003 - recall: 0.9988 - precision: 0.2419 - val_loss: 0.5450 - val_accuracy: 0.7721 - val_auc: 0.8648 - val_recall: 0.9913 - val_precision: 0.2398 - lr: 1.4000e-04\n",
      "Epoch 18/40\n",
      "139/139 [==============================] - 18s 115ms/step - loss: 0.1563 - accuracy: 0.9105 - auc: 0.8984 - recall: 0.9985 - precision: 0.2459 - val_loss: 0.5353 - val_accuracy: 0.7729 - val_auc: 0.8682 - val_recall: 0.9918 - val_precision: 0.2391 - lr: 1.4000e-04\n",
      "Epoch 19/40\n",
      "139/139 [==============================] - 17s 110ms/step - loss: 0.1408 - accuracy: 0.9192 - auc: 0.9011 - recall: 0.9982 - precision: 0.2472 - val_loss: 0.5208 - val_accuracy: 0.7861 - val_auc: 0.8696 - val_recall: 0.9918 - val_precision: 0.2425 - lr: 5.6000e-05\n",
      "Epoch 20/40\n",
      "139/139 [==============================] - 17s 110ms/step - loss: 0.1338 - accuracy: 0.9240 - auc: 0.9006 - recall: 0.9986 - precision: 0.2462 - val_loss: 0.5246 - val_accuracy: 0.7871 - val_auc: 0.8714 - val_recall: 0.9913 - val_precision: 0.2434 - lr: 5.6000e-05\n",
      "Epoch 21/40\n",
      "139/139 [==============================] - 17s 110ms/step - loss: 0.1260 - accuracy: 0.9264 - auc: 0.9025 - recall: 0.9988 - precision: 0.2465 - val_loss: 0.5429 - val_accuracy: 0.7816 - val_auc: 0.8709 - val_recall: 0.9913 - val_precision: 0.2424 - lr: 5.6000e-05\n",
      "Epoch 22/40\n",
      "139/139 [==============================] - 17s 109ms/step - loss: 0.1169 - accuracy: 0.9322 - auc: 0.9012 - recall: 0.9989 - precision: 0.2458 - val_loss: 0.5619 - val_accuracy: 0.7903 - val_auc: 0.8692 - val_recall: 0.9903 - val_precision: 0.2431 - lr: 5.6000e-05\n",
      "Epoch 23/40\n",
      "139/139 [==============================] - 17s 109ms/step - loss: 0.1135 - accuracy: 0.9350 - auc: 0.9015 - recall: 0.9990 - precision: 0.2456 - val_loss: 0.5438 - val_accuracy: 0.7882 - val_auc: 0.8711 - val_recall: 0.9911 - val_precision: 0.2429 - lr: 2.2400e-05\n",
      "Epoch 24/40\n",
      "139/139 [==============================] - 17s 108ms/step - loss: 0.1153 - accuracy: 0.9344 - auc: 0.9001 - recall: 0.9985 - precision: 0.2463 - val_loss: 0.5389 - val_accuracy: 0.7889 - val_auc: 0.8721 - val_recall: 0.9916 - val_precision: 0.2418 - lr: 2.2400e-05\n",
      "Epoch 25/40\n",
      "139/139 [==============================] - 17s 111ms/step - loss: 0.1043 - accuracy: 0.9390 - auc: 0.9028 - recall: 0.9992 - precision: 0.2458 - val_loss: 0.5549 - val_accuracy: 0.7847 - val_auc: 0.8721 - val_recall: 0.9908 - val_precision: 0.2424 - lr: 2.2400e-05\n",
      "Epoch 26/40\n",
      "139/139 [==============================] - 17s 111ms/step - loss: 0.1082 - accuracy: 0.9382 - auc: 0.9040 - recall: 0.9988 - precision: 0.2462 - val_loss: 0.5540 - val_accuracy: 0.7892 - val_auc: 0.8714 - val_recall: 0.9897 - val_precision: 0.2430 - lr: 2.2400e-05\n",
      "Epoch 27/40\n",
      "139/139 [==============================] - 17s 112ms/step - loss: 0.1067 - accuracy: 0.9401 - auc: 0.9024 - recall: 0.9990 - precision: 0.2454 - val_loss: 0.5499 - val_accuracy: 0.7900 - val_auc: 0.8708 - val_recall: 0.9911 - val_precision: 0.2427 - lr: 8.9600e-06\n",
      "Epoch 28/40\n",
      "139/139 [==============================] - 17s 110ms/step - loss: 0.1054 - accuracy: 0.9410 - auc: 0.9022 - recall: 0.9992 - precision: 0.2458 - val_loss: 0.5523 - val_accuracy: 0.7895 - val_auc: 0.8700 - val_recall: 0.9908 - val_precision: 0.2428 - lr: 8.9600e-06\n",
      "Epoch 29/40\n",
      "139/139 [==============================] - 17s 109ms/step - loss: 0.1035 - accuracy: 0.9406 - auc: 0.9026 - recall: 0.9984 - precision: 0.2454 - val_loss: 0.5558 - val_accuracy: 0.7903 - val_auc: 0.8701 - val_recall: 0.9905 - val_precision: 0.2428 - lr: 8.9600e-06\n",
      "Epoch 30/40\n",
      "139/139 [==============================] - 17s 110ms/step - loss: 0.1007 - accuracy: 0.9418 - auc: 0.9035 - recall: 0.9990 - precision: 0.2457 - val_loss: 0.5502 - val_accuracy: 0.7955 - val_auc: 0.8716 - val_recall: 0.9908 - val_precision: 0.2422 - lr: 8.9600e-06\n",
      "Epoch 31/40\n",
      "139/139 [==============================] - 17s 110ms/step - loss: 0.0994 - accuracy: 0.9403 - auc: 0.9033 - recall: 0.9992 - precision: 0.2461 - val_loss: 0.5492 - val_accuracy: 0.7955 - val_auc: 0.8712 - val_recall: 0.9908 - val_precision: 0.2423 - lr: 3.5840e-06\n",
      "Epoch 32/40\n",
      "139/139 [==============================] - 17s 112ms/step - loss: 0.0980 - accuracy: 0.9446 - auc: 0.9025 - recall: 0.9986 - precision: 0.2461 - val_loss: 0.5511 - val_accuracy: 0.7913 - val_auc: 0.8701 - val_recall: 0.9903 - val_precision: 0.2421 - lr: 3.5840e-06\n",
      "Epoch 33/40\n",
      "139/139 [==============================] - 17s 108ms/step - loss: 0.1028 - accuracy: 0.9417 - auc: 0.9027 - recall: 0.9992 - precision: 0.2452 - val_loss: 0.5516 - val_accuracy: 0.7911 - val_auc: 0.8702 - val_recall: 0.9905 - val_precision: 0.2419 - lr: 3.5840e-06\n",
      "Epoch 34/40\n",
      "139/139 [==============================] - 18s 116ms/step - loss: 0.1042 - accuracy: 0.9430 - auc: 0.9010 - recall: 0.9989 - precision: 0.2457 - val_loss: 0.5529 - val_accuracy: 0.7903 - val_auc: 0.8693 - val_recall: 0.9903 - val_precision: 0.2421 - lr: 3.5840e-06\n",
      "Epoch 35/40\n",
      "139/139 [==============================] - 17s 110ms/step - loss: 0.1003 - accuracy: 0.9443 - auc: 0.9026 - recall: 0.9988 - precision: 0.2456 - val_loss: 0.5534 - val_accuracy: 0.7903 - val_auc: 0.8693 - val_recall: 0.9903 - val_precision: 0.2419 - lr: 1.4336e-06\n",
      "Epoch 36/40\n",
      "139/139 [==============================] - 17s 110ms/step - loss: 0.1012 - accuracy: 0.9412 - auc: 0.9011 - recall: 0.9989 - precision: 0.2455 - val_loss: 0.5534 - val_accuracy: 0.7900 - val_auc: 0.8689 - val_recall: 0.9903 - val_precision: 0.2419 - lr: 1.4336e-06\n",
      "Epoch 37/40\n",
      "139/139 [==============================] - 17s 110ms/step - loss: 0.1022 - accuracy: 0.9415 - auc: 0.9010 - recall: 0.9994 - precision: 0.2458 - val_loss: 0.5527 - val_accuracy: 0.7905 - val_auc: 0.8693 - val_recall: 0.9903 - val_precision: 0.2421 - lr: 1.4336e-06\n",
      "Epoch 38/40\n",
      "139/139 [==============================] - 17s 111ms/step - loss: 0.1021 - accuracy: 0.9443 - auc: 0.9019 - recall: 0.9987 - precision: 0.2456 - val_loss: 0.5526 - val_accuracy: 0.7911 - val_auc: 0.8693 - val_recall: 0.9905 - val_precision: 0.2422 - lr: 1.4336e-06\n",
      "Epoch 39/40\n",
      "139/139 [==============================] - 18s 113ms/step - loss: 0.0981 - accuracy: 0.9445 - auc: 0.9020 - recall: 0.9992 - precision: 0.2460 - val_loss: 0.5527 - val_accuracy: 0.7913 - val_auc: 0.8693 - val_recall: 0.9905 - val_precision: 0.2422 - lr: 5.7344e-07\n",
      "Epoch 40/40\n",
      "139/139 [==============================] - 17s 109ms/step - loss: 0.1050 - accuracy: 0.9410 - auc: 0.9017 - recall: 0.9987 - precision: 0.2457 - val_loss: 0.5521 - val_accuracy: 0.7911 - val_auc: 0.8693 - val_recall: 0.9905 - val_precision: 0.2421 - lr: 5.7344e-07\n"
     ]
    },
    {
     "data": {
      "text/plain": [
       "<keras.callbacks.History at 0x7f9b10b2b7f0>"
      ]
     },
     "execution_count": 18,
     "metadata": {},
     "output_type": "execute_result"
    }
   ],
   "source": [
    "model.fit(\n",
    "    train_ds,\n",
    "    epochs = EPOCHS,\n",
    "    callbacks = [csv_logger, tensorboard, checkpoint, reducelr],\n",
    "    validation_data = val_ds\n",
    ")"
   ]
  },
  {
   "cell_type": "code",
   "execution_count": 19,
   "id": "8d1bbe03",
   "metadata": {
    "execution": {
     "iopub.execute_input": "2023-06-15T03:47:38.861542Z",
     "iopub.status.busy": "2023-06-15T03:47:38.860471Z",
     "iopub.status.idle": "2023-06-15T03:48:07.357832Z",
     "shell.execute_reply": "2023-06-15T03:48:07.356475Z"
    },
    "papermill": {
     "duration": 29.00105,
     "end_time": "2023-06-15T03:48:07.363040",
     "exception": false,
     "start_time": "2023-06-15T03:47:38.361990",
     "status": "completed"
    },
    "tags": []
   },
   "outputs": [
    {
     "name": "stderr",
     "output_type": "stream",
     "text": [
      "WARNING:absl:Found untraced functions such as _update_step_xla, _jit_compiled_convolution_op, _jit_compiled_convolution_op, _jit_compiled_convolution_op, _jit_compiled_convolution_op while saving (showing 5 of 19). These functions will not be directly callable after loading.\n"
     ]
    },
    {
     "name": "stdout",
     "output_type": "stream",
     "text": [
      "INFO:tensorflow:Assets written to: /kaggle/working/focal_loss_unfreeze_last_two/assets\n"
     ]
    },
    {
     "name": "stderr",
     "output_type": "stream",
     "text": [
      "INFO:tensorflow:Assets written to: /kaggle/working/focal_loss_unfreeze_last_two/assets\n"
     ]
    }
   ],
   "source": [
    "model.save(os.path.join(SAVE_DIR,\"focal_loss_unfreeze_last_two\"))"
   ]
  },
  {
   "cell_type": "markdown",
   "id": "0986d4c1",
   "metadata": {
    "papermill": {
     "duration": 0.440311,
     "end_time": "2023-06-15T03:48:08.252187",
     "exception": false,
     "start_time": "2023-06-15T03:48:07.811876",
     "status": "completed"
    },
    "tags": []
   },
   "source": [
    "### Train model with weighted cross entropy"
   ]
  },
  {
   "cell_type": "code",
   "execution_count": 20,
   "id": "05407f55",
   "metadata": {
    "execution": {
     "iopub.execute_input": "2023-06-15T03:48:09.191542Z",
     "iopub.status.busy": "2023-06-15T03:48:09.191080Z",
     "iopub.status.idle": "2023-06-15T03:48:10.583042Z",
     "shell.execute_reply": "2023-06-15T03:48:10.581686Z"
    },
    "papermill": {
     "duration": 1.891646,
     "end_time": "2023-06-15T03:48:10.585794",
     "exception": false,
     "start_time": "2023-06-15T03:48:08.694148",
     "status": "completed"
    },
    "tags": []
   },
   "outputs": [
    {
     "data": {
      "text/plain": [
       "218127"
      ]
     },
     "execution_count": 20,
     "metadata": {},
     "output_type": "execute_result"
    }
   ],
   "source": [
    "keras.backend.clear_session()\n",
    "gc.collect()"
   ]
  },
  {
   "cell_type": "code",
   "execution_count": 21,
   "id": "40ba0cda",
   "metadata": {
    "execution": {
     "iopub.execute_input": "2023-06-15T03:48:11.520183Z",
     "iopub.status.busy": "2023-06-15T03:48:11.519095Z",
     "iopub.status.idle": "2023-06-15T03:48:20.039125Z",
     "shell.execute_reply": "2023-06-15T03:48:20.037809Z"
    },
    "papermill": {
     "duration": 9.010213,
     "end_time": "2023-06-15T03:48:20.042131",
     "exception": false,
     "start_time": "2023-06-15T03:48:11.031918",
     "status": "completed"
    },
    "tags": []
   },
   "outputs": [
    {
     "name": "stdout",
     "output_type": "stream",
     "text": [
      ">>>> Load pretrained from: /root/.keras/models/convnext_v2_nano_imagenet.h5\n"
     ]
    }
   ],
   "source": [
    "with strategy.scope():\n",
    "    model = get_model()"
   ]
  },
  {
   "cell_type": "code",
   "execution_count": 22,
   "id": "4c3c7009",
   "metadata": {
    "execution": {
     "iopub.execute_input": "2023-06-15T03:48:20.913541Z",
     "iopub.status.busy": "2023-06-15T03:48:20.913078Z",
     "iopub.status.idle": "2023-06-15T03:48:21.072485Z",
     "shell.execute_reply": "2023-06-15T03:48:21.071211Z"
    },
    "papermill": {
     "duration": 0.59912,
     "end_time": "2023-06-15T03:48:21.075223",
     "exception": false,
     "start_time": "2023-06-15T03:48:20.476103",
     "status": "completed"
    },
    "tags": []
   },
   "outputs": [],
   "source": [
    "with strategy.scope():\n",
    "    optimizer = keras.optimizers.Adam(\n",
    "        LR\n",
    "    )\n",
    "    \n",
    "    model.compile(\n",
    "        optimizer = optimizer,\n",
    "        loss = keras.losses.CategoricalCrossentropy(from_logits = True),\n",
    "        metrics = [\n",
    "            \"accuracy\",\n",
    "            keras.metrics.AUC(\n",
    "                multi_label = True,\n",
    "                from_logits = True,\n",
    "                num_labels = NUM_CLASSES\n",
    "            ),\n",
    "            keras.metrics.Recall(thresholds = 0),\n",
    "            keras.metrics.Precision(thresholds = 0)\n",
    "        ]\n",
    "    )"
   ]
  },
  {
   "cell_type": "code",
   "execution_count": 23,
   "id": "f7ba209f",
   "metadata": {
    "execution": {
     "iopub.execute_input": "2023-06-15T03:48:21.991017Z",
     "iopub.status.busy": "2023-06-15T03:48:21.990588Z",
     "iopub.status.idle": "2023-06-15T03:48:22.000270Z",
     "shell.execute_reply": "2023-06-15T03:48:21.999042Z"
    },
    "papermill": {
     "duration": 0.448196,
     "end_time": "2023-06-15T03:48:22.002380",
     "exception": false,
     "start_time": "2023-06-15T03:48:21.554184",
     "status": "completed"
    },
    "tags": []
   },
   "outputs": [],
   "source": [
    "with strategy.scope():\n",
    "    csv_logger = keras.callbacks.CSVLogger(os.path.join(SAVE_DIR, 'weighted_crossentropy_loss_unfreeze_last_two.csv'))\n",
    "    tensorboard = keras.callbacks.TensorBoard(os.path.join(SAVE_DIR, 'logs', 'weighted_crossentropy_loss_unfreeze_last_two/'))\n",
    "    checkpoint = keras.callbacks.ModelCheckpoint(os.path.join(SAVE_DIR, \"weighted-crossentropy-loss-unfreeze-last-two-at-epoch-{epoch:02d}.hdf5\"))\n",
    "    reducelr = keras.callbacks.ReduceLROnPlateau(monitor=\"val_loss\", factor=.4, patience=4, min_lr=1e-7)"
   ]
  },
  {
   "cell_type": "code",
   "execution_count": 24,
   "id": "de362eef",
   "metadata": {
    "execution": {
     "iopub.execute_input": "2023-06-15T03:48:22.879780Z",
     "iopub.status.busy": "2023-06-15T03:48:22.878606Z",
     "iopub.status.idle": "2023-06-15T04:01:37.973988Z",
     "shell.execute_reply": "2023-06-15T04:01:37.972756Z"
    },
    "papermill": {
     "duration": 795.538641,
     "end_time": "2023-06-15T04:01:37.976200",
     "exception": false,
     "start_time": "2023-06-15T03:48:22.437559",
     "status": "completed"
    },
    "tags": []
   },
   "outputs": [
    {
     "name": "stdout",
     "output_type": "stream",
     "text": [
      "Epoch 1/40\n"
     ]
    },
    {
     "name": "stderr",
     "output_type": "stream",
     "text": [
      "2023-06-15 03:48:41.329817: E tensorflow/core/grappler/optimizers/meta_optimizer.cc:954] model_pruner failed: INVALID_ARGUMENT: Graph does not contain terminal node Add_50/ReadVariableOp.\n",
      "2023-06-15 03:48:41.802049: E tensorflow/core/grappler/optimizers/meta_optimizer.cc:954] model_pruner failed: INVALID_ARGUMENT: Graph does not contain terminal node Add_50/ReadVariableOp.\n"
     ]
    },
    {
     "name": "stdout",
     "output_type": "stream",
     "text": [
      "139/139 [==============================] - ETA: 0s - loss: 0.4448 - accuracy: 0.4280 - auc: 0.7700 - recall: 0.8443 - precision: 0.2179"
     ]
    },
    {
     "name": "stderr",
     "output_type": "stream",
     "text": [
      "2023-06-15 03:49:39.144394: E tensorflow/core/grappler/optimizers/meta_optimizer.cc:954] model_pruner failed: INVALID_ARGUMENT: Graph does not contain terminal node Add/ReadVariableOp.\n",
      "2023-06-15 03:49:39.395799: E tensorflow/core/grappler/optimizers/meta_optimizer.cc:954] model_pruner failed: INVALID_ARGUMENT: Graph does not contain terminal node Add/ReadVariableOp.\n"
     ]
    },
    {
     "name": "stdout",
     "output_type": "stream",
     "text": [
      "139/139 [==============================] - 94s 353ms/step - loss: 0.4448 - accuracy: 0.4280 - auc: 0.7700 - recall: 0.8443 - precision: 0.2179 - val_loss: 1.0842 - val_accuracy: 0.6229 - val_auc: 0.8543 - val_recall: 0.9232 - val_precision: 0.2759 - lr: 3.5000e-04\n",
      "Epoch 2/40\n",
      "139/139 [==============================] - 17s 108ms/step - loss: 0.3438 - accuracy: 0.5387 - auc: 0.8517 - recall: 0.9201 - precision: 0.2488 - val_loss: 1.2595 - val_accuracy: 0.5505 - val_auc: 0.8794 - val_recall: 0.9187 - val_precision: 0.2449 - lr: 3.5000e-04\n",
      "Epoch 3/40\n",
      "139/139 [==============================] - 17s 109ms/step - loss: 0.3011 - accuracy: 0.5766 - auc: 0.8740 - recall: 0.9368 - precision: 0.2597 - val_loss: 1.1787 - val_accuracy: 0.5526 - val_auc: 0.8796 - val_recall: 0.9526 - val_precision: 0.2510 - lr: 3.5000e-04\n",
      "Epoch 4/40\n",
      "139/139 [==============================] - 17s 108ms/step - loss: 0.2761 - accuracy: 0.6008 - auc: 0.8853 - recall: 0.9504 - precision: 0.2648 - val_loss: 1.0342 - val_accuracy: 0.6192 - val_auc: 0.8949 - val_recall: 0.9563 - val_precision: 0.2697 - lr: 3.5000e-04\n",
      "Epoch 5/40\n",
      "139/139 [==============================] - 18s 115ms/step - loss: 0.2462 - accuracy: 0.6211 - auc: 0.8943 - recall: 0.9593 - precision: 0.2649 - val_loss: 1.1559 - val_accuracy: 0.5974 - val_auc: 0.8892 - val_recall: 0.9392 - val_precision: 0.2691 - lr: 3.5000e-04\n",
      "Epoch 6/40\n",
      "139/139 [==============================] - 17s 109ms/step - loss: 0.2350 - accuracy: 0.6424 - auc: 0.9003 - recall: 0.9645 - precision: 0.2697 - val_loss: 1.0700 - val_accuracy: 0.6224 - val_auc: 0.8972 - val_recall: 0.9561 - val_precision: 0.2776 - lr: 3.5000e-04\n",
      "Epoch 7/40\n",
      "139/139 [==============================] - 17s 112ms/step - loss: 0.2055 - accuracy: 0.6777 - auc: 0.9087 - recall: 0.9721 - precision: 0.2745 - val_loss: 0.9594 - val_accuracy: 0.6568 - val_auc: 0.8972 - val_recall: 0.9616 - val_precision: 0.2794 - lr: 3.5000e-04\n",
      "Epoch 8/40\n",
      "139/139 [==============================] - 17s 110ms/step - loss: 0.1899 - accuracy: 0.6904 - auc: 0.9123 - recall: 0.9763 - precision: 0.2773 - val_loss: 0.8525 - val_accuracy: 0.6845 - val_auc: 0.8983 - val_recall: 0.9771 - val_precision: 0.2840 - lr: 3.5000e-04\n",
      "Epoch 9/40\n",
      "139/139 [==============================] - 17s 112ms/step - loss: 0.1849 - accuracy: 0.6956 - auc: 0.9172 - recall: 0.9749 - precision: 0.2804 - val_loss: 0.8431 - val_accuracy: 0.6997 - val_auc: 0.9074 - val_recall: 0.9763 - val_precision: 0.2804 - lr: 3.5000e-04\n",
      "Epoch 10/40\n",
      "139/139 [==============================] - 17s 110ms/step - loss: 0.1813 - accuracy: 0.7072 - auc: 0.9201 - recall: 0.9754 - precision: 0.2837 - val_loss: 0.8875 - val_accuracy: 0.6766 - val_auc: 0.8997 - val_recall: 0.9768 - val_precision: 0.2875 - lr: 3.5000e-04\n",
      "Epoch 11/40\n",
      "139/139 [==============================] - 17s 110ms/step - loss: 0.1638 - accuracy: 0.7248 - auc: 0.9200 - recall: 0.9808 - precision: 0.2775 - val_loss: 0.9491 - val_accuracy: 0.6834 - val_auc: 0.9053 - val_recall: 0.9679 - val_precision: 0.2850 - lr: 3.5000e-04\n",
      "Epoch 12/40\n",
      "139/139 [==============================] - 17s 111ms/step - loss: 0.1525 - accuracy: 0.7409 - auc: 0.9198 - recall: 0.9830 - precision: 0.2803 - val_loss: 0.8079 - val_accuracy: 0.7097 - val_auc: 0.9026 - val_recall: 0.9763 - val_precision: 0.2846 - lr: 3.5000e-04\n",
      "Epoch 13/40\n",
      "139/139 [==============================] - 17s 112ms/step - loss: 0.1416 - accuracy: 0.7457 - auc: 0.9262 - recall: 0.9849 - precision: 0.2855 - val_loss: 0.9129 - val_accuracy: 0.6679 - val_auc: 0.9082 - val_recall: 0.9755 - val_precision: 0.2890 - lr: 3.5000e-04\n",
      "Epoch 14/40\n",
      "139/139 [==============================] - 17s 111ms/step - loss: 0.1315 - accuracy: 0.7621 - auc: 0.9284 - recall: 0.9867 - precision: 0.2859 - val_loss: 0.8446 - val_accuracy: 0.7089 - val_auc: 0.8999 - val_recall: 0.9829 - val_precision: 0.2799 - lr: 3.5000e-04\n",
      "Epoch 15/40\n",
      "139/139 [==============================] - 17s 110ms/step - loss: 0.1442 - accuracy: 0.7408 - auc: 0.9232 - recall: 0.9820 - precision: 0.2810 - val_loss: 0.9100 - val_accuracy: 0.6858 - val_auc: 0.8960 - val_recall: 0.9758 - val_precision: 0.2818 - lr: 3.5000e-04\n",
      "Epoch 16/40\n",
      "139/139 [==============================] - 17s 109ms/step - loss: 0.1203 - accuracy: 0.7797 - auc: 0.9278 - recall: 0.9880 - precision: 0.2803 - val_loss: 0.7724 - val_accuracy: 0.7395 - val_auc: 0.9052 - val_recall: 0.9839 - val_precision: 0.2861 - lr: 3.5000e-04\n",
      "Epoch 17/40\n",
      "139/139 [==============================] - 17s 111ms/step - loss: 0.1167 - accuracy: 0.7776 - auc: 0.9318 - recall: 0.9888 - precision: 0.2901 - val_loss: 0.9203 - val_accuracy: 0.6747 - val_auc: 0.9072 - val_recall: 0.9784 - val_precision: 0.2925 - lr: 3.5000e-04\n",
      "Epoch 18/40\n",
      "139/139 [==============================] - 17s 110ms/step - loss: 0.1195 - accuracy: 0.7860 - auc: 0.9349 - recall: 0.9902 - precision: 0.2915 - val_loss: 0.8119 - val_accuracy: 0.7232 - val_auc: 0.9019 - val_recall: 0.9818 - val_precision: 0.2862 - lr: 3.5000e-04\n",
      "Epoch 19/40\n",
      "139/139 [==============================] - 17s 110ms/step - loss: 0.1157 - accuracy: 0.7923 - auc: 0.9298 - recall: 0.9911 - precision: 0.2882 - val_loss: 0.9032 - val_accuracy: 0.7066 - val_auc: 0.9032 - val_recall: 0.9729 - val_precision: 0.2929 - lr: 3.5000e-04\n",
      "Epoch 20/40\n",
      "139/139 [==============================] - 17s 111ms/step - loss: 0.1116 - accuracy: 0.7974 - auc: 0.9335 - recall: 0.9895 - precision: 0.2884 - val_loss: 0.8521 - val_accuracy: 0.7179 - val_auc: 0.9057 - val_recall: 0.9821 - val_precision: 0.2893 - lr: 3.5000e-04\n",
      "Epoch 21/40\n",
      "139/139 [==============================] - 17s 112ms/step - loss: 0.0977 - accuracy: 0.8232 - auc: 0.9341 - recall: 0.9937 - precision: 0.2895 - val_loss: 0.7829 - val_accuracy: 0.7347 - val_auc: 0.9069 - val_recall: 0.9858 - val_precision: 0.2890 - lr: 1.4000e-04\n",
      "Epoch 22/40\n",
      "139/139 [==============================] - 17s 108ms/step - loss: 0.0781 - accuracy: 0.8375 - auc: 0.9362 - recall: 0.9939 - precision: 0.2899 - val_loss: 0.8650 - val_accuracy: 0.7163 - val_auc: 0.9039 - val_recall: 0.9837 - val_precision: 0.2893 - lr: 1.4000e-04\n",
      "Epoch 23/40\n",
      "139/139 [==============================] - 17s 108ms/step - loss: 0.0767 - accuracy: 0.8513 - auc: 0.9405 - recall: 0.9950 - precision: 0.2928 - val_loss: 0.8092 - val_accuracy: 0.7387 - val_auc: 0.9068 - val_recall: 0.9847 - val_precision: 0.2912 - lr: 1.4000e-04\n",
      "Epoch 24/40\n",
      "139/139 [==============================] - 17s 111ms/step - loss: 0.0780 - accuracy: 0.8533 - auc: 0.9383 - recall: 0.9946 - precision: 0.2953 - val_loss: 0.8102 - val_accuracy: 0.7442 - val_auc: 0.9062 - val_recall: 0.9813 - val_precision: 0.2968 - lr: 1.4000e-04\n",
      "Epoch 25/40\n",
      "139/139 [==============================] - 17s 110ms/step - loss: 0.0696 - accuracy: 0.8665 - auc: 0.9380 - recall: 0.9943 - precision: 0.2972 - val_loss: 0.7938 - val_accuracy: 0.7526 - val_auc: 0.9059 - val_recall: 0.9834 - val_precision: 0.2953 - lr: 5.6000e-05\n",
      "Epoch 26/40\n",
      "139/139 [==============================] - 17s 111ms/step - loss: 0.0676 - accuracy: 0.8658 - auc: 0.9402 - recall: 0.9943 - precision: 0.2965 - val_loss: 0.7873 - val_accuracy: 0.7532 - val_auc: 0.9085 - val_recall: 0.9839 - val_precision: 0.2955 - lr: 5.6000e-05\n",
      "Epoch 27/40\n",
      "139/139 [==============================] - 17s 111ms/step - loss: 0.0616 - accuracy: 0.8738 - auc: 0.9396 - recall: 0.9954 - precision: 0.2994 - val_loss: 0.7948 - val_accuracy: 0.7576 - val_auc: 0.9081 - val_recall: 0.9839 - val_precision: 0.2986 - lr: 5.6000e-05\n",
      "Epoch 28/40\n",
      "139/139 [==============================] - 17s 111ms/step - loss: 0.0604 - accuracy: 0.8807 - auc: 0.9389 - recall: 0.9957 - precision: 0.3015 - val_loss: 0.8022 - val_accuracy: 0.7542 - val_auc: 0.9053 - val_recall: 0.9837 - val_precision: 0.2972 - lr: 5.6000e-05\n",
      "Epoch 29/40\n",
      "139/139 [==============================] - 17s 110ms/step - loss: 0.0588 - accuracy: 0.8811 - auc: 0.9396 - recall: 0.9945 - precision: 0.3031 - val_loss: 0.7887 - val_accuracy: 0.7632 - val_auc: 0.9069 - val_recall: 0.9834 - val_precision: 0.2993 - lr: 2.2400e-05\n",
      "Epoch 30/40\n",
      "139/139 [==============================] - 17s 110ms/step - loss: 0.0580 - accuracy: 0.8807 - auc: 0.9390 - recall: 0.9949 - precision: 0.3030 - val_loss: 0.7994 - val_accuracy: 0.7613 - val_auc: 0.9076 - val_recall: 0.9829 - val_precision: 0.3004 - lr: 2.2400e-05\n",
      "Epoch 31/40\n",
      "139/139 [==============================] - 17s 109ms/step - loss: 0.0577 - accuracy: 0.8802 - auc: 0.9403 - recall: 0.9949 - precision: 0.3037 - val_loss: 0.8011 - val_accuracy: 0.7637 - val_auc: 0.9076 - val_recall: 0.9834 - val_precision: 0.3024 - lr: 2.2400e-05\n",
      "Epoch 32/40\n",
      "139/139 [==============================] - 17s 111ms/step - loss: 0.0579 - accuracy: 0.8859 - auc: 0.9399 - recall: 0.9941 - precision: 0.3065 - val_loss: 0.7862 - val_accuracy: 0.7674 - val_auc: 0.9084 - val_recall: 0.9845 - val_precision: 0.3034 - lr: 2.2400e-05\n",
      "Epoch 33/40\n",
      "139/139 [==============================] - 17s 111ms/step - loss: 0.0549 - accuracy: 0.8866 - auc: 0.9406 - recall: 0.9951 - precision: 0.3046 - val_loss: 0.7936 - val_accuracy: 0.7600 - val_auc: 0.9073 - val_recall: 0.9845 - val_precision: 0.3004 - lr: 8.9600e-06\n",
      "Epoch 34/40\n",
      "139/139 [==============================] - 18s 113ms/step - loss: 0.0542 - accuracy: 0.8861 - auc: 0.9401 - recall: 0.9958 - precision: 0.3053 - val_loss: 0.7959 - val_accuracy: 0.7629 - val_auc: 0.9067 - val_recall: 0.9855 - val_precision: 0.3003 - lr: 8.9600e-06\n",
      "Epoch 35/40\n",
      "139/139 [==============================] - 17s 110ms/step - loss: 0.0541 - accuracy: 0.8886 - auc: 0.9392 - recall: 0.9950 - precision: 0.3048 - val_loss: 0.7996 - val_accuracy: 0.7605 - val_auc: 0.9065 - val_recall: 0.9855 - val_precision: 0.3005 - lr: 8.9600e-06\n",
      "Epoch 36/40\n",
      "139/139 [==============================] - 17s 111ms/step - loss: 0.0549 - accuracy: 0.8903 - auc: 0.9391 - recall: 0.9957 - precision: 0.3047 - val_loss: 0.8029 - val_accuracy: 0.7595 - val_auc: 0.9065 - val_recall: 0.9850 - val_precision: 0.3004 - lr: 8.9600e-06\n",
      "Epoch 37/40\n",
      "139/139 [==============================] - 17s 111ms/step - loss: 0.0552 - accuracy: 0.8924 - auc: 0.9393 - recall: 0.9955 - precision: 0.3050 - val_loss: 0.8014 - val_accuracy: 0.7611 - val_auc: 0.9067 - val_recall: 0.9855 - val_precision: 0.3002 - lr: 3.5840e-06\n",
      "Epoch 38/40\n",
      "139/139 [==============================] - 17s 110ms/step - loss: 0.0503 - accuracy: 0.8913 - auc: 0.9394 - recall: 0.9951 - precision: 0.3042 - val_loss: 0.8012 - val_accuracy: 0.7629 - val_auc: 0.9063 - val_recall: 0.9853 - val_precision: 0.2997 - lr: 3.5840e-06\n",
      "Epoch 39/40\n",
      "139/139 [==============================] - 17s 110ms/step - loss: 0.0544 - accuracy: 0.8908 - auc: 0.9395 - recall: 0.9954 - precision: 0.3041 - val_loss: 0.8019 - val_accuracy: 0.7632 - val_auc: 0.9062 - val_recall: 0.9850 - val_precision: 0.2999 - lr: 3.5840e-06\n",
      "Epoch 40/40\n",
      "139/139 [==============================] - 17s 112ms/step - loss: 0.0556 - accuracy: 0.8873 - auc: 0.9393 - recall: 0.9958 - precision: 0.3053 - val_loss: 0.8022 - val_accuracy: 0.7611 - val_auc: 0.9062 - val_recall: 0.9855 - val_precision: 0.2994 - lr: 3.5840e-06\n"
     ]
    },
    {
     "data": {
      "text/plain": [
       "<keras.callbacks.History at 0x7f95d7d39130>"
      ]
     },
     "execution_count": 24,
     "metadata": {},
     "output_type": "execute_result"
    }
   ],
   "source": [
    "model.fit(\n",
    "    train_ds,\n",
    "    epochs = EPOCHS,\n",
    "    callbacks = [csv_logger, tensorboard, checkpoint, reducelr],\n",
    "    class_weight = class_weight,\n",
    "    validation_data = val_ds\n",
    ")"
   ]
  },
  {
   "cell_type": "code",
   "execution_count": 25,
   "id": "f114cf8b",
   "metadata": {
    "execution": {
     "iopub.execute_input": "2023-06-15T04:01:39.775384Z",
     "iopub.status.busy": "2023-06-15T04:01:39.774679Z",
     "iopub.status.idle": "2023-06-15T04:02:08.144782Z",
     "shell.execute_reply": "2023-06-15T04:02:08.143317Z"
    },
    "papermill": {
     "duration": 29.299664,
     "end_time": "2023-06-15T04:02:08.150400",
     "exception": false,
     "start_time": "2023-06-15T04:01:38.850736",
     "status": "completed"
    },
    "tags": []
   },
   "outputs": [
    {
     "name": "stderr",
     "output_type": "stream",
     "text": [
      "WARNING:absl:Found untraced functions such as _update_step_xla, _jit_compiled_convolution_op, _jit_compiled_convolution_op, _jit_compiled_convolution_op, _jit_compiled_convolution_op while saving (showing 5 of 19). These functions will not be directly callable after loading.\n"
     ]
    },
    {
     "name": "stdout",
     "output_type": "stream",
     "text": [
      "INFO:tensorflow:Assets written to: /kaggle/working/weighted_crossentropy_loss_unfreeze_last_two/assets\n"
     ]
    },
    {
     "name": "stderr",
     "output_type": "stream",
     "text": [
      "INFO:tensorflow:Assets written to: /kaggle/working/weighted_crossentropy_loss_unfreeze_last_two/assets\n"
     ]
    }
   ],
   "source": [
    "model.save(os.path.join(SAVE_DIR,\"weighted_crossentropy_loss_unfreeze_last_two\"))"
   ]
  },
  {
   "cell_type": "markdown",
   "id": "19831675",
   "metadata": {
    "papermill": {
     "duration": 0.964218,
     "end_time": "2023-06-15T04:02:10.024870",
     "exception": false,
     "start_time": "2023-06-15T04:02:09.060652",
     "status": "completed"
    },
    "tags": []
   },
   "source": [
    "### Train focal loss model with three last blocks being trainable"
   ]
  },
  {
   "cell_type": "code",
   "execution_count": 26,
   "id": "99ffd36c",
   "metadata": {
    "execution": {
     "iopub.execute_input": "2023-06-15T04:02:11.837307Z",
     "iopub.status.busy": "2023-06-15T04:02:11.836858Z",
     "iopub.status.idle": "2023-06-15T04:02:13.688687Z",
     "shell.execute_reply": "2023-06-15T04:02:13.687243Z"
    },
    "papermill": {
     "duration": 2.78706,
     "end_time": "2023-06-15T04:02:13.691072",
     "exception": false,
     "start_time": "2023-06-15T04:02:10.904012",
     "status": "completed"
    },
    "tags": []
   },
   "outputs": [
    {
     "data": {
      "text/plain": [
       "218199"
      ]
     },
     "execution_count": 26,
     "metadata": {},
     "output_type": "execute_result"
    }
   ],
   "source": [
    "keras.backend.clear_session()\n",
    "gc.collect()"
   ]
  },
  {
   "cell_type": "code",
   "execution_count": 27,
   "id": "5ab432a0",
   "metadata": {
    "execution": {
     "iopub.execute_input": "2023-06-15T04:02:15.460963Z",
     "iopub.status.busy": "2023-06-15T04:02:15.460401Z",
     "iopub.status.idle": "2023-06-15T04:02:24.115352Z",
     "shell.execute_reply": "2023-06-15T04:02:24.113988Z"
    },
    "papermill": {
     "duration": 9.559919,
     "end_time": "2023-06-15T04:02:24.118465",
     "exception": false,
     "start_time": "2023-06-15T04:02:14.558546",
     "status": "completed"
    },
    "tags": []
   },
   "outputs": [
    {
     "name": "stdout",
     "output_type": "stream",
     "text": [
      ">>>> Load pretrained from: /root/.keras/models/convnext_v2_nano_imagenet.h5\n"
     ]
    }
   ],
   "source": [
    "with strategy.scope():\n",
    "    model = get_model(trainable_blocks = ['stack4_block2', 'stack4_block1', 'stack4_downsample', 'stack3_block8'])"
   ]
  },
  {
   "cell_type": "code",
   "execution_count": 28,
   "id": "e28587cb",
   "metadata": {
    "execution": {
     "iopub.execute_input": "2023-06-15T04:02:25.944294Z",
     "iopub.status.busy": "2023-06-15T04:02:25.943833Z",
     "iopub.status.idle": "2023-06-15T04:02:26.124594Z",
     "shell.execute_reply": "2023-06-15T04:02:26.123213Z"
    },
    "papermill": {
     "duration": 1.066435,
     "end_time": "2023-06-15T04:02:26.127696",
     "exception": false,
     "start_time": "2023-06-15T04:02:25.061261",
     "status": "completed"
    },
    "tags": []
   },
   "outputs": [],
   "source": [
    "with strategy.scope():\n",
    "    optimizer = keras.optimizers.Adam(\n",
    "        LR\n",
    "    )\n",
    "    \n",
    "    model.compile(\n",
    "        optimizer = optimizer,\n",
    "        loss = dermis_utils.losses.CategoricalFocalCrossentropy(gamma = 1., from_logits = True),\n",
    "        metrics = [\n",
    "            \"accuracy\",\n",
    "            keras.metrics.AUC(\n",
    "                multi_label = True,\n",
    "                from_logits = True,\n",
    "                num_labels = NUM_CLASSES\n",
    "            ),\n",
    "            keras.metrics.Recall(thresholds = 0),\n",
    "            keras.metrics.Precision(thresholds = 0)\n",
    "        ]\n",
    "    )"
   ]
  },
  {
   "cell_type": "code",
   "execution_count": 29,
   "id": "c30c0511",
   "metadata": {
    "execution": {
     "iopub.execute_input": "2023-06-15T04:02:27.919620Z",
     "iopub.status.busy": "2023-06-15T04:02:27.918496Z",
     "iopub.status.idle": "2023-06-15T04:02:27.928347Z",
     "shell.execute_reply": "2023-06-15T04:02:27.927196Z"
    },
    "papermill": {
     "duration": 0.884297,
     "end_time": "2023-06-15T04:02:27.930455",
     "exception": false,
     "start_time": "2023-06-15T04:02:27.046158",
     "status": "completed"
    },
    "tags": []
   },
   "outputs": [],
   "source": [
    "with strategy.scope():\n",
    "    \n",
    "    csv_logger = keras.callbacks.CSVLogger(os.path.join(SAVE_DIR, 'focal_loss_unfreeze_last_three.csv'))\n",
    "    tensorboard = keras.callbacks.TensorBoard(os.path.join(SAVE_DIR, 'logs', 'focal_loss_unfreeze_last_three/'))\n",
    "    checkpoint = keras.callbacks.ModelCheckpoint(os.path.join(SAVE_DIR, \"focal-loss-unfreeze-last-three-at-epoch-{epoch:02d}.hdf5\"))\n",
    "    reducelr = keras.callbacks.ReduceLROnPlateau(monitor=\"val_loss\", factor=.4, patience=4, min_lr=1e-7)"
   ]
  },
  {
   "cell_type": "code",
   "execution_count": 30,
   "id": "c4ac796f",
   "metadata": {
    "execution": {
     "iopub.execute_input": "2023-06-15T04:02:29.812422Z",
     "iopub.status.busy": "2023-06-15T04:02:29.811151Z",
     "iopub.status.idle": "2023-06-15T04:16:03.228669Z",
     "shell.execute_reply": "2023-06-15T04:16:03.227304Z"
    },
    "papermill": {
     "duration": 814.347123,
     "end_time": "2023-06-15T04:16:03.231143",
     "exception": false,
     "start_time": "2023-06-15T04:02:28.884020",
     "status": "completed"
    },
    "tags": []
   },
   "outputs": [
    {
     "name": "stdout",
     "output_type": "stream",
     "text": [
      "Epoch 1/40\n"
     ]
    },
    {
     "name": "stderr",
     "output_type": "stream",
     "text": [
      "2023-06-15 04:02:49.417448: E tensorflow/core/grappler/optimizers/meta_optimizer.cc:954] model_pruner failed: INVALID_ARGUMENT: Graph does not contain terminal node Add_78/ReadVariableOp.\n",
      "2023-06-15 04:02:49.897253: E tensorflow/core/grappler/optimizers/meta_optimizer.cc:954] model_pruner failed: INVALID_ARGUMENT: Graph does not contain terminal node Add_78/ReadVariableOp.\n"
     ]
    },
    {
     "name": "stdout",
     "output_type": "stream",
     "text": [
      "139/139 [==============================] - ETA: 0s - loss: 0.8715 - accuracy: 0.6066 - auc: 0.7105 - recall: 0.9174 - precision: 0.2626"
     ]
    },
    {
     "name": "stderr",
     "output_type": "stream",
     "text": [
      "2023-06-15 04:03:53.010533: E tensorflow/core/grappler/optimizers/meta_optimizer.cc:954] model_pruner failed: INVALID_ARGUMENT: Graph does not contain terminal node Add/ReadVariableOp.\n",
      "2023-06-15 04:03:53.218302: E tensorflow/core/grappler/optimizers/meta_optimizer.cc:954] model_pruner failed: INVALID_ARGUMENT: Graph does not contain terminal node Add/ReadVariableOp.\n"
     ]
    },
    {
     "name": "stdout",
     "output_type": "stream",
     "text": [
      "139/139 [==============================] - 101s 386ms/step - loss: 0.8715 - accuracy: 0.6066 - auc: 0.7105 - recall: 0.9174 - precision: 0.2626 - val_loss: 0.6494 - val_accuracy: 0.6824 - val_auc: 0.8109 - val_recall: 0.9684 - val_precision: 0.2698 - lr: 3.5000e-04\n",
      "Epoch 2/40\n",
      "139/139 [==============================] - 17s 111ms/step - loss: 0.6522 - accuracy: 0.6835 - auc: 0.8084 - recall: 0.9634 - precision: 0.2654 - val_loss: 0.5951 - val_accuracy: 0.6987 - val_auc: 0.8513 - val_recall: 0.9776 - val_precision: 0.2640 - lr: 3.5000e-04\n",
      "Epoch 3/40\n",
      "139/139 [==============================] - 18s 114ms/step - loss: 0.5627 - accuracy: 0.7156 - auc: 0.8451 - recall: 0.9777 - precision: 0.2661 - val_loss: 0.5725 - val_accuracy: 0.7203 - val_auc: 0.8495 - val_recall: 0.9761 - val_precision: 0.2619 - lr: 3.5000e-04\n",
      "Epoch 4/40\n",
      "139/139 [==============================] - 17s 113ms/step - loss: 0.5163 - accuracy: 0.7324 - auc: 0.8662 - recall: 0.9794 - precision: 0.2708 - val_loss: 0.5347 - val_accuracy: 0.7324 - val_auc: 0.8631 - val_recall: 0.9839 - val_precision: 0.2608 - lr: 3.5000e-04\n",
      "Epoch 5/40\n",
      "139/139 [==============================] - 17s 111ms/step - loss: 0.4740 - accuracy: 0.7489 - auc: 0.8749 - recall: 0.9843 - precision: 0.2685 - val_loss: 0.5396 - val_accuracy: 0.7321 - val_auc: 0.8642 - val_recall: 0.9842 - val_precision: 0.2572 - lr: 3.5000e-04\n",
      "Epoch 6/40\n",
      "139/139 [==============================] - 18s 114ms/step - loss: 0.4344 - accuracy: 0.7704 - auc: 0.8819 - recall: 0.9892 - precision: 0.2665 - val_loss: 0.5253 - val_accuracy: 0.7347 - val_auc: 0.8674 - val_recall: 0.9839 - val_precision: 0.2686 - lr: 3.5000e-04\n",
      "Epoch 7/40\n",
      "139/139 [==============================] - 18s 112ms/step - loss: 0.4048 - accuracy: 0.7798 - auc: 0.8851 - recall: 0.9893 - precision: 0.2654 - val_loss: 0.5417 - val_accuracy: 0.7374 - val_auc: 0.8700 - val_recall: 0.9824 - val_precision: 0.2556 - lr: 3.5000e-04\n",
      "Epoch 8/40\n",
      "139/139 [==============================] - 17s 112ms/step - loss: 0.3780 - accuracy: 0.7911 - auc: 0.8931 - recall: 0.9920 - precision: 0.2646 - val_loss: 0.5005 - val_accuracy: 0.7468 - val_auc: 0.8741 - val_recall: 0.9884 - val_precision: 0.2577 - lr: 3.5000e-04\n",
      "Epoch 9/40\n",
      "139/139 [==============================] - 17s 112ms/step - loss: 0.3578 - accuracy: 0.8055 - auc: 0.8918 - recall: 0.9927 - precision: 0.2621 - val_loss: 0.4991 - val_accuracy: 0.7516 - val_auc: 0.8869 - val_recall: 0.9845 - val_precision: 0.2642 - lr: 3.5000e-04\n",
      "Epoch 10/40\n",
      "139/139 [==============================] - 18s 114ms/step - loss: 0.3240 - accuracy: 0.8190 - auc: 0.8984 - recall: 0.9945 - precision: 0.2644 - val_loss: 0.5091 - val_accuracy: 0.7568 - val_auc: 0.8674 - val_recall: 0.9858 - val_precision: 0.2532 - lr: 3.5000e-04\n",
      "Epoch 11/40\n",
      "139/139 [==============================] - 17s 111ms/step - loss: 0.3117 - accuracy: 0.8217 - auc: 0.9006 - recall: 0.9953 - precision: 0.2673 - val_loss: 0.5093 - val_accuracy: 0.7582 - val_auc: 0.8791 - val_recall: 0.9832 - val_precision: 0.2687 - lr: 3.5000e-04\n",
      "Epoch 12/40\n",
      "139/139 [==============================] - 18s 119ms/step - loss: 0.2959 - accuracy: 0.8283 - auc: 0.9029 - recall: 0.9957 - precision: 0.2636 - val_loss: 0.4930 - val_accuracy: 0.7632 - val_auc: 0.8778 - val_recall: 0.9847 - val_precision: 0.2676 - lr: 3.5000e-04\n",
      "Epoch 13/40\n",
      "139/139 [==============================] - 18s 114ms/step - loss: 0.2804 - accuracy: 0.8347 - auc: 0.9097 - recall: 0.9958 - precision: 0.2681 - val_loss: 0.5120 - val_accuracy: 0.7529 - val_auc: 0.8853 - val_recall: 0.9871 - val_precision: 0.2585 - lr: 3.5000e-04\n",
      "Epoch 14/40\n",
      "139/139 [==============================] - 17s 112ms/step - loss: 0.2625 - accuracy: 0.8479 - auc: 0.9117 - recall: 0.9961 - precision: 0.2678 - val_loss: 0.5323 - val_accuracy: 0.7624 - val_auc: 0.8749 - val_recall: 0.9847 - val_precision: 0.2677 - lr: 3.5000e-04\n",
      "Epoch 15/40\n",
      "139/139 [==============================] - 17s 112ms/step - loss: 0.2594 - accuracy: 0.8511 - auc: 0.9103 - recall: 0.9958 - precision: 0.2693 - val_loss: 0.4775 - val_accuracy: 0.7700 - val_auc: 0.8845 - val_recall: 0.9897 - val_precision: 0.2658 - lr: 3.5000e-04\n",
      "Epoch 16/40\n",
      "139/139 [==============================] - 17s 111ms/step - loss: 0.2444 - accuracy: 0.8556 - auc: 0.9116 - recall: 0.9964 - precision: 0.2683 - val_loss: 0.5014 - val_accuracy: 0.7705 - val_auc: 0.8799 - val_recall: 0.9861 - val_precision: 0.2643 - lr: 3.5000e-04\n",
      "Epoch 17/40\n",
      "139/139 [==============================] - 17s 112ms/step - loss: 0.2356 - accuracy: 0.8600 - auc: 0.9110 - recall: 0.9967 - precision: 0.2672 - val_loss: 0.5374 - val_accuracy: 0.7508 - val_auc: 0.8761 - val_recall: 0.9837 - val_precision: 0.2625 - lr: 3.5000e-04\n",
      "Epoch 18/40\n",
      "139/139 [==============================] - 17s 113ms/step - loss: 0.2221 - accuracy: 0.8697 - auc: 0.9146 - recall: 0.9975 - precision: 0.2687 - val_loss: 0.5057 - val_accuracy: 0.7724 - val_auc: 0.8858 - val_recall: 0.9882 - val_precision: 0.2604 - lr: 3.5000e-04\n",
      "Epoch 19/40\n",
      "139/139 [==============================] - 17s 112ms/step - loss: 0.2130 - accuracy: 0.8680 - auc: 0.9195 - recall: 0.9977 - precision: 0.2727 - val_loss: 0.5160 - val_accuracy: 0.7642 - val_auc: 0.8796 - val_recall: 0.9853 - val_precision: 0.2579 - lr: 3.5000e-04\n",
      "Epoch 20/40\n",
      "139/139 [==============================] - 18s 114ms/step - loss: 0.1812 - accuracy: 0.8894 - auc: 0.9170 - recall: 0.9976 - precision: 0.2695 - val_loss: 0.5142 - val_accuracy: 0.7850 - val_auc: 0.8822 - val_recall: 0.9855 - val_precision: 0.2759 - lr: 1.4000e-04\n",
      "Epoch 21/40\n",
      "139/139 [==============================] - 17s 113ms/step - loss: 0.1581 - accuracy: 0.9012 - auc: 0.9202 - recall: 0.9984 - precision: 0.2739 - val_loss: 0.4908 - val_accuracy: 0.7866 - val_auc: 0.8819 - val_recall: 0.9871 - val_precision: 0.2735 - lr: 1.4000e-04\n",
      "Epoch 22/40\n",
      "139/139 [==============================] - 17s 113ms/step - loss: 0.1503 - accuracy: 0.9100 - auc: 0.9226 - recall: 0.9981 - precision: 0.2755 - val_loss: 0.5288 - val_accuracy: 0.7829 - val_auc: 0.8829 - val_recall: 0.9879 - val_precision: 0.2686 - lr: 1.4000e-04\n",
      "Epoch 23/40\n",
      "139/139 [==============================] - 18s 114ms/step - loss: 0.1433 - accuracy: 0.9126 - auc: 0.9209 - recall: 0.9983 - precision: 0.2739 - val_loss: 0.5132 - val_accuracy: 0.7926 - val_auc: 0.8891 - val_recall: 0.9889 - val_precision: 0.2731 - lr: 1.4000e-04\n",
      "Epoch 24/40\n",
      "139/139 [==============================] - 18s 115ms/step - loss: 0.1350 - accuracy: 0.9197 - auc: 0.9222 - recall: 0.9989 - precision: 0.2751 - val_loss: 0.4952 - val_accuracy: 0.7947 - val_auc: 0.8891 - val_recall: 0.9887 - val_precision: 0.2729 - lr: 5.6000e-05\n",
      "Epoch 25/40\n",
      "139/139 [==============================] - 17s 112ms/step - loss: 0.1242 - accuracy: 0.9231 - auc: 0.9220 - recall: 0.9983 - precision: 0.2753 - val_loss: 0.5360 - val_accuracy: 0.7939 - val_auc: 0.8815 - val_recall: 0.9879 - val_precision: 0.2755 - lr: 5.6000e-05\n",
      "Epoch 26/40\n",
      "139/139 [==============================] - 17s 112ms/step - loss: 0.1232 - accuracy: 0.9248 - auc: 0.9210 - recall: 0.9986 - precision: 0.2751 - val_loss: 0.5164 - val_accuracy: 0.7958 - val_auc: 0.8856 - val_recall: 0.9882 - val_precision: 0.2757 - lr: 5.6000e-05\n",
      "Epoch 27/40\n",
      "139/139 [==============================] - 18s 120ms/step - loss: 0.1119 - accuracy: 0.9290 - auc: 0.9226 - recall: 0.9989 - precision: 0.2760 - val_loss: 0.5465 - val_accuracy: 0.8000 - val_auc: 0.8827 - val_recall: 0.9884 - val_precision: 0.2756 - lr: 5.6000e-05\n",
      "Epoch 28/40\n",
      "139/139 [==============================] - 17s 112ms/step - loss: 0.1155 - accuracy: 0.9273 - auc: 0.9212 - recall: 0.9986 - precision: 0.2750 - val_loss: 0.5250 - val_accuracy: 0.8026 - val_auc: 0.8852 - val_recall: 0.9900 - val_precision: 0.2735 - lr: 2.2400e-05\n",
      "Epoch 29/40\n",
      "139/139 [==============================] - 17s 112ms/step - loss: 0.1121 - accuracy: 0.9319 - auc: 0.9228 - recall: 0.9986 - precision: 0.2753 - val_loss: 0.5253 - val_accuracy: 0.8016 - val_auc: 0.8859 - val_recall: 0.9903 - val_precision: 0.2716 - lr: 2.2400e-05\n",
      "Epoch 30/40\n",
      "139/139 [==============================] - 17s 113ms/step - loss: 0.1104 - accuracy: 0.9317 - auc: 0.9226 - recall: 0.9987 - precision: 0.2739 - val_loss: 0.5292 - val_accuracy: 0.8032 - val_auc: 0.8878 - val_recall: 0.9892 - val_precision: 0.2718 - lr: 2.2400e-05\n",
      "Epoch 31/40\n",
      "139/139 [==============================] - 17s 111ms/step - loss: 0.1067 - accuracy: 0.9337 - auc: 0.9221 - recall: 0.9989 - precision: 0.2748 - val_loss: 0.5432 - val_accuracy: 0.7995 - val_auc: 0.8810 - val_recall: 0.9884 - val_precision: 0.2740 - lr: 2.2400e-05\n",
      "Epoch 32/40\n",
      "139/139 [==============================] - 17s 113ms/step - loss: 0.1032 - accuracy: 0.9331 - auc: 0.9212 - recall: 0.9992 - precision: 0.2746 - val_loss: 0.5335 - val_accuracy: 0.7992 - val_auc: 0.8827 - val_recall: 0.9892 - val_precision: 0.2738 - lr: 8.9600e-06\n",
      "Epoch 33/40\n",
      "139/139 [==============================] - 17s 111ms/step - loss: 0.1033 - accuracy: 0.9344 - auc: 0.9210 - recall: 0.9990 - precision: 0.2730 - val_loss: 0.5261 - val_accuracy: 0.7979 - val_auc: 0.8839 - val_recall: 0.9892 - val_precision: 0.2722 - lr: 8.9600e-06\n",
      "Epoch 34/40\n",
      "139/139 [==============================] - 18s 114ms/step - loss: 0.1019 - accuracy: 0.9364 - auc: 0.9220 - recall: 0.9989 - precision: 0.2745 - val_loss: 0.5360 - val_accuracy: 0.8024 - val_auc: 0.8831 - val_recall: 0.9889 - val_precision: 0.2742 - lr: 8.9600e-06\n",
      "Epoch 35/40\n",
      "139/139 [==============================] - 17s 112ms/step - loss: 0.1002 - accuracy: 0.9372 - auc: 0.9201 - recall: 0.9989 - precision: 0.2755 - val_loss: 0.5434 - val_accuracy: 0.8008 - val_auc: 0.8818 - val_recall: 0.9882 - val_precision: 0.2742 - lr: 8.9600e-06\n",
      "Epoch 36/40\n",
      "139/139 [==============================] - 18s 114ms/step - loss: 0.1081 - accuracy: 0.9327 - auc: 0.9197 - recall: 0.9986 - precision: 0.2746 - val_loss: 0.5365 - val_accuracy: 0.7995 - val_auc: 0.8827 - val_recall: 0.9889 - val_precision: 0.2730 - lr: 3.5840e-06\n",
      "Epoch 37/40\n",
      "139/139 [==============================] - 18s 114ms/step - loss: 0.1016 - accuracy: 0.9355 - auc: 0.9197 - recall: 0.9989 - precision: 0.2736 - val_loss: 0.5391 - val_accuracy: 0.7984 - val_auc: 0.8821 - val_recall: 0.9887 - val_precision: 0.2723 - lr: 3.5840e-06\n",
      "Epoch 38/40\n",
      "139/139 [==============================] - 17s 113ms/step - loss: 0.1029 - accuracy: 0.9365 - auc: 0.9194 - recall: 0.9987 - precision: 0.2743 - val_loss: 0.5420 - val_accuracy: 0.7984 - val_auc: 0.8824 - val_recall: 0.9884 - val_precision: 0.2727 - lr: 3.5840e-06\n",
      "Epoch 39/40\n",
      "139/139 [==============================] - 18s 120ms/step - loss: 0.0999 - accuracy: 0.9375 - auc: 0.9200 - recall: 0.9989 - precision: 0.2743 - val_loss: 0.5378 - val_accuracy: 0.7992 - val_auc: 0.8832 - val_recall: 0.9884 - val_precision: 0.2728 - lr: 3.5840e-06\n",
      "Epoch 40/40\n",
      "139/139 [==============================] - 17s 113ms/step - loss: 0.1038 - accuracy: 0.9364 - auc: 0.9199 - recall: 0.9988 - precision: 0.2743 - val_loss: 0.5363 - val_accuracy: 0.8003 - val_auc: 0.8833 - val_recall: 0.9884 - val_precision: 0.2726 - lr: 1.4336e-06\n"
     ]
    },
    {
     "data": {
      "text/plain": [
       "<keras.callbacks.History at 0x7f95da1679d0>"
      ]
     },
     "execution_count": 30,
     "metadata": {},
     "output_type": "execute_result"
    }
   ],
   "source": [
    "model.fit(\n",
    "    train_ds,\n",
    "    epochs = EPOCHS,\n",
    "    callbacks = [csv_logger, tensorboard, checkpoint, reducelr],\n",
    "    validation_data = val_ds\n",
    ")"
   ]
  },
  {
   "cell_type": "code",
   "execution_count": 31,
   "id": "ec980cbb",
   "metadata": {
    "execution": {
     "iopub.execute_input": "2023-06-15T04:16:06.067429Z",
     "iopub.status.busy": "2023-06-15T04:16:06.066356Z",
     "iopub.status.idle": "2023-06-15T04:16:34.597489Z",
     "shell.execute_reply": "2023-06-15T04:16:34.596040Z"
    },
    "papermill": {
     "duration": 29.875163,
     "end_time": "2023-06-15T04:16:34.600079",
     "exception": false,
     "start_time": "2023-06-15T04:16:04.724916",
     "status": "completed"
    },
    "tags": []
   },
   "outputs": [
    {
     "name": "stderr",
     "output_type": "stream",
     "text": [
      "WARNING:absl:Found untraced functions such as _update_step_xla, _jit_compiled_convolution_op, _jit_compiled_convolution_op, _jit_compiled_convolution_op, _jit_compiled_convolution_op while saving (showing 5 of 19). These functions will not be directly callable after loading.\n"
     ]
    },
    {
     "name": "stdout",
     "output_type": "stream",
     "text": [
      "INFO:tensorflow:Assets written to: /kaggle/working/focal_loss_unfreeze_last_three/assets\n"
     ]
    },
    {
     "name": "stderr",
     "output_type": "stream",
     "text": [
      "INFO:tensorflow:Assets written to: /kaggle/working/focal_loss_unfreeze_last_three/assets\n"
     ]
    }
   ],
   "source": [
    "model.save(os.path.join(SAVE_DIR, 'focal_loss_unfreeze_last_three'))"
   ]
  },
  {
   "cell_type": "markdown",
   "id": "d334069c",
   "metadata": {
    "papermill": {
     "duration": 1.448071,
     "end_time": "2023-06-15T04:16:37.512204",
     "exception": false,
     "start_time": "2023-06-15T04:16:36.064133",
     "status": "completed"
    },
    "tags": []
   },
   "source": [
    "### Train weighted cross entropy model with three last blocks being trainable"
   ]
  },
  {
   "cell_type": "code",
   "execution_count": 32,
   "id": "1368720f",
   "metadata": {
    "execution": {
     "iopub.execute_input": "2023-06-15T04:16:40.260669Z",
     "iopub.status.busy": "2023-06-15T04:16:40.260153Z",
     "iopub.status.idle": "2023-06-15T04:16:42.244441Z",
     "shell.execute_reply": "2023-06-15T04:16:42.242938Z"
    },
    "papermill": {
     "duration": 3.387663,
     "end_time": "2023-06-15T04:16:42.249270",
     "exception": false,
     "start_time": "2023-06-15T04:16:38.861607",
     "status": "completed"
    },
    "tags": []
   },
   "outputs": [
    {
     "data": {
      "text/plain": [
       "218199"
      ]
     },
     "execution_count": 32,
     "metadata": {},
     "output_type": "execute_result"
    }
   ],
   "source": [
    "keras.backend.clear_session()\n",
    "gc.collect()"
   ]
  },
  {
   "cell_type": "code",
   "execution_count": 33,
   "id": "00c02913",
   "metadata": {
    "execution": {
     "iopub.execute_input": "2023-06-15T04:16:45.085133Z",
     "iopub.status.busy": "2023-06-15T04:16:45.084676Z",
     "iopub.status.idle": "2023-06-15T04:16:53.645402Z",
     "shell.execute_reply": "2023-06-15T04:16:53.644037Z"
    },
    "papermill": {
     "duration": 9.924882,
     "end_time": "2023-06-15T04:16:53.648072",
     "exception": false,
     "start_time": "2023-06-15T04:16:43.723190",
     "status": "completed"
    },
    "tags": []
   },
   "outputs": [
    {
     "name": "stdout",
     "output_type": "stream",
     "text": [
      ">>>> Load pretrained from: /root/.keras/models/convnext_v2_nano_imagenet.h5\n"
     ]
    }
   ],
   "source": [
    "with strategy.scope():\n",
    "    model = get_model(trainable_blocks = ['stack4_block2', 'stack4_block1', 'stack4_downsample', 'stack3_block8'])"
   ]
  },
  {
   "cell_type": "code",
   "execution_count": 34,
   "id": "da6d8450",
   "metadata": {
    "execution": {
     "iopub.execute_input": "2023-06-15T04:16:56.471528Z",
     "iopub.status.busy": "2023-06-15T04:16:56.471013Z",
     "iopub.status.idle": "2023-06-15T04:16:56.670803Z",
     "shell.execute_reply": "2023-06-15T04:16:56.669511Z"
    },
    "papermill": {
     "duration": 1.65122,
     "end_time": "2023-06-15T04:16:56.673445",
     "exception": false,
     "start_time": "2023-06-15T04:16:55.022225",
     "status": "completed"
    },
    "tags": []
   },
   "outputs": [],
   "source": [
    "with strategy.scope():\n",
    "    optimizer = keras.optimizers.Adam(\n",
    "        LR\n",
    "    )\n",
    "    \n",
    "    model.compile(\n",
    "        optimizer = optimizer,\n",
    "        loss = keras.losses.CategoricalCrossentropy(from_logits = True),\n",
    "        metrics = [\n",
    "            \"accuracy\",\n",
    "            keras.metrics.AUC(\n",
    "                multi_label = True,\n",
    "                from_logits = True,\n",
    "                num_labels = NUM_CLASSES\n",
    "            ),\n",
    "            keras.metrics.Recall(thresholds = 0),\n",
    "            keras.metrics.Precision(thresholds = 0)\n",
    "        ]\n",
    "    )"
   ]
  },
  {
   "cell_type": "code",
   "execution_count": 35,
   "id": "e456bbe1",
   "metadata": {
    "execution": {
     "iopub.execute_input": "2023-06-15T04:16:59.447925Z",
     "iopub.status.busy": "2023-06-15T04:16:59.446663Z",
     "iopub.status.idle": "2023-06-15T04:16:59.456878Z",
     "shell.execute_reply": "2023-06-15T04:16:59.455643Z"
    },
    "papermill": {
     "duration": 1.397747,
     "end_time": "2023-06-15T04:16:59.459149",
     "exception": false,
     "start_time": "2023-06-15T04:16:58.061402",
     "status": "completed"
    },
    "tags": []
   },
   "outputs": [],
   "source": [
    "with strategy.scope():\n",
    "    \n",
    "    csv_logger = keras.callbacks.CSVLogger(os.path.join(SAVE_DIR, 'weighted_crossentropy_loss_unfreeze_last_three.csv'))\n",
    "    tensorboard = keras.callbacks.TensorBoard(os.path.join(SAVE_DIR, 'logs', 'weighted_crossentropy_loss_unfreeze_last_three/'))\n",
    "    checkpoint = keras.callbacks.ModelCheckpoint(os.path.join(SAVE_DIR, \"weighted-crossentropy-loss-unfreeze-last-three-at-epoch-{epoch:02d}.hdf5\"))\n",
    "    reducelr = keras.callbacks.ReduceLROnPlateau(monitor=\"val_loss\", factor=.4, patience=4, min_lr=1e-7)"
   ]
  },
  {
   "cell_type": "code",
   "execution_count": 36,
   "id": "b70cec8c",
   "metadata": {
    "execution": {
     "iopub.execute_input": "2023-06-15T04:17:02.221957Z",
     "iopub.status.busy": "2023-06-15T04:17:02.220433Z",
     "iopub.status.idle": "2023-06-15T04:30:41.203565Z",
     "shell.execute_reply": "2023-06-15T04:30:41.202276Z"
    },
    "papermill": {
     "duration": 820.367102,
     "end_time": "2023-06-15T04:30:41.205971",
     "exception": false,
     "start_time": "2023-06-15T04:17:00.838869",
     "status": "completed"
    },
    "tags": []
   },
   "outputs": [
    {
     "name": "stdout",
     "output_type": "stream",
     "text": [
      "Epoch 1/40\n"
     ]
    },
    {
     "name": "stderr",
     "output_type": "stream",
     "text": [
      "2023-06-15 04:17:21.142365: E tensorflow/core/grappler/optimizers/meta_optimizer.cc:954] model_pruner failed: INVALID_ARGUMENT: Graph does not contain terminal node Add_78/ReadVariableOp.\n",
      "2023-06-15 04:17:21.629678: E tensorflow/core/grappler/optimizers/meta_optimizer.cc:954] model_pruner failed: INVALID_ARGUMENT: Graph does not contain terminal node Add_78/ReadVariableOp.\n"
     ]
    },
    {
     "name": "stdout",
     "output_type": "stream",
     "text": [
      "138/139 [============================>.] - ETA: 0s - loss: 0.5675 - accuracy: 0.1824 - auc: 0.5132 - recall: 0.7154 - precision: 0.1568"
     ]
    },
    {
     "name": "stderr",
     "output_type": "stream",
     "text": [
      "2023-06-15 04:18:27.836483: E tensorflow/core/grappler/optimizers/meta_optimizer.cc:954] model_pruner failed: INVALID_ARGUMENT: Graph does not contain terminal node Add/ReadVariableOp.\n",
      "2023-06-15 04:18:28.048961: E tensorflow/core/grappler/optimizers/meta_optimizer.cc:954] model_pruner failed: INVALID_ARGUMENT: Graph does not contain terminal node Add/ReadVariableOp.\n"
     ]
    },
    {
     "name": "stdout",
     "output_type": "stream",
     "text": [
      "139/139 [==============================] - 104s 388ms/step - loss: 0.5672 - accuracy: 0.1817 - auc: 0.5133 - recall: 0.7151 - precision: 0.1569 - val_loss: 2.0572 - val_accuracy: 0.0100 - val_auc: 0.6199 - val_recall: 0.6668 - val_precision: 0.2115 - lr: 3.5000e-04\n",
      "Epoch 2/40\n",
      "139/139 [==============================] - 17s 112ms/step - loss: 0.5410 - accuracy: 0.3480 - auc: 0.6194 - recall: 0.4287 - precision: 0.1582 - val_loss: 1.5453 - val_accuracy: 0.5047 - val_auc: 0.6882 - val_recall: 0.4100 - val_precision: 0.2550 - lr: 3.5000e-04\n",
      "Epoch 3/40\n",
      "139/139 [==============================] - 18s 113ms/step - loss: 0.5003 - accuracy: 0.4793 - auc: 0.6991 - recall: 0.2607 - precision: 0.1783 - val_loss: 1.5952 - val_accuracy: 0.5303 - val_auc: 0.7766 - val_recall: 0.1903 - val_precision: 0.1495 - lr: 3.5000e-04\n",
      "Epoch 4/40\n",
      "139/139 [==============================] - 17s 112ms/step - loss: 0.4620 - accuracy: 0.5001 - auc: 0.7520 - recall: 0.1955 - precision: 0.1641 - val_loss: 1.3428 - val_accuracy: 0.5571 - val_auc: 0.8017 - val_recall: 0.1655 - val_precision: 0.1973 - lr: 3.5000e-04\n",
      "Epoch 5/40\n",
      "139/139 [==============================] - 18s 114ms/step - loss: 0.4182 - accuracy: 0.4807 - auc: 0.7995 - recall: 0.2362 - precision: 0.1842 - val_loss: 1.4475 - val_accuracy: 0.5013 - val_auc: 0.8391 - val_recall: 0.2571 - val_precision: 0.1819 - lr: 3.5000e-04\n",
      "Epoch 6/40\n",
      "139/139 [==============================] - 18s 114ms/step - loss: 0.3857 - accuracy: 0.4933 - auc: 0.8186 - recall: 0.2701 - precision: 0.2034 - val_loss: 1.2781 - val_accuracy: 0.5647 - val_auc: 0.8237 - val_recall: 0.2524 - val_precision: 0.2111 - lr: 3.5000e-04\n",
      "Epoch 7/40\n",
      "139/139 [==============================] - 17s 112ms/step - loss: 0.3614 - accuracy: 0.5137 - auc: 0.8334 - recall: 0.2931 - precision: 0.2149 - val_loss: 1.3230 - val_accuracy: 0.5118 - val_auc: 0.8401 - val_recall: 0.2666 - val_precision: 0.2143 - lr: 3.5000e-04\n",
      "Epoch 8/40\n",
      "139/139 [==============================] - 17s 112ms/step - loss: 0.3267 - accuracy: 0.5558 - auc: 0.8555 - recall: 0.3147 - precision: 0.2441 - val_loss: 1.2647 - val_accuracy: 0.5221 - val_auc: 0.8500 - val_recall: 0.2316 - val_precision: 0.2385 - lr: 3.5000e-04\n",
      "Epoch 9/40\n",
      "139/139 [==============================] - 17s 112ms/step - loss: 0.3136 - accuracy: 0.5563 - auc: 0.8630 - recall: 0.3434 - precision: 0.2709 - val_loss: 1.0997 - val_accuracy: 0.6216 - val_auc: 0.8609 - val_recall: 0.4213 - val_precision: 0.3188 - lr: 3.5000e-04\n",
      "Epoch 10/40\n",
      "139/139 [==============================] - 17s 113ms/step - loss: 0.3044 - accuracy: 0.5746 - auc: 0.8690 - recall: 0.3805 - precision: 0.2931 - val_loss: 1.0736 - val_accuracy: 0.6224 - val_auc: 0.8631 - val_recall: 0.3279 - val_precision: 0.3066 - lr: 3.5000e-04\n",
      "Epoch 11/40\n",
      "139/139 [==============================] - 17s 113ms/step - loss: 0.2780 - accuracy: 0.5992 - auc: 0.8822 - recall: 0.4082 - precision: 0.3162 - val_loss: 1.0485 - val_accuracy: 0.6047 - val_auc: 0.8714 - val_recall: 0.4234 - val_precision: 0.3633 - lr: 3.5000e-04\n",
      "Epoch 12/40\n",
      "139/139 [==============================] - 18s 113ms/step - loss: 0.2936 - accuracy: 0.6021 - auc: 0.8758 - recall: 0.4214 - precision: 0.3137 - val_loss: 1.0396 - val_accuracy: 0.6226 - val_auc: 0.8686 - val_recall: 0.2963 - val_precision: 0.3207 - lr: 3.5000e-04\n",
      "Epoch 13/40\n",
      "139/139 [==============================] - 17s 111ms/step - loss: 0.2478 - accuracy: 0.6222 - auc: 0.8931 - recall: 0.4388 - precision: 0.3318 - val_loss: 1.1472 - val_accuracy: 0.5711 - val_auc: 0.8798 - val_recall: 0.3639 - val_precision: 0.3003 - lr: 3.5000e-04\n",
      "Epoch 14/40\n",
      "139/139 [==============================] - 18s 115ms/step - loss: 0.2350 - accuracy: 0.6404 - auc: 0.9042 - recall: 0.5710 - precision: 0.3831 - val_loss: 1.0691 - val_accuracy: 0.6105 - val_auc: 0.8918 - val_recall: 0.5747 - val_precision: 0.4190 - lr: 3.5000e-04\n",
      "Epoch 15/40\n",
      "139/139 [==============================] - 19s 121ms/step - loss: 0.2227 - accuracy: 0.6522 - auc: 0.9095 - recall: 0.5695 - precision: 0.3926 - val_loss: 1.0709 - val_accuracy: 0.6092 - val_auc: 0.9014 - val_recall: 0.6363 - val_precision: 0.4172 - lr: 3.5000e-04\n",
      "Epoch 16/40\n",
      "139/139 [==============================] - 17s 113ms/step - loss: 0.2087 - accuracy: 0.6622 - auc: 0.9160 - recall: 0.6070 - precision: 0.4249 - val_loss: 0.9511 - val_accuracy: 0.6603 - val_auc: 0.9055 - val_recall: 0.6832 - val_precision: 0.4484 - lr: 3.5000e-04\n",
      "Epoch 17/40\n",
      "139/139 [==============================] - 17s 113ms/step - loss: 0.2034 - accuracy: 0.6706 - auc: 0.9198 - recall: 0.6640 - precision: 0.4232 - val_loss: 0.9291 - val_accuracy: 0.6550 - val_auc: 0.9099 - val_recall: 0.7476 - val_precision: 0.4441 - lr: 3.5000e-04\n",
      "Epoch 18/40\n",
      "139/139 [==============================] - 18s 114ms/step - loss: 0.2015 - accuracy: 0.6783 - auc: 0.9235 - recall: 0.7194 - precision: 0.4394 - val_loss: 0.8720 - val_accuracy: 0.6816 - val_auc: 0.9095 - val_recall: 0.7200 - val_precision: 0.4789 - lr: 3.5000e-04\n",
      "Epoch 19/40\n",
      "139/139 [==============================] - 17s 113ms/step - loss: 0.1810 - accuracy: 0.6954 - auc: 0.9317 - recall: 0.7027 - precision: 0.4683 - val_loss: 0.8475 - val_accuracy: 0.6926 - val_auc: 0.9063 - val_recall: 0.6195 - val_precision: 0.5378 - lr: 3.5000e-04\n",
      "Epoch 20/40\n",
      "139/139 [==============================] - 18s 114ms/step - loss: 0.1704 - accuracy: 0.7061 - auc: 0.9334 - recall: 0.7279 - precision: 0.4745 - val_loss: 0.9665 - val_accuracy: 0.6518 - val_auc: 0.9138 - val_recall: 0.7742 - val_precision: 0.4611 - lr: 3.5000e-04\n",
      "Epoch 21/40\n",
      "139/139 [==============================] - 17s 112ms/step - loss: 0.1695 - accuracy: 0.7083 - auc: 0.9335 - recall: 0.7598 - precision: 0.4577 - val_loss: 0.9347 - val_accuracy: 0.6713 - val_auc: 0.9170 - val_recall: 0.7363 - val_precision: 0.4851 - lr: 3.5000e-04\n",
      "Epoch 22/40\n",
      "139/139 [==============================] - 17s 111ms/step - loss: 0.1641 - accuracy: 0.7190 - auc: 0.9374 - recall: 0.7934 - precision: 0.4634 - val_loss: 0.8958 - val_accuracy: 0.6679 - val_auc: 0.9162 - val_recall: 0.6705 - val_precision: 0.4899 - lr: 3.5000e-04\n",
      "Epoch 23/40\n",
      "139/139 [==============================] - 18s 114ms/step - loss: 0.1552 - accuracy: 0.7280 - auc: 0.9408 - recall: 0.7495 - precision: 0.4890 - val_loss: 1.0483 - val_accuracy: 0.6105 - val_auc: 0.9146 - val_recall: 0.6755 - val_precision: 0.4489 - lr: 3.5000e-04\n",
      "Epoch 24/40\n",
      "139/139 [==============================] - 17s 111ms/step - loss: 0.1357 - accuracy: 0.7471 - auc: 0.9482 - recall: 0.7855 - precision: 0.5023 - val_loss: 0.8544 - val_accuracy: 0.6950 - val_auc: 0.9187 - val_recall: 0.8016 - val_precision: 0.5020 - lr: 1.4000e-04\n",
      "Epoch 25/40\n",
      "139/139 [==============================] - 17s 113ms/step - loss: 0.1295 - accuracy: 0.7569 - auc: 0.9524 - recall: 0.8291 - precision: 0.5118 - val_loss: 0.8489 - val_accuracy: 0.6953 - val_auc: 0.9216 - val_recall: 0.8016 - val_precision: 0.5189 - lr: 1.4000e-04\n",
      "Epoch 26/40\n",
      "139/139 [==============================] - 17s 113ms/step - loss: 0.1282 - accuracy: 0.7632 - auc: 0.9534 - recall: 0.7937 - precision: 0.5380 - val_loss: 0.8243 - val_accuracy: 0.7105 - val_auc: 0.9211 - val_recall: 0.7363 - val_precision: 0.5513 - lr: 1.4000e-04\n",
      "Epoch 27/40\n",
      "139/139 [==============================] - 17s 112ms/step - loss: 0.1219 - accuracy: 0.7665 - auc: 0.9568 - recall: 0.8284 - precision: 0.5351 - val_loss: 0.7899 - val_accuracy: 0.7237 - val_auc: 0.9266 - val_recall: 0.7889 - val_precision: 0.5418 - lr: 1.4000e-04\n",
      "Epoch 28/40\n",
      "139/139 [==============================] - 17s 113ms/step - loss: 0.1134 - accuracy: 0.7777 - auc: 0.9585 - recall: 0.8295 - precision: 0.5452 - val_loss: 0.8588 - val_accuracy: 0.7047 - val_auc: 0.9216 - val_recall: 0.7711 - val_precision: 0.5387 - lr: 1.4000e-04\n",
      "Epoch 29/40\n",
      "139/139 [==============================] - 17s 111ms/step - loss: 0.1135 - accuracy: 0.7831 - auc: 0.9597 - recall: 0.8450 - precision: 0.5466 - val_loss: 0.8328 - val_accuracy: 0.7129 - val_auc: 0.9251 - val_recall: 0.7739 - val_precision: 0.5511 - lr: 1.4000e-04\n",
      "Epoch 30/40\n",
      "139/139 [==============================] - 17s 112ms/step - loss: 0.1043 - accuracy: 0.7869 - auc: 0.9618 - recall: 0.8352 - precision: 0.5755 - val_loss: 0.8406 - val_accuracy: 0.7079 - val_auc: 0.9220 - val_recall: 0.7726 - val_precision: 0.5376 - lr: 1.4000e-04\n",
      "Epoch 31/40\n",
      "139/139 [==============================] - 19s 123ms/step - loss: 0.1053 - accuracy: 0.7855 - auc: 0.9598 - recall: 0.8252 - precision: 0.5567 - val_loss: 0.8185 - val_accuracy: 0.7150 - val_auc: 0.9249 - val_recall: 0.7603 - val_precision: 0.5556 - lr: 1.4000e-04\n",
      "Epoch 32/40\n",
      "139/139 [==============================] - 18s 113ms/step - loss: 0.0989 - accuracy: 0.7969 - auc: 0.9640 - recall: 0.8534 - precision: 0.5632 - val_loss: 0.7830 - val_accuracy: 0.7295 - val_auc: 0.9240 - val_recall: 0.8124 - val_precision: 0.5509 - lr: 5.6000e-05\n",
      "Epoch 33/40\n",
      "139/139 [==============================] - 18s 114ms/step - loss: 0.0963 - accuracy: 0.8049 - auc: 0.9655 - recall: 0.8652 - precision: 0.5709 - val_loss: 0.7781 - val_accuracy: 0.7263 - val_auc: 0.9249 - val_recall: 0.8082 - val_precision: 0.5594 - lr: 5.6000e-05\n",
      "Epoch 34/40\n",
      "139/139 [==============================] - 17s 113ms/step - loss: 0.0908 - accuracy: 0.8053 - auc: 0.9660 - recall: 0.8707 - precision: 0.5742 - val_loss: 0.7784 - val_accuracy: 0.7358 - val_auc: 0.9280 - val_recall: 0.8300 - val_precision: 0.5569 - lr: 5.6000e-05\n",
      "Epoch 35/40\n",
      "139/139 [==============================] - 18s 118ms/step - loss: 0.0924 - accuracy: 0.8078 - auc: 0.9671 - recall: 0.8737 - precision: 0.5793 - val_loss: 0.8162 - val_accuracy: 0.7221 - val_auc: 0.9265 - val_recall: 0.7979 - val_precision: 0.5623 - lr: 5.6000e-05\n",
      "Epoch 36/40\n",
      "139/139 [==============================] - 18s 115ms/step - loss: 0.0946 - accuracy: 0.8060 - auc: 0.9670 - recall: 0.8608 - precision: 0.5809 - val_loss: 0.7745 - val_accuracy: 0.7366 - val_auc: 0.9231 - val_recall: 0.7826 - val_precision: 0.5937 - lr: 5.6000e-05\n",
      "Epoch 37/40\n",
      "139/139 [==============================] - 17s 112ms/step - loss: 0.0933 - accuracy: 0.8122 - auc: 0.9675 - recall: 0.8449 - precision: 0.6030 - val_loss: 0.7927 - val_accuracy: 0.7321 - val_auc: 0.9255 - val_recall: 0.7961 - val_precision: 0.5634 - lr: 5.6000e-05\n",
      "Epoch 38/40\n",
      "139/139 [==============================] - 18s 113ms/step - loss: 0.0892 - accuracy: 0.8196 - auc: 0.9680 - recall: 0.8484 - precision: 0.6100 - val_loss: 0.8323 - val_accuracy: 0.7108 - val_auc: 0.9262 - val_recall: 0.7697 - val_precision: 0.5816 - lr: 5.6000e-05\n",
      "Epoch 39/40\n",
      "139/139 [==============================] - 17s 113ms/step - loss: 0.0892 - accuracy: 0.8156 - auc: 0.9676 - recall: 0.8557 - precision: 0.6080 - val_loss: 0.7961 - val_accuracy: 0.7284 - val_auc: 0.9253 - val_recall: 0.7897 - val_precision: 0.5783 - lr: 5.6000e-05\n",
      "Epoch 40/40\n",
      "139/139 [==============================] - 18s 114ms/step - loss: 0.0853 - accuracy: 0.8224 - auc: 0.9694 - recall: 0.8640 - precision: 0.6116 - val_loss: 0.8071 - val_accuracy: 0.7318 - val_auc: 0.9241 - val_recall: 0.8118 - val_precision: 0.5760 - lr: 5.6000e-05\n"
     ]
    },
    {
     "data": {
      "text/plain": [
       "<keras.callbacks.History at 0x7f95d9486040>"
      ]
     },
     "execution_count": 36,
     "metadata": {},
     "output_type": "execute_result"
    }
   ],
   "source": [
    "model.fit(\n",
    "    train_ds,\n",
    "    epochs = EPOCHS,\n",
    "    class_weight = class_weight,\n",
    "    callbacks = [csv_logger, tensorboard, checkpoint, reducelr],\n",
    "    validation_data = val_ds\n",
    ")"
   ]
  },
  {
   "cell_type": "code",
   "execution_count": 37,
   "id": "f650bdfe",
   "metadata": {
    "execution": {
     "iopub.execute_input": "2023-06-15T04:30:45.220845Z",
     "iopub.status.busy": "2023-06-15T04:30:45.219892Z",
     "iopub.status.idle": "2023-06-15T04:31:13.320708Z",
     "shell.execute_reply": "2023-06-15T04:31:13.319190Z"
    },
    "papermill": {
     "duration": 30.200632,
     "end_time": "2023-06-15T04:31:13.326486",
     "exception": false,
     "start_time": "2023-06-15T04:30:43.125854",
     "status": "completed"
    },
    "tags": []
   },
   "outputs": [
    {
     "name": "stderr",
     "output_type": "stream",
     "text": [
      "WARNING:absl:Found untraced functions such as _update_step_xla, _jit_compiled_convolution_op, _jit_compiled_convolution_op, _jit_compiled_convolution_op, _jit_compiled_convolution_op while saving (showing 5 of 19). These functions will not be directly callable after loading.\n"
     ]
    },
    {
     "name": "stdout",
     "output_type": "stream",
     "text": [
      "INFO:tensorflow:Assets written to: /kaggle/working/weighted_crossentropy_loss_unfreeze_last_three/assets\n"
     ]
    },
    {
     "name": "stderr",
     "output_type": "stream",
     "text": [
      "INFO:tensorflow:Assets written to: /kaggle/working/weighted_crossentropy_loss_unfreeze_last_three/assets\n"
     ]
    }
   ],
   "source": [
    "model.save(os.path.join(SAVE_DIR, 'weighted_crossentropy_loss_unfreeze_last_three'))"
   ]
  }
 ],
 "metadata": {
  "kernelspec": {
   "display_name": "Python 3",
   "language": "python",
   "name": "python3"
  },
  "language_info": {
   "codemirror_mode": {
    "name": "ipython",
    "version": 3
   },
   "file_extension": ".py",
   "mimetype": "text/x-python",
   "name": "python",
   "nbconvert_exporter": "python",
   "pygments_lexer": "ipython3",
   "version": "3.8.16"
  },
  "papermill": {
   "default_parameters": {},
   "duration": 3530.445856,
   "end_time": "2023-06-15T04:31:24.493322",
   "environment_variables": {},
   "exception": null,
   "input_path": "__notebook__.ipynb",
   "output_path": "__notebook__.ipynb",
   "parameters": {},
   "start_time": "2023-06-15T03:32:34.047466",
   "version": "2.4.0"
  }
 },
 "nbformat": 4,
 "nbformat_minor": 5
}
