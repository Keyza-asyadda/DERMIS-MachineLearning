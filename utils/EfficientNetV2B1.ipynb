{
 "cells": [
  {
   "cell_type": "code",
   "execution_count": 1,
   "id": "fdec4d67",
   "metadata": {
    "execution": {
     "iopub.execute_input": "2023-06-11T09:38:00.515336Z",
     "iopub.status.busy": "2023-06-11T09:38:00.515007Z",
     "iopub.status.idle": "2023-06-11T09:38:10.073363Z",
     "shell.execute_reply": "2023-06-11T09:38:10.072335Z"
    },
    "papermill": {
     "duration": 9.575989,
     "end_time": "2023-06-11T09:38:10.076269",
     "exception": false,
     "start_time": "2023-06-11T09:38:00.500280",
     "status": "completed"
    },
    "tags": []
   },
   "outputs": [
    {
     "name": "stdout",
     "output_type": "stream",
     "text": [
      "\u001b[33mWARNING: Running pip as the 'root' user can result in broken permissions and conflicting behaviour with the system package manager. It is recommended to use a virtual environment instead: https://pip.pypa.io/warnings/venv\u001b[0m\u001b[33m\r\n",
      "\u001b[0m\u001b[33mWARNING: You are using pip version 22.0.4; however, version 23.1.2 is available.\r\n",
      "You should consider upgrading via the '/usr/local/bin/python -m pip install --upgrade pip' command.\u001b[0m\u001b[33m\r\n",
      "\u001b[0m"
     ]
    }
   ],
   "source": [
    "!pip install -q \"git+https://github.com/Keyza-asyadda/DERMIS-MachineLearning.git#egg=dermis_utils&subdirectory=utils\" pydot graphviz  "
   ]
  },
  {
   "cell_type": "code",
   "execution_count": 2,
   "id": "a2d75f72",
   "metadata": {
    "execution": {
     "iopub.execute_input": "2023-06-11T09:38:10.103217Z",
     "iopub.status.busy": "2023-06-11T09:38:10.102897Z",
     "iopub.status.idle": "2023-06-11T09:38:51.959338Z",
     "shell.execute_reply": "2023-06-11T09:38:51.957882Z"
    },
    "papermill": {
     "duration": 41.873547,
     "end_time": "2023-06-11T09:38:51.962609",
     "exception": false,
     "start_time": "2023-06-11T09:38:10.089062",
     "status": "completed"
    },
    "tags": []
   },
   "outputs": [
    {
     "name": "stderr",
     "output_type": "stream",
     "text": [
      "D0611 09:38:41.944201043      13 config.cc:119]                        gRPC EXPERIMENT tcp_frame_size_tuning               OFF (default:OFF)\n",
      "D0611 09:38:41.944229276      13 config.cc:119]                        gRPC EXPERIMENT tcp_rcv_lowat                       OFF (default:OFF)\n",
      "D0611 09:38:41.944232933      13 config.cc:119]                        gRPC EXPERIMENT peer_state_based_framing            OFF (default:OFF)\n",
      "D0611 09:38:41.944235923      13 config.cc:119]                        gRPC EXPERIMENT flow_control_fixes                  ON  (default:ON)\n",
      "D0611 09:38:41.944238478      13 config.cc:119]                        gRPC EXPERIMENT memory_pressure_controller          OFF (default:OFF)\n",
      "D0611 09:38:41.944247691      13 config.cc:119]                        gRPC EXPERIMENT unconstrained_max_quota_buffer_size OFF (default:OFF)\n",
      "D0611 09:38:41.944250407      13 config.cc:119]                        gRPC EXPERIMENT new_hpack_huffman_decoder           ON  (default:ON)\n",
      "D0611 09:38:41.944253645      13 config.cc:119]                        gRPC EXPERIMENT event_engine_client                 OFF (default:OFF)\n",
      "D0611 09:38:41.944256033      13 config.cc:119]                        gRPC EXPERIMENT monitoring_experiment               ON  (default:ON)\n",
      "D0611 09:38:41.944258432      13 config.cc:119]                        gRPC EXPERIMENT promise_based_client_call           OFF (default:OFF)\n",
      "D0611 09:38:41.944260690      13 config.cc:119]                        gRPC EXPERIMENT free_large_allocator                OFF (default:OFF)\n",
      "D0611 09:38:41.944262910      13 config.cc:119]                        gRPC EXPERIMENT promise_based_server_call           OFF (default:OFF)\n",
      "D0611 09:38:41.944265171      13 config.cc:119]                        gRPC EXPERIMENT transport_supplies_client_latency   OFF (default:OFF)\n",
      "D0611 09:38:41.944267504      13 config.cc:119]                        gRPC EXPERIMENT event_engine_listener               OFF (default:OFF)\n",
      "I0611 09:38:41.944444015      13 ev_epoll1_linux.cc:122]               grpc epoll fd: 60\n",
      "D0611 09:38:41.944458805      13 ev_posix.cc:144]                      Using polling engine: epoll1\n",
      "D0611 09:38:41.944484514      13 dns_resolver_ares.cc:822]             Using ares dns resolver\n",
      "D0611 09:38:41.944891976      13 lb_policy_registry.cc:46]             registering LB policy factory for \"priority_experimental\"\n",
      "D0611 09:38:41.944910351      13 lb_policy_registry.cc:46]             registering LB policy factory for \"outlier_detection_experimental\"\n",
      "D0611 09:38:41.944914664      13 lb_policy_registry.cc:46]             registering LB policy factory for \"weighted_target_experimental\"\n",
      "D0611 09:38:41.944918283      13 lb_policy_registry.cc:46]             registering LB policy factory for \"pick_first\"\n",
      "D0611 09:38:41.944921619      13 lb_policy_registry.cc:46]             registering LB policy factory for \"round_robin\"\n",
      "D0611 09:38:41.944924821      13 lb_policy_registry.cc:46]             registering LB policy factory for \"weighted_round_robin_experimental\"\n",
      "D0611 09:38:41.944931387      13 lb_policy_registry.cc:46]             registering LB policy factory for \"ring_hash_experimental\"\n",
      "D0611 09:38:41.944947967      13 lb_policy_registry.cc:46]             registering LB policy factory for \"grpclb\"\n",
      "D0611 09:38:41.944980749      13 lb_policy_registry.cc:46]             registering LB policy factory for \"rls_experimental\"\n",
      "D0611 09:38:41.944996105      13 lb_policy_registry.cc:46]             registering LB policy factory for \"xds_cluster_manager_experimental\"\n",
      "D0611 09:38:41.944999924      13 lb_policy_registry.cc:46]             registering LB policy factory for \"xds_cluster_impl_experimental\"\n",
      "D0611 09:38:41.945003195      13 lb_policy_registry.cc:46]             registering LB policy factory for \"cds_experimental\"\n",
      "D0611 09:38:41.945009166      13 lb_policy_registry.cc:46]             registering LB policy factory for \"xds_cluster_resolver_experimental\"\n",
      "D0611 09:38:41.945012647      13 lb_policy_registry.cc:46]             registering LB policy factory for \"xds_override_host_experimental\"\n",
      "D0611 09:38:41.945015606      13 lb_policy_registry.cc:46]             registering LB policy factory for \"xds_wrr_locality_experimental\"\n",
      "D0611 09:38:41.945018973      13 certificate_provider_registry.cc:35]  registering certificate provider factory for \"file_watcher\"\n",
      "I0611 09:38:41.946910341      13 socket_utils_common_posix.cc:408]     Disabling AF_INET6 sockets because ::1 is not available.\n",
      "I0611 09:38:42.056345494      13 socket_utils_common_posix.cc:337]     TCP_USER_TIMEOUT is available. TCP_USER_TIMEOUT will be used thereafter\n",
      "E0611 09:38:42.073931969      13 oauth2_credentials.cc:236]            oauth_fetch: UNKNOWN:C-ares status is not ARES_SUCCESS qtype=A name=metadata.google.internal. is_balancer=0: Domain name not found {grpc_status:2, created_time:\"2023-06-11T09:38:42.073909479+00:00\"}\n"
     ]
    }
   ],
   "source": [
    "import warnings\n",
    "warnings.filterwarnings(\"ignore\")\n",
    "\n",
    "from tensorflow import keras\n",
    "import tensorflow as tf\n",
    "\n",
    "import matplotlib.pyplot as plt\n",
    "\n",
    "import dermis_utils\n",
    "\n",
    "import os\n",
    "import gc"
   ]
  },
  {
   "cell_type": "code",
   "execution_count": 3,
   "id": "dfd6f576",
   "metadata": {
    "execution": {
     "iopub.execute_input": "2023-06-11T09:38:51.990100Z",
     "iopub.status.busy": "2023-06-11T09:38:51.989419Z",
     "iopub.status.idle": "2023-06-11T09:38:51.995755Z",
     "shell.execute_reply": "2023-06-11T09:38:51.994867Z"
    },
    "papermill": {
     "duration": 0.022435,
     "end_time": "2023-06-11T09:38:51.997963",
     "exception": false,
     "start_time": "2023-06-11T09:38:51.975528",
     "status": "completed"
    },
    "tags": []
   },
   "outputs": [],
   "source": [
    "DATA_DIR = '../input/isic-2019-capstone/ISIC_2019'\n",
    "CACHE_DIR = '../tmp/'\n",
    "SAVE_DIR = os.getcwd()\n",
    "IMG_SIZE = 240\n",
    "EPOCHS = 40\n",
    "BATCH_SIZE = 128\n",
    "BRIGHTNESS_LEVEL = .2\n",
    "NUM_CLASSES = 8\n",
    "LR = 0.00035"
   ]
  },
  {
   "cell_type": "code",
   "execution_count": 4,
   "id": "0e20ff61",
   "metadata": {
    "execution": {
     "iopub.execute_input": "2023-06-11T09:38:52.024047Z",
     "iopub.status.busy": "2023-06-11T09:38:52.023773Z",
     "iopub.status.idle": "2023-06-11T09:38:52.028156Z",
     "shell.execute_reply": "2023-06-11T09:38:52.027295Z"
    },
    "papermill": {
     "duration": 0.019948,
     "end_time": "2023-06-11T09:38:52.030074",
     "exception": false,
     "start_time": "2023-06-11T09:38:52.010126",
     "status": "completed"
    },
    "tags": []
   },
   "outputs": [],
   "source": [
    "if not os.path.exists(CACHE_DIR):\n",
    "    os.makedirs(CACHE_DIR)"
   ]
  },
  {
   "cell_type": "code",
   "execution_count": 5,
   "id": "870a59e9",
   "metadata": {
    "execution": {
     "iopub.execute_input": "2023-06-11T09:38:52.056876Z",
     "iopub.status.busy": "2023-06-11T09:38:52.056588Z",
     "iopub.status.idle": "2023-06-11T09:39:01.271125Z",
     "shell.execute_reply": "2023-06-11T09:39:01.269988Z"
    },
    "papermill": {
     "duration": 9.23061,
     "end_time": "2023-06-11T09:39:01.273977",
     "exception": false,
     "start_time": "2023-06-11T09:38:52.043367",
     "status": "completed"
    },
    "tags": []
   },
   "outputs": [
    {
     "name": "stdout",
     "output_type": "stream",
     "text": [
      "INFO:tensorflow:Deallocate tpu buffers before initializing tpu system.\n",
      "INFO:tensorflow:Initializing the TPU system: local\n",
      "INFO:tensorflow:Finished initializing TPU system.\n",
      "INFO:tensorflow:Found TPU system:\n",
      "INFO:tensorflow:*** Num TPU Cores: 8\n",
      "INFO:tensorflow:*** Num TPU Workers: 1\n",
      "INFO:tensorflow:*** Num TPU Cores Per Worker: 8\n",
      "INFO:tensorflow:*** Available Device: _DeviceAttributes(/job:localhost/replica:0/task:0/device:CPU:0, CPU, 0, 0)\n",
      "INFO:tensorflow:*** Available Device: _DeviceAttributes(/job:localhost/replica:0/task:0/device:TPU:0, TPU, 0, 0)\n",
      "INFO:tensorflow:*** Available Device: _DeviceAttributes(/job:localhost/replica:0/task:0/device:TPU:1, TPU, 0, 0)\n",
      "INFO:tensorflow:*** Available Device: _DeviceAttributes(/job:localhost/replica:0/task:0/device:TPU:2, TPU, 0, 0)\n",
      "INFO:tensorflow:*** Available Device: _DeviceAttributes(/job:localhost/replica:0/task:0/device:TPU:3, TPU, 0, 0)\n",
      "INFO:tensorflow:*** Available Device: _DeviceAttributes(/job:localhost/replica:0/task:0/device:TPU:4, TPU, 0, 0)\n",
      "INFO:tensorflow:*** Available Device: _DeviceAttributes(/job:localhost/replica:0/task:0/device:TPU:5, TPU, 0, 0)\n",
      "INFO:tensorflow:*** Available Device: _DeviceAttributes(/job:localhost/replica:0/task:0/device:TPU:6, TPU, 0, 0)\n",
      "INFO:tensorflow:*** Available Device: _DeviceAttributes(/job:localhost/replica:0/task:0/device:TPU:7, TPU, 0, 0)\n",
      "INFO:tensorflow:*** Available Device: _DeviceAttributes(/job:localhost/replica:0/task:0/device:TPU_SYSTEM:0, TPU_SYSTEM, 0, 0)\n"
     ]
    }
   ],
   "source": [
    "try:\n",
    "    tpu =tf.distribute.cluster_resolver.TPUClusterResolver.connect()\n",
    "    strategy = tf.distribute.TPUStrategy(tpu)\n",
    "except:\n",
    "    if len(tf.config.list_logical_devices(\"GPU\")) > 1:\n",
    "        strategy = tf.distribute.MirroredStrategy()\n",
    "    else:\n",
    "        strategy = tf.distribute.get_strategy()"
   ]
  },
  {
   "cell_type": "markdown",
   "id": "f028d516",
   "metadata": {
    "papermill": {
     "duration": 0.013814,
     "end_time": "2023-06-11T09:39:01.301956",
     "exception": false,
     "start_time": "2023-06-11T09:39:01.288142",
     "status": "completed"
    },
    "tags": []
   },
   "source": [
    "## Import dataset"
   ]
  },
  {
   "cell_type": "markdown",
   "id": "2bec2c6c",
   "metadata": {
    "papermill": {
     "duration": 0.013376,
     "end_time": "2023-06-11T09:39:01.328933",
     "exception": false,
     "start_time": "2023-06-11T09:39:01.315557",
     "status": "completed"
    },
    "tags": []
   },
   "source": [
    "### Define augmentation function"
   ]
  },
  {
   "cell_type": "code",
   "execution_count": 6,
   "id": "a880f5a6",
   "metadata": {
    "execution": {
     "iopub.execute_input": "2023-06-11T09:39:01.357919Z",
     "iopub.status.busy": "2023-06-11T09:39:01.357610Z",
     "iopub.status.idle": "2023-06-11T09:39:01.380745Z",
     "shell.execute_reply": "2023-06-11T09:39:01.379772Z"
    },
    "papermill": {
     "duration": 0.040596,
     "end_time": "2023-06-11T09:39:01.383122",
     "exception": false,
     "start_time": "2023-06-11T09:39:01.342526",
     "status": "completed"
    },
    "tags": []
   },
   "outputs": [],
   "source": [
    "if len(tf.config.list_logical_devices(\"TPU\")) >0:\n",
    "    augmentation_model = keras.Sequential([\n",
    "        keras.layers.RandomBrightness(BRIGHTNESS_LEVEL),\n",
    "        keras.layers.RandomFlip(),\n",
    "        keras.layers.RandomRotation(.9),\n",
    "    ])\n",
    "else:\n",
    "    with strategy.scope():\n",
    "        augmentation_model = keras.Sequential([\n",
    "            keras.layers.RandomBrightness(BRIGHTNESS_LEVEL),\n",
    "            keras.layers.RandomFlip(),\n",
    "            keras.layers.RandomRotation(.9),\n",
    "        ])\n",
    "\n",
    "@tf.function\n",
    "def aug_image_label(images, labels):\n",
    "    aug = augmentation_model(images, training = True)\n",
    "    return aug, labels"
   ]
  },
  {
   "cell_type": "code",
   "execution_count": 7,
   "id": "d8c367a9",
   "metadata": {
    "execution": {
     "iopub.execute_input": "2023-06-11T09:39:01.411839Z",
     "iopub.status.busy": "2023-06-11T09:39:01.411501Z",
     "iopub.status.idle": "2023-06-11T09:39:18.607102Z",
     "shell.execute_reply": "2023-06-11T09:39:18.605834Z"
    },
    "papermill": {
     "duration": 17.213189,
     "end_time": "2023-06-11T09:39:18.609946",
     "exception": false,
     "start_time": "2023-06-11T09:39:01.396757",
     "status": "completed"
    },
    "tags": []
   },
   "outputs": [
    {
     "name": "stdout",
     "output_type": "stream",
     "text": [
      "Found 17731 files belonging to 8 classes.\n"
     ]
    }
   ],
   "source": [
    "train_ds = keras.utils.image_dataset_from_directory(\n",
    "    os.path.join(DATA_DIR, 'train'),\n",
    "    image_size = (IMG_SIZE, IMG_SIZE),\n",
    "    batch_size = BATCH_SIZE,\n",
    "    shuffle = True,\n",
    "    label_mode = \"categorical\"\n",
    ")"
   ]
  },
  {
   "cell_type": "code",
   "execution_count": 8,
   "id": "5ad5576a",
   "metadata": {
    "execution": {
     "iopub.execute_input": "2023-06-11T09:39:18.640679Z",
     "iopub.status.busy": "2023-06-11T09:39:18.640354Z",
     "iopub.status.idle": "2023-06-11T09:39:18.645886Z",
     "shell.execute_reply": "2023-06-11T09:39:18.644971Z"
    },
    "papermill": {
     "duration": 0.023403,
     "end_time": "2023-06-11T09:39:18.647984",
     "exception": false,
     "start_time": "2023-06-11T09:39:18.624581",
     "status": "completed"
    },
    "tags": []
   },
   "outputs": [],
   "source": [
    "train_non_aug = train_ds.prefetch(tf.data.AUTOTUNE)"
   ]
  },
  {
   "cell_type": "code",
   "execution_count": 9,
   "id": "8bb39b10",
   "metadata": {
    "execution": {
     "iopub.execute_input": "2023-06-11T09:39:18.677628Z",
     "iopub.status.busy": "2023-06-11T09:39:18.677340Z",
     "iopub.status.idle": "2023-06-11T09:39:18.681378Z",
     "shell.execute_reply": "2023-06-11T09:39:18.680521Z"
    },
    "papermill": {
     "duration": 0.021664,
     "end_time": "2023-06-11T09:39:18.683632",
     "exception": false,
     "start_time": "2023-06-11T09:39:18.661968",
     "status": "completed"
    },
    "tags": []
   },
   "outputs": [],
   "source": [
    "class_weight = train_ds.class_names"
   ]
  },
  {
   "cell_type": "code",
   "execution_count": 10,
   "id": "bc4833a5",
   "metadata": {
    "execution": {
     "iopub.execute_input": "2023-06-11T09:39:18.712301Z",
     "iopub.status.busy": "2023-06-11T09:39:18.712044Z",
     "iopub.status.idle": "2023-06-11T09:39:19.302509Z",
     "shell.execute_reply": "2023-06-11T09:39:19.301268Z"
    },
    "papermill": {
     "duration": 0.60815,
     "end_time": "2023-06-11T09:39:19.305613",
     "exception": false,
     "start_time": "2023-06-11T09:39:18.697463",
     "status": "completed"
    },
    "tags": []
   },
   "outputs": [],
   "source": [
    "# train_ds = train_ds.cache(os.path.join(CACHE_DIR, 'train'))\n",
    "train_aug = train_ds.map(aug_image_label, num_parallel_calls = tf.data.AUTOTUNE, deterministic = False)\n",
    "train_aug = train_aug.prefetch(tf.data.AUTOTUNE)"
   ]
  },
  {
   "cell_type": "code",
   "execution_count": 11,
   "id": "0d678e5a",
   "metadata": {
    "execution": {
     "iopub.execute_input": "2023-06-11T09:39:19.335437Z",
     "iopub.status.busy": "2023-06-11T09:39:19.335134Z",
     "iopub.status.idle": "2023-06-11T09:39:21.995314Z",
     "shell.execute_reply": "2023-06-11T09:39:21.994147Z"
    },
    "papermill": {
     "duration": 2.678326,
     "end_time": "2023-06-11T09:39:21.998150",
     "exception": false,
     "start_time": "2023-06-11T09:39:19.319824",
     "status": "completed"
    },
    "tags": []
   },
   "outputs": [
    {
     "name": "stdout",
     "output_type": "stream",
     "text": [
      "Found 3800 files belonging to 8 classes.\n"
     ]
    }
   ],
   "source": [
    "val_ds = keras.utils.image_dataset_from_directory(\n",
    "    os.path.join(DATA_DIR, 'val'),\n",
    "    image_size = (IMG_SIZE, IMG_SIZE),\n",
    "    batch_size = BATCH_SIZE,\n",
    "    shuffle = False, # No need to shuffle validation set, and also to reduce computation\n",
    "    label_mode = 'categorical'\n",
    ")"
   ]
  },
  {
   "cell_type": "code",
   "execution_count": 12,
   "id": "58b6d740",
   "metadata": {
    "execution": {
     "iopub.execute_input": "2023-06-11T09:39:22.028432Z",
     "iopub.status.busy": "2023-06-11T09:39:22.028102Z",
     "iopub.status.idle": "2023-06-11T09:39:22.038294Z",
     "shell.execute_reply": "2023-06-11T09:39:22.037290Z"
    },
    "papermill": {
     "duration": 0.02804,
     "end_time": "2023-06-11T09:39:22.040492",
     "exception": false,
     "start_time": "2023-06-11T09:39:22.012452",
     "status": "completed"
    },
    "tags": []
   },
   "outputs": [],
   "source": [
    "val_ds = val_ds.cache(os.path.join(CACHE_DIR, 'val'))\n",
    "val_ds = val_ds.prefetch(tf.data.AUTOTUNE)"
   ]
  },
  {
   "cell_type": "markdown",
   "id": "5960f6f4",
   "metadata": {
    "papermill": {
     "duration": 0.013754,
     "end_time": "2023-06-11T09:39:22.068483",
     "exception": false,
     "start_time": "2023-06-11T09:39:22.054729",
     "status": "completed"
    },
    "tags": []
   },
   "source": [
    "## Calculate class weight for weighted cross entropy"
   ]
  },
  {
   "cell_type": "code",
   "execution_count": 13,
   "id": "baeb0bd8",
   "metadata": {
    "execution": {
     "iopub.execute_input": "2023-06-11T09:39:22.097865Z",
     "iopub.status.busy": "2023-06-11T09:39:22.097520Z",
     "iopub.status.idle": "2023-06-11T09:39:22.122990Z",
     "shell.execute_reply": "2023-06-11T09:39:22.122059Z"
    },
    "papermill": {
     "duration": 0.04319,
     "end_time": "2023-06-11T09:39:22.125451",
     "exception": false,
     "start_time": "2023-06-11T09:39:22.082261",
     "status": "completed"
    },
    "tags": []
   },
   "outputs": [],
   "source": [
    "class_weight = list(map(lambda x: len(os.listdir(os.path.join(DATA_DIR, 'train', x))), class_weight))\n",
    "class_weight = tf.divide(tf.reduce_sum(class_weight), class_weight)\n",
    "class_weight = tf.divide(class_weight * 10, tf.reduce_sum(class_weight))\n",
    "class_weight = dict(enumerate(class_weight))"
   ]
  },
  {
   "cell_type": "markdown",
   "id": "028508d9",
   "metadata": {
    "papermill": {
     "duration": 0.014344,
     "end_time": "2023-06-11T09:39:22.153975",
     "exception": false,
     "start_time": "2023-06-11T09:39:22.139631",
     "status": "completed"
    },
    "tags": []
   },
   "source": [
    "## Define model"
   ]
  },
  {
   "cell_type": "code",
   "execution_count": 14,
   "id": "90c7ce44",
   "metadata": {
    "execution": {
     "iopub.execute_input": "2023-06-11T09:39:22.184089Z",
     "iopub.status.busy": "2023-06-11T09:39:22.183648Z",
     "iopub.status.idle": "2023-06-11T09:39:22.191856Z",
     "shell.execute_reply": "2023-06-11T09:39:22.190695Z"
    },
    "papermill": {
     "duration": 0.026311,
     "end_time": "2023-06-11T09:39:22.194332",
     "exception": false,
     "start_time": "2023-06-11T09:39:22.168021",
     "status": "completed"
    },
    "tags": []
   },
   "outputs": [],
   "source": [
    "def get_pretrained(\n",
    "    trainable_blocks = [],\n",
    "    train_all = False\n",
    "):\n",
    "    base_model = keras.applications.EfficientNetV2B1(\n",
    "        include_top = False,\n",
    "        input_shape = (IMG_SIZE, IMG_SIZE, 3),\n",
    "        pooling = 'avg'\n",
    "    )\n",
    "    if not train_all:\n",
    "        for layer in base_model.layers:\n",
    "            layer.trainable = any(i in layer.name for i in trainable_blocks) and not isinstance(layer, keras.layers.BatchNormalization)\n",
    "    else:\n",
    "        for layer in base_model.layers:\n",
    "            layer.trainable = not isinstance(layer, keras.layers.BatchNormalization)\n",
    "    return base_model"
   ]
  },
  {
   "cell_type": "code",
   "execution_count": 15,
   "id": "d52fda51",
   "metadata": {
    "execution": {
     "iopub.execute_input": "2023-06-11T09:39:22.224495Z",
     "iopub.status.busy": "2023-06-11T09:39:22.224155Z",
     "iopub.status.idle": "2023-06-11T09:39:22.231338Z",
     "shell.execute_reply": "2023-06-11T09:39:22.230199Z"
    },
    "papermill": {
     "duration": 0.02474,
     "end_time": "2023-06-11T09:39:22.233596",
     "exception": false,
     "start_time": "2023-06-11T09:39:22.208856",
     "status": "completed"
    },
    "tags": []
   },
   "outputs": [],
   "source": [
    "def get_model(\n",
    "    h_units = 64,\n",
    "    trainable_blocks = ['top', 'block6i', 'block6h', 'block6g'],\n",
    "    train_all_base_model = False\n",
    "):\n",
    "    base_model = get_pretrained(\n",
    "        trainable_blocks = trainable_blocks,\n",
    "        train_all = train_all_base_model\n",
    "    )\n",
    "    x = keras.layers.BatchNormalization()(base_model.output)\n",
    "    x = keras.layers.Dense(h_units, activation = 'relu')(x)\n",
    "    output = keras.layers.Dense(NUM_CLASSES)(x)\n",
    "    return keras.Model(inputs = base_model.input, outputs = output)"
   ]
  },
  {
   "cell_type": "markdown",
   "id": "cf28449c",
   "metadata": {
    "papermill": {
     "duration": 0.014969,
     "end_time": "2023-06-11T09:39:22.263939",
     "exception": false,
     "start_time": "2023-06-11T09:39:22.248970",
     "status": "completed"
    },
    "tags": []
   },
   "source": [
    "## Train model"
   ]
  },
  {
   "cell_type": "markdown",
   "id": "4465b388",
   "metadata": {
    "papermill": {
     "duration": 0.0138,
     "end_time": "2023-06-11T09:39:22.291973",
     "exception": false,
     "start_time": "2023-06-11T09:39:22.278173",
     "status": "completed"
    },
    "tags": []
   },
   "source": [
    "### Train model with Focal Loss"
   ]
  },
  {
   "cell_type": "code",
   "execution_count": 16,
   "id": "f947e889",
   "metadata": {
    "execution": {
     "iopub.execute_input": "2023-06-11T09:39:22.321306Z",
     "iopub.status.busy": "2023-06-11T09:39:22.320991Z",
     "iopub.status.idle": "2023-06-11T09:39:50.936102Z",
     "shell.execute_reply": "2023-06-11T09:39:50.935006Z"
    },
    "papermill": {
     "duration": 28.632757,
     "end_time": "2023-06-11T09:39:50.938786",
     "exception": false,
     "start_time": "2023-06-11T09:39:22.306029",
     "status": "completed"
    },
    "tags": []
   },
   "outputs": [
    {
     "name": "stdout",
     "output_type": "stream",
     "text": [
      "Downloading data from https://storage.googleapis.com/tensorflow/keras-applications/efficientnet_v2/efficientnetv2-b1_notop.h5\n",
      "28456008/28456008 [==============================] - 0s 0us/step\n"
     ]
    }
   ],
   "source": [
    "with strategy.scope():\n",
    "    model = get_model()"
   ]
  },
  {
   "cell_type": "code",
   "execution_count": 17,
   "id": "e1356376",
   "metadata": {
    "execution": {
     "iopub.execute_input": "2023-06-11T09:39:50.970659Z",
     "iopub.status.busy": "2023-06-11T09:39:50.970064Z",
     "iopub.status.idle": "2023-06-11T09:39:51.598298Z",
     "shell.execute_reply": "2023-06-11T09:39:51.597299Z"
    },
    "papermill": {
     "duration": 0.646877,
     "end_time": "2023-06-11T09:39:51.600878",
     "exception": false,
     "start_time": "2023-06-11T09:39:50.954001",
     "status": "completed"
    },
    "tags": []
   },
   "outputs": [],
   "source": [
    "with strategy.scope():\n",
    "    \n",
    "    optimizer = keras.optimizers.Adam(\n",
    "        LR\n",
    "    )\n",
    "    \n",
    "    model.compile(\n",
    "        optimizer = optimizer,\n",
    "        loss = dermis_utils.losses.CategoricalFocalCrossentropy(gamma = 1., from_logits = True),\n",
    "        metrics = [\n",
    "            \"accuracy\",\n",
    "            keras.metrics.AUC(\n",
    "                multi_label = True,\n",
    "                from_logits = True,\n",
    "                num_labels = NUM_CLASSES\n",
    "            ),\n",
    "            keras.metrics.Recall(thresholds = 0),\n",
    "            keras.metrics.Precision(thresholds = 0)\n",
    "        ]\n",
    "    )"
   ]
  },
  {
   "cell_type": "code",
   "execution_count": 18,
   "id": "d8d82d3a",
   "metadata": {
    "execution": {
     "iopub.execute_input": "2023-06-11T09:39:51.632118Z",
     "iopub.status.busy": "2023-06-11T09:39:51.631515Z",
     "iopub.status.idle": "2023-06-11T09:39:51.638244Z",
     "shell.execute_reply": "2023-06-11T09:39:51.637408Z"
    },
    "papermill": {
     "duration": 0.024762,
     "end_time": "2023-06-11T09:39:51.640253",
     "exception": false,
     "start_time": "2023-06-11T09:39:51.615491",
     "status": "completed"
    },
    "tags": []
   },
   "outputs": [],
   "source": [
    "with strategy.scope():\n",
    "    \n",
    "    csv_logger = keras.callbacks.CSVLogger(os.path.join(SAVE_DIR, 'aug_focal_loss_unfreezing.csv'))\n",
    "    tensorboard = keras.callbacks.TensorBoard(os.path.join(SAVE_DIR, 'logs', 'aug_focal_loss_unfreezing/'))\n",
    "    checkpoint = keras.callbacks.ModelCheckpoint(os.path.join(SAVE_DIR, \"aug-focal-loss-unfreezing-at-epoch-{epoch:02d}.hdf5\"))\n",
    "    reducelr = keras.callbacks.ReduceLROnPlateau(monitor=\"val_loss\", factor=.4, patience=4, min_lr=1e-7)"
   ]
  },
  {
   "cell_type": "code",
   "execution_count": 19,
   "id": "b858ce0e",
   "metadata": {
    "_kg_hide-input": true,
    "execution": {
     "iopub.execute_input": "2023-06-11T09:39:51.671077Z",
     "iopub.status.busy": "2023-06-11T09:39:51.670537Z",
     "iopub.status.idle": "2023-06-11T09:55:33.078040Z",
     "shell.execute_reply": "2023-06-11T09:55:33.076908Z"
    },
    "papermill": {
     "duration": 941.839942,
     "end_time": "2023-06-11T09:55:33.494748",
     "exception": false,
     "start_time": "2023-06-11T09:39:51.654806",
     "status": "completed"
    },
    "tags": []
   },
   "outputs": [
    {
     "name": "stdout",
     "output_type": "stream",
     "text": [
      "Epoch 1/40\n"
     ]
    },
    {
     "name": "stderr",
     "output_type": "stream",
     "text": [
      "2023-06-11 09:40:11.532486: E tensorflow/core/grappler/optimizers/meta_optimizer.cc:954] model_pruner failed: INVALID_ARGUMENT: Graph does not contain terminal node Add_123/ReadVariableOp.\n",
      "2023-06-11 09:40:12.103656: E tensorflow/core/grappler/optimizers/meta_optimizer.cc:954] model_pruner failed: INVALID_ARGUMENT: Graph does not contain terminal node Add_123/ReadVariableOp.\n"
     ]
    },
    {
     "name": "stdout",
     "output_type": "stream",
     "text": [
      "139/139 [==============================] - ETA: 0s - loss: 0.9611 - accuracy: 0.5877 - auc: 0.7232 - recall: 0.8448 - precision: 0.2918"
     ]
    },
    {
     "name": "stderr",
     "output_type": "stream",
     "text": [
      "2023-06-11 09:41:06.290000: E tensorflow/core/grappler/optimizers/meta_optimizer.cc:954] model_pruner failed: INVALID_ARGUMENT: Graph does not contain terminal node Add/ReadVariableOp.\n",
      "2023-06-11 09:41:06.614001: E tensorflow/core/grappler/optimizers/meta_optimizer.cc:954] model_pruner failed: INVALID_ARGUMENT: Graph does not contain terminal node Add/ReadVariableOp.\n"
     ]
    },
    {
     "name": "stdout",
     "output_type": "stream",
     "text": [
      "139/139 [==============================] - 98s 383ms/step - loss: 0.9611 - accuracy: 0.5877 - auc: 0.7232 - recall: 0.8448 - precision: 0.2918 - val_loss: 0.8753 - val_accuracy: 0.6400 - val_auc: 0.8010 - val_recall: 0.9087 - val_precision: 0.3053 - lr: 3.5000e-04\n",
      "Epoch 2/40\n",
      "139/139 [==============================] - 21s 136ms/step - loss: 0.7349 - accuracy: 0.6453 - auc: 0.8137 - recall: 0.9110 - precision: 0.3119 - val_loss: 0.6511 - val_accuracy: 0.6905 - val_auc: 0.8381 - val_recall: 0.9324 - val_precision: 0.3050 - lr: 3.5000e-04\n",
      "Epoch 3/40\n",
      "139/139 [==============================] - 21s 134ms/step - loss: 0.6588 - accuracy: 0.6759 - auc: 0.8428 - recall: 0.9303 - precision: 0.3136 - val_loss: 0.6326 - val_accuracy: 0.6850 - val_auc: 0.8447 - val_recall: 0.9303 - val_precision: 0.3066 - lr: 3.5000e-04\n",
      "Epoch 4/40\n",
      "139/139 [==============================] - 21s 133ms/step - loss: 0.6018 - accuracy: 0.6982 - auc: 0.8563 - recall: 0.9377 - precision: 0.3174 - val_loss: 0.5902 - val_accuracy: 0.6968 - val_auc: 0.8732 - val_recall: 0.9495 - val_precision: 0.3176 - lr: 3.5000e-04\n",
      "Epoch 5/40\n",
      "139/139 [==============================] - 20s 132ms/step - loss: 0.5701 - accuracy: 0.7114 - auc: 0.8711 - recall: 0.9446 - precision: 0.3213 - val_loss: 0.5487 - val_accuracy: 0.7232 - val_auc: 0.8761 - val_recall: 0.9487 - val_precision: 0.3161 - lr: 3.5000e-04\n",
      "Epoch 6/40\n",
      "139/139 [==============================] - 22s 143ms/step - loss: 0.5404 - accuracy: 0.7198 - auc: 0.8776 - recall: 0.9480 - precision: 0.3239 - val_loss: 0.5383 - val_accuracy: 0.7218 - val_auc: 0.8739 - val_recall: 0.9508 - val_precision: 0.3148 - lr: 3.5000e-04\n",
      "Epoch 7/40\n",
      "139/139 [==============================] - 20s 131ms/step - loss: 0.5091 - accuracy: 0.7337 - auc: 0.8862 - recall: 0.9547 - precision: 0.3259 - val_loss: 0.5271 - val_accuracy: 0.7332 - val_auc: 0.8775 - val_recall: 0.9497 - val_precision: 0.3149 - lr: 3.5000e-04\n",
      "Epoch 8/40\n",
      "139/139 [==============================] - 21s 132ms/step - loss: 0.4873 - accuracy: 0.7425 - auc: 0.8901 - recall: 0.9560 - precision: 0.3268 - val_loss: 0.5108 - val_accuracy: 0.7347 - val_auc: 0.8866 - val_recall: 0.9600 - val_precision: 0.3149 - lr: 3.5000e-04\n",
      "Epoch 9/40\n",
      "139/139 [==============================] - 21s 136ms/step - loss: 0.4678 - accuracy: 0.7521 - auc: 0.8975 - recall: 0.9604 - precision: 0.3285 - val_loss: 0.5148 - val_accuracy: 0.7418 - val_auc: 0.8845 - val_recall: 0.9539 - val_precision: 0.3187 - lr: 3.5000e-04\n",
      "Epoch 10/40\n",
      "139/139 [==============================] - 20s 133ms/step - loss: 0.4480 - accuracy: 0.7606 - auc: 0.9020 - recall: 0.9668 - precision: 0.3272 - val_loss: 0.5229 - val_accuracy: 0.7355 - val_auc: 0.8829 - val_recall: 0.9603 - val_precision: 0.3144 - lr: 3.5000e-04\n",
      "Epoch 11/40\n",
      "139/139 [==============================] - 21s 136ms/step - loss: 0.4280 - accuracy: 0.7696 - auc: 0.9059 - recall: 0.9688 - precision: 0.3273 - val_loss: 0.5031 - val_accuracy: 0.7489 - val_auc: 0.8932 - val_recall: 0.9550 - val_precision: 0.3291 - lr: 3.5000e-04\n",
      "Epoch 12/40\n",
      "139/139 [==============================] - 20s 133ms/step - loss: 0.4155 - accuracy: 0.7759 - auc: 0.9082 - recall: 0.9695 - precision: 0.3281 - val_loss: 0.4996 - val_accuracy: 0.7518 - val_auc: 0.8920 - val_recall: 0.9492 - val_precision: 0.3306 - lr: 3.5000e-04\n",
      "Epoch 13/40\n",
      "139/139 [==============================] - 21s 138ms/step - loss: 0.4034 - accuracy: 0.7781 - auc: 0.9103 - recall: 0.9690 - precision: 0.3331 - val_loss: 0.4948 - val_accuracy: 0.7511 - val_auc: 0.8936 - val_recall: 0.9505 - val_precision: 0.3320 - lr: 3.5000e-04\n",
      "Epoch 14/40\n",
      "139/139 [==============================] - 21s 134ms/step - loss: 0.3842 - accuracy: 0.7852 - auc: 0.9197 - recall: 0.9768 - precision: 0.3342 - val_loss: 0.4875 - val_accuracy: 0.7555 - val_auc: 0.8984 - val_recall: 0.9626 - val_precision: 0.3286 - lr: 3.5000e-04\n",
      "Epoch 15/40\n",
      "139/139 [==============================] - 20s 132ms/step - loss: 0.3711 - accuracy: 0.7979 - auc: 0.9186 - recall: 0.9770 - precision: 0.3308 - val_loss: 0.5032 - val_accuracy: 0.7511 - val_auc: 0.8971 - val_recall: 0.9613 - val_precision: 0.3139 - lr: 3.5000e-04\n",
      "Epoch 16/40\n",
      "139/139 [==============================] - 21s 133ms/step - loss: 0.3669 - accuracy: 0.7990 - auc: 0.9211 - recall: 0.9781 - precision: 0.3323 - val_loss: 0.4907 - val_accuracy: 0.7529 - val_auc: 0.8979 - val_recall: 0.9592 - val_precision: 0.3251 - lr: 3.5000e-04\n",
      "Epoch 17/40\n",
      "139/139 [==============================] - 22s 140ms/step - loss: 0.3513 - accuracy: 0.8063 - auc: 0.9234 - recall: 0.9786 - precision: 0.3338 - val_loss: 0.4753 - val_accuracy: 0.7563 - val_auc: 0.8982 - val_recall: 0.9589 - val_precision: 0.3265 - lr: 3.5000e-04\n",
      "Epoch 18/40\n",
      "139/139 [==============================] - 21s 135ms/step - loss: 0.3397 - accuracy: 0.8099 - auc: 0.9253 - recall: 0.9795 - precision: 0.3382 - val_loss: 0.4843 - val_accuracy: 0.7687 - val_auc: 0.9010 - val_recall: 0.9621 - val_precision: 0.3267 - lr: 3.5000e-04\n",
      "Epoch 19/40\n",
      "139/139 [==============================] - 21s 134ms/step - loss: 0.3273 - accuracy: 0.8130 - auc: 0.9299 - recall: 0.9822 - precision: 0.3384 - val_loss: 0.4831 - val_accuracy: 0.7532 - val_auc: 0.9023 - val_recall: 0.9595 - val_precision: 0.3270 - lr: 3.5000e-04\n",
      "Epoch 20/40\n",
      "139/139 [==============================] - 22s 140ms/step - loss: 0.3164 - accuracy: 0.8230 - auc: 0.9279 - recall: 0.9812 - precision: 0.3413 - val_loss: 0.4795 - val_accuracy: 0.7634 - val_auc: 0.9016 - val_recall: 0.9618 - val_precision: 0.3295 - lr: 3.5000e-04\n",
      "Epoch 21/40\n",
      "139/139 [==============================] - 21s 134ms/step - loss: 0.3068 - accuracy: 0.8270 - auc: 0.9313 - recall: 0.9818 - precision: 0.3457 - val_loss: 0.4743 - val_accuracy: 0.7695 - val_auc: 0.9053 - val_recall: 0.9629 - val_precision: 0.3368 - lr: 3.5000e-04\n",
      "Epoch 22/40\n",
      "139/139 [==============================] - 21s 136ms/step - loss: 0.2987 - accuracy: 0.8318 - auc: 0.9326 - recall: 0.9820 - precision: 0.3465 - val_loss: 0.4646 - val_accuracy: 0.7705 - val_auc: 0.9025 - val_recall: 0.9616 - val_precision: 0.3410 - lr: 3.5000e-04\n",
      "Epoch 23/40\n",
      "139/139 [==============================] - 21s 133ms/step - loss: 0.2921 - accuracy: 0.8310 - auc: 0.9359 - recall: 0.9848 - precision: 0.3458 - val_loss: 0.4971 - val_accuracy: 0.7637 - val_auc: 0.9058 - val_recall: 0.9666 - val_precision: 0.3223 - lr: 3.5000e-04\n",
      "Epoch 24/40\n",
      "139/139 [==============================] - 21s 135ms/step - loss: 0.2864 - accuracy: 0.8350 - auc: 0.9384 - recall: 0.9861 - precision: 0.3459 - val_loss: 0.4664 - val_accuracy: 0.7711 - val_auc: 0.9059 - val_recall: 0.9637 - val_precision: 0.3385 - lr: 3.5000e-04\n",
      "Epoch 25/40\n",
      "139/139 [==============================] - 21s 135ms/step - loss: 0.2733 - accuracy: 0.8399 - auc: 0.9404 - recall: 0.9868 - precision: 0.3486 - val_loss: 0.4838 - val_accuracy: 0.7726 - val_auc: 0.9107 - val_recall: 0.9674 - val_precision: 0.3332 - lr: 3.5000e-04\n",
      "Epoch 26/40\n",
      "139/139 [==============================] - 21s 135ms/step - loss: 0.2662 - accuracy: 0.8485 - auc: 0.9411 - recall: 0.9861 - precision: 0.3517 - val_loss: 0.4779 - val_accuracy: 0.7726 - val_auc: 0.9100 - val_recall: 0.9611 - val_precision: 0.3357 - lr: 3.5000e-04\n",
      "Epoch 27/40\n",
      "139/139 [==============================] - 21s 134ms/step - loss: 0.2341 - accuracy: 0.8658 - auc: 0.9456 - recall: 0.9883 - precision: 0.3538 - val_loss: 0.4669 - val_accuracy: 0.7813 - val_auc: 0.9133 - val_recall: 0.9668 - val_precision: 0.3384 - lr: 1.4000e-04\n",
      "Epoch 28/40\n",
      "139/139 [==============================] - 21s 136ms/step - loss: 0.2242 - accuracy: 0.8687 - auc: 0.9483 - recall: 0.9900 - precision: 0.3563 - val_loss: 0.4604 - val_accuracy: 0.7863 - val_auc: 0.9130 - val_recall: 0.9671 - val_precision: 0.3390 - lr: 1.4000e-04\n",
      "Epoch 29/40\n",
      "139/139 [==============================] - 21s 136ms/step - loss: 0.2190 - accuracy: 0.8721 - auc: 0.9495 - recall: 0.9898 - precision: 0.3579 - val_loss: 0.4611 - val_accuracy: 0.7874 - val_auc: 0.9145 - val_recall: 0.9674 - val_precision: 0.3450 - lr: 1.4000e-04\n",
      "Epoch 30/40\n",
      "139/139 [==============================] - 21s 136ms/step - loss: 0.2202 - accuracy: 0.8697 - auc: 0.9482 - recall: 0.9893 - precision: 0.3596 - val_loss: 0.4634 - val_accuracy: 0.7889 - val_auc: 0.9129 - val_recall: 0.9661 - val_precision: 0.3425 - lr: 1.4000e-04\n",
      "Epoch 31/40\n",
      "139/139 [==============================] - 20s 131ms/step - loss: 0.2113 - accuracy: 0.8770 - auc: 0.9503 - recall: 0.9901 - precision: 0.3600 - val_loss: 0.4536 - val_accuracy: 0.7897 - val_auc: 0.9144 - val_recall: 0.9663 - val_precision: 0.3432 - lr: 1.4000e-04\n",
      "Epoch 32/40\n",
      "139/139 [==============================] - 21s 140ms/step - loss: 0.2024 - accuracy: 0.8812 - auc: 0.9520 - recall: 0.9909 - precision: 0.3599 - val_loss: 0.4591 - val_accuracy: 0.7834 - val_auc: 0.9164 - val_recall: 0.9705 - val_precision: 0.3388 - lr: 1.4000e-04\n",
      "Epoch 33/40\n",
      "139/139 [==============================] - 21s 135ms/step - loss: 0.2016 - accuracy: 0.8829 - auc: 0.9526 - recall: 0.9907 - precision: 0.3608 - val_loss: 0.4639 - val_accuracy: 0.7942 - val_auc: 0.9152 - val_recall: 0.9661 - val_precision: 0.3441 - lr: 1.4000e-04\n",
      "Epoch 34/40\n",
      "139/139 [==============================] - 21s 136ms/step - loss: 0.1995 - accuracy: 0.8779 - auc: 0.9534 - recall: 0.9912 - precision: 0.3609 - val_loss: 0.4497 - val_accuracy: 0.7905 - val_auc: 0.9171 - val_recall: 0.9703 - val_precision: 0.3456 - lr: 1.4000e-04\n",
      "Epoch 35/40\n",
      "139/139 [==============================] - 21s 135ms/step - loss: 0.1906 - accuracy: 0.8847 - auc: 0.9548 - recall: 0.9924 - precision: 0.3628 - val_loss: 0.4655 - val_accuracy: 0.7905 - val_auc: 0.9162 - val_recall: 0.9647 - val_precision: 0.3482 - lr: 1.4000e-04\n",
      "Epoch 36/40\n",
      "139/139 [==============================] - 21s 134ms/step - loss: 0.1890 - accuracy: 0.8890 - auc: 0.9553 - recall: 0.9922 - precision: 0.3640 - val_loss: 0.4604 - val_accuracy: 0.7937 - val_auc: 0.9182 - val_recall: 0.9682 - val_precision: 0.3464 - lr: 1.4000e-04\n",
      "Epoch 37/40\n",
      "139/139 [==============================] - 21s 136ms/step - loss: 0.1923 - accuracy: 0.8842 - auc: 0.9561 - recall: 0.9927 - precision: 0.3655 - val_loss: 0.4391 - val_accuracy: 0.7992 - val_auc: 0.9209 - val_recall: 0.9682 - val_precision: 0.3508 - lr: 1.4000e-04\n",
      "Epoch 38/40\n",
      "139/139 [==============================] - 21s 133ms/step - loss: 0.1814 - accuracy: 0.8920 - auc: 0.9569 - recall: 0.9919 - precision: 0.3649 - val_loss: 0.4484 - val_accuracy: 0.7950 - val_auc: 0.9196 - val_recall: 0.9716 - val_precision: 0.3500 - lr: 1.4000e-04\n",
      "Epoch 39/40\n",
      "139/139 [==============================] - 21s 137ms/step - loss: 0.1827 - accuracy: 0.8913 - auc: 0.9570 - recall: 0.9928 - precision: 0.3670 - val_loss: 0.4587 - val_accuracy: 0.7955 - val_auc: 0.9210 - val_recall: 0.9671 - val_precision: 0.3459 - lr: 1.4000e-04\n",
      "Epoch 40/40\n",
      "139/139 [==============================] - 20s 131ms/step - loss: 0.1776 - accuracy: 0.8946 - auc: 0.9589 - recall: 0.9925 - precision: 0.3696 - val_loss: 0.4640 - val_accuracy: 0.7982 - val_auc: 0.9206 - val_recall: 0.9674 - val_precision: 0.3524 - lr: 1.4000e-04\n"
     ]
    },
    {
     "data": {
      "text/plain": [
       "<keras.callbacks.History at 0x7f5ebccf4f70>"
      ]
     },
     "execution_count": 19,
     "metadata": {},
     "output_type": "execute_result"
    }
   ],
   "source": [
    "model.fit(\n",
    "    train_aug,\n",
    "    epochs = EPOCHS,\n",
    "    callbacks = [csv_logger, tensorboard, checkpoint, reducelr],\n",
    "    validation_data = val_ds\n",
    ")"
   ]
  },
  {
   "cell_type": "code",
   "execution_count": 20,
   "id": "6a580a74",
   "metadata": {
    "execution": {
     "iopub.execute_input": "2023-06-11T09:55:34.440813Z",
     "iopub.status.busy": "2023-06-11T09:55:34.440311Z",
     "iopub.status.idle": "2023-06-11T09:56:42.587349Z",
     "shell.execute_reply": "2023-06-11T09:56:42.585949Z"
    },
    "papermill": {
     "duration": 68.605829,
     "end_time": "2023-06-11T09:56:42.590116",
     "exception": false,
     "start_time": "2023-06-11T09:55:33.984287",
     "status": "completed"
    },
    "tags": []
   },
   "outputs": [
    {
     "name": "stderr",
     "output_type": "stream",
     "text": [
      "WARNING:absl:Found untraced functions such as _jit_compiled_convolution_op, _jit_compiled_convolution_op, _jit_compiled_convolution_op, _jit_compiled_convolution_op, _jit_compiled_convolution_op while saving (showing 5 of 112). These functions will not be directly callable after loading.\n"
     ]
    },
    {
     "name": "stdout",
     "output_type": "stream",
     "text": [
      "INFO:tensorflow:Assets written to: /kaggle/working/aug_focal_loss_unfreezing/assets\n"
     ]
    },
    {
     "name": "stderr",
     "output_type": "stream",
     "text": [
      "INFO:tensorflow:Assets written to: /kaggle/working/aug_focal_loss_unfreezing/assets\n"
     ]
    }
   ],
   "source": [
    "model.save(os.path.join(SAVE_DIR,\"aug_focal_loss_unfreezing\"))"
   ]
  },
  {
   "cell_type": "code",
   "execution_count": 21,
   "id": "08311fa6",
   "metadata": {
    "execution": {
     "iopub.execute_input": "2023-06-11T09:56:43.537762Z",
     "iopub.status.busy": "2023-06-11T09:56:43.537307Z",
     "iopub.status.idle": "2023-06-11T09:56:45.028077Z",
     "shell.execute_reply": "2023-06-11T09:56:45.026507Z"
    },
    "papermill": {
     "duration": 1.947355,
     "end_time": "2023-06-11T09:56:45.030543",
     "exception": false,
     "start_time": "2023-06-11T09:56:43.083188",
     "status": "completed"
    },
    "tags": []
   },
   "outputs": [
    {
     "name": "stdout",
     "output_type": "stream",
     "text": [
      "You must install pydot (`pip install pydot`) and install graphviz (see instructions at https://graphviz.gitlab.io/download/) for plot_model to work.\n"
     ]
    }
   ],
   "source": [
    "keras.utils.plot_model(\n",
    "    model,\n",
    "    to_file = os.path.join(SAVE_DIR, 'model.png')\n",
    ")"
   ]
  },
  {
   "cell_type": "markdown",
   "id": "b877967a",
   "metadata": {
    "papermill": {
     "duration": 0.448985,
     "end_time": "2023-06-11T09:56:45.939794",
     "exception": false,
     "start_time": "2023-06-11T09:56:45.490809",
     "status": "completed"
    },
    "tags": []
   },
   "source": [
    "### Train model with weighted cross entropy"
   ]
  },
  {
   "cell_type": "code",
   "execution_count": 22,
   "id": "63715754",
   "metadata": {
    "execution": {
     "iopub.execute_input": "2023-06-11T09:56:46.946157Z",
     "iopub.status.busy": "2023-06-11T09:56:46.945305Z",
     "iopub.status.idle": "2023-06-11T09:56:49.412243Z",
     "shell.execute_reply": "2023-06-11T09:56:49.411027Z"
    },
    "papermill": {
     "duration": 2.993312,
     "end_time": "2023-06-11T09:56:49.414497",
     "exception": false,
     "start_time": "2023-06-11T09:56:46.421185",
     "status": "completed"
    },
    "tags": []
   },
   "outputs": [
    {
     "data": {
      "text/plain": [
       "379563"
      ]
     },
     "execution_count": 22,
     "metadata": {},
     "output_type": "execute_result"
    }
   ],
   "source": [
    "keras.backend.clear_session()\n",
    "gc.collect()"
   ]
  },
  {
   "cell_type": "code",
   "execution_count": 23,
   "id": "4db187e8",
   "metadata": {
    "execution": {
     "iopub.execute_input": "2023-06-11T09:56:50.326208Z",
     "iopub.status.busy": "2023-06-11T09:56:50.325765Z",
     "iopub.status.idle": "2023-06-11T09:57:07.782258Z",
     "shell.execute_reply": "2023-06-11T09:57:07.781027Z"
    },
    "papermill": {
     "duration": 17.920083,
     "end_time": "2023-06-11T09:57:07.785213",
     "exception": false,
     "start_time": "2023-06-11T09:56:49.865130",
     "status": "completed"
    },
    "tags": []
   },
   "outputs": [],
   "source": [
    "with strategy.scope():\n",
    "    model = get_model()"
   ]
  },
  {
   "cell_type": "code",
   "execution_count": 24,
   "id": "06231fe4",
   "metadata": {
    "execution": {
     "iopub.execute_input": "2023-06-11T09:57:08.768645Z",
     "iopub.status.busy": "2023-06-11T09:57:08.767585Z",
     "iopub.status.idle": "2023-06-11T09:57:08.954685Z",
     "shell.execute_reply": "2023-06-11T09:57:08.953509Z"
    },
    "papermill": {
     "duration": 0.703137,
     "end_time": "2023-06-11T09:57:08.957607",
     "exception": false,
     "start_time": "2023-06-11T09:57:08.254470",
     "status": "completed"
    },
    "tags": []
   },
   "outputs": [],
   "source": [
    "with strategy.scope():\n",
    "    optimizer = keras.optimizers.Adam(\n",
    "        LR\n",
    "    )\n",
    "    \n",
    "    model.compile(\n",
    "        optimizer = optimizer,\n",
    "        loss = keras.losses.CategoricalCrossentropy(from_logits = True),\n",
    "        metrics = [\n",
    "            \"accuracy\",\n",
    "            keras.metrics.AUC(\n",
    "                multi_label = True,\n",
    "                from_logits = True,\n",
    "                num_labels = NUM_CLASSES\n",
    "            ),\n",
    "            keras.metrics.Recall(thresholds = 0),\n",
    "            keras.metrics.Precision(thresholds = 0)\n",
    "        ]\n",
    "    )"
   ]
  },
  {
   "cell_type": "code",
   "execution_count": 25,
   "id": "3212f8a8",
   "metadata": {
    "execution": {
     "iopub.execute_input": "2023-06-11T09:57:09.858821Z",
     "iopub.status.busy": "2023-06-11T09:57:09.857871Z",
     "iopub.status.idle": "2023-06-11T09:57:09.867537Z",
     "shell.execute_reply": "2023-06-11T09:57:09.866430Z"
    },
    "papermill": {
     "duration": 0.462378,
     "end_time": "2023-06-11T09:57:09.870003",
     "exception": false,
     "start_time": "2023-06-11T09:57:09.407625",
     "status": "completed"
    },
    "tags": []
   },
   "outputs": [],
   "source": [
    "with strategy.scope():\n",
    "    csv_logger = keras.callbacks.CSVLogger(os.path.join(SAVE_DIR, 'aug_weighted_crossentropy_loss_unfreezing.csv'))\n",
    "    tensorboard = keras.callbacks.TensorBoard(os.path.join(SAVE_DIR, 'logs', 'aug_weighted_crossentropy_loss_unfreezing/'))\n",
    "    checkpoint = keras.callbacks.ModelCheckpoint(os.path.join(SAVE_DIR, \"aug-weighted-crossentropy-loss-unfreezing-at-epoch-{epoch:02d}.hdf5\"))\n",
    "    reducelr = keras.callbacks.ReduceLROnPlateau(monitor=\"val_loss\", factor=.4, patience=4, min_lr=1e-7)"
   ]
  },
  {
   "cell_type": "code",
   "execution_count": 26,
   "id": "5a8bf28f",
   "metadata": {
    "execution": {
     "iopub.execute_input": "2023-06-11T09:57:10.766671Z",
     "iopub.status.busy": "2023-06-11T09:57:10.765778Z",
     "iopub.status.idle": "2023-06-11T10:12:57.010337Z",
     "shell.execute_reply": "2023-06-11T10:12:57.009097Z"
    },
    "papermill": {
     "duration": 947.622792,
     "end_time": "2023-06-11T10:12:57.940529",
     "exception": false,
     "start_time": "2023-06-11T09:57:10.317737",
     "status": "completed"
    },
    "tags": []
   },
   "outputs": [
    {
     "name": "stdout",
     "output_type": "stream",
     "text": [
      "Epoch 1/40\n"
     ]
    },
    {
     "name": "stderr",
     "output_type": "stream",
     "text": [
      "2023-06-11 09:57:31.519501: E tensorflow/core/grappler/optimizers/meta_optimizer.cc:954] model_pruner failed: INVALID_ARGUMENT: Graph does not contain terminal node Add_123/ReadVariableOp.\n",
      "2023-06-11 09:57:32.203979: E tensorflow/core/grappler/optimizers/meta_optimizer.cc:954] model_pruner failed: INVALID_ARGUMENT: Graph does not contain terminal node Add_123/ReadVariableOp.\n"
     ]
    },
    {
     "name": "stdout",
     "output_type": "stream",
     "text": [
      "139/139 [==============================] - ETA: 0s - loss: 0.4807 - accuracy: 0.3333 - auc: 0.7274 - recall: 0.7944 - precision: 0.1944"
     ]
    },
    {
     "name": "stderr",
     "output_type": "stream",
     "text": [
      "2023-06-11 09:58:27.912136: E tensorflow/core/grappler/optimizers/meta_optimizer.cc:954] model_pruner failed: INVALID_ARGUMENT: Graph does not contain terminal node Add/ReadVariableOp.\n",
      "2023-06-11 09:58:28.305900: E tensorflow/core/grappler/optimizers/meta_optimizer.cc:954] model_pruner failed: INVALID_ARGUMENT: Graph does not contain terminal node Add/ReadVariableOp.\n"
     ]
    },
    {
     "name": "stdout",
     "output_type": "stream",
     "text": [
      "139/139 [==============================] - 100s 368ms/step - loss: 0.4807 - accuracy: 0.3333 - auc: 0.7274 - recall: 0.7944 - precision: 0.1944 - val_loss: 1.5091 - val_accuracy: 0.4355 - val_auc: 0.7994 - val_recall: 0.9047 - val_precision: 0.2092 - lr: 3.5000e-04\n",
      "Epoch 2/40\n",
      "139/139 [==============================] - 21s 139ms/step - loss: 0.3850 - accuracy: 0.4519 - auc: 0.8031 - recall: 0.8780 - precision: 0.2137 - val_loss: 1.2747 - val_accuracy: 0.5350 - val_auc: 0.8375 - val_recall: 0.9208 - val_precision: 0.2264 - lr: 3.5000e-04\n",
      "Epoch 3/40\n",
      "139/139 [==============================] - 21s 134ms/step - loss: 0.3385 - accuracy: 0.5127 - auc: 0.8320 - recall: 0.9095 - precision: 0.2198 - val_loss: 1.1682 - val_accuracy: 0.5708 - val_auc: 0.8606 - val_recall: 0.9503 - val_precision: 0.2239 - lr: 3.5000e-04\n",
      "Epoch 4/40\n",
      "139/139 [==============================] - 21s 135ms/step - loss: 0.3111 - accuracy: 0.5296 - auc: 0.8568 - recall: 0.9314 - precision: 0.2228 - val_loss: 1.2155 - val_accuracy: 0.5492 - val_auc: 0.8697 - val_recall: 0.9489 - val_precision: 0.2170 - lr: 3.5000e-04\n",
      "Epoch 5/40\n",
      "139/139 [==============================] - 21s 134ms/step - loss: 0.2868 - accuracy: 0.5631 - auc: 0.8662 - recall: 0.9454 - precision: 0.2272 - val_loss: 1.1379 - val_accuracy: 0.5837 - val_auc: 0.8751 - val_recall: 0.9605 - val_precision: 0.2217 - lr: 3.5000e-04\n",
      "Epoch 6/40\n",
      "139/139 [==============================] - 21s 134ms/step - loss: 0.2757 - accuracy: 0.5780 - auc: 0.8732 - recall: 0.9525 - precision: 0.2254 - val_loss: 1.0984 - val_accuracy: 0.5955 - val_auc: 0.8870 - val_recall: 0.9629 - val_precision: 0.2278 - lr: 3.5000e-04\n",
      "Epoch 7/40\n",
      "139/139 [==============================] - 22s 143ms/step - loss: 0.2513 - accuracy: 0.5991 - auc: 0.8855 - recall: 0.9623 - precision: 0.2272 - val_loss: 0.9979 - val_accuracy: 0.6366 - val_auc: 0.8827 - val_recall: 0.9637 - val_precision: 0.2354 - lr: 3.5000e-04\n",
      "Epoch 8/40\n",
      "139/139 [==============================] - 21s 134ms/step - loss: 0.2430 - accuracy: 0.6144 - auc: 0.8867 - recall: 0.9627 - precision: 0.2299 - val_loss: 1.0109 - val_accuracy: 0.6318 - val_auc: 0.8856 - val_recall: 0.9729 - val_precision: 0.2327 - lr: 3.5000e-04\n",
      "Epoch 9/40\n",
      "139/139 [==============================] - 21s 134ms/step - loss: 0.2402 - accuracy: 0.6146 - auc: 0.8897 - recall: 0.9697 - precision: 0.2306 - val_loss: 1.0213 - val_accuracy: 0.6326 - val_auc: 0.8949 - val_recall: 0.9705 - val_precision: 0.2286 - lr: 3.5000e-04\n",
      "Epoch 10/40\n",
      "139/139 [==============================] - 21s 133ms/step - loss: 0.2215 - accuracy: 0.6357 - auc: 0.8951 - recall: 0.9704 - precision: 0.2298 - val_loss: 0.9723 - val_accuracy: 0.6482 - val_auc: 0.8949 - val_recall: 0.9721 - val_precision: 0.2302 - lr: 3.5000e-04\n",
      "Epoch 11/40\n",
      "139/139 [==============================] - 20s 132ms/step - loss: 0.2186 - accuracy: 0.6342 - auc: 0.8967 - recall: 0.9752 - precision: 0.2300 - val_loss: 0.9619 - val_accuracy: 0.6471 - val_auc: 0.8946 - val_recall: 0.9821 - val_precision: 0.2316 - lr: 3.5000e-04\n",
      "Epoch 12/40\n",
      "139/139 [==============================] - 20s 132ms/step - loss: 0.2079 - accuracy: 0.6502 - auc: 0.9013 - recall: 0.9777 - precision: 0.2297 - val_loss: 0.9834 - val_accuracy: 0.6400 - val_auc: 0.8932 - val_recall: 0.9800 - val_precision: 0.2327 - lr: 3.5000e-04\n",
      "Epoch 13/40\n",
      "139/139 [==============================] - 20s 133ms/step - loss: 0.2017 - accuracy: 0.6532 - auc: 0.9035 - recall: 0.9816 - precision: 0.2297 - val_loss: 1.0039 - val_accuracy: 0.6353 - val_auc: 0.8924 - val_recall: 0.9776 - val_precision: 0.2355 - lr: 3.5000e-04\n",
      "Epoch 14/40\n",
      "139/139 [==============================] - 21s 139ms/step - loss: 0.1951 - accuracy: 0.6576 - auc: 0.9045 - recall: 0.9840 - precision: 0.2308 - val_loss: 0.9203 - val_accuracy: 0.6737 - val_auc: 0.8991 - val_recall: 0.9803 - val_precision: 0.2336 - lr: 3.5000e-04\n",
      "Epoch 15/40\n",
      "139/139 [==============================] - 21s 137ms/step - loss: 0.1922 - accuracy: 0.6653 - auc: 0.9057 - recall: 0.9816 - precision: 0.2306 - val_loss: 0.9673 - val_accuracy: 0.6555 - val_auc: 0.8984 - val_recall: 0.9803 - val_precision: 0.2322 - lr: 3.5000e-04\n",
      "Epoch 16/40\n",
      "139/139 [==============================] - 21s 134ms/step - loss: 0.1815 - accuracy: 0.6718 - auc: 0.9092 - recall: 0.9834 - precision: 0.2341 - val_loss: 0.9013 - val_accuracy: 0.6842 - val_auc: 0.8987 - val_recall: 0.9842 - val_precision: 0.2362 - lr: 3.5000e-04\n",
      "Epoch 17/40\n",
      "139/139 [==============================] - 20s 132ms/step - loss: 0.1754 - accuracy: 0.6843 - auc: 0.9128 - recall: 0.9839 - precision: 0.2348 - val_loss: 0.9713 - val_accuracy: 0.6600 - val_auc: 0.8990 - val_recall: 0.9826 - val_precision: 0.2407 - lr: 3.5000e-04\n",
      "Epoch 18/40\n",
      "139/139 [==============================] - 20s 133ms/step - loss: 0.1730 - accuracy: 0.6906 - auc: 0.9129 - recall: 0.9866 - precision: 0.2344 - val_loss: 0.8902 - val_accuracy: 0.6871 - val_auc: 0.8980 - val_recall: 0.9863 - val_precision: 0.2357 - lr: 3.5000e-04\n",
      "Epoch 19/40\n",
      "139/139 [==============================] - 22s 141ms/step - loss: 0.1690 - accuracy: 0.6975 - auc: 0.9167 - recall: 0.9878 - precision: 0.2355 - val_loss: 0.9077 - val_accuracy: 0.6747 - val_auc: 0.9032 - val_recall: 0.9834 - val_precision: 0.2404 - lr: 3.5000e-04\n",
      "Epoch 20/40\n",
      "139/139 [==============================] - 20s 133ms/step - loss: 0.1644 - accuracy: 0.7012 - auc: 0.9189 - recall: 0.9886 - precision: 0.2358 - val_loss: 0.9673 - val_accuracy: 0.6637 - val_auc: 0.9010 - val_recall: 0.9866 - val_precision: 0.2299 - lr: 3.5000e-04\n",
      "Epoch 21/40\n",
      "139/139 [==============================] - 21s 135ms/step - loss: 0.1609 - accuracy: 0.7095 - auc: 0.9185 - recall: 0.9895 - precision: 0.2347 - val_loss: 0.9096 - val_accuracy: 0.6853 - val_auc: 0.9010 - val_recall: 0.9882 - val_precision: 0.2340 - lr: 3.5000e-04\n",
      "Epoch 22/40\n",
      "139/139 [==============================] - 21s 134ms/step - loss: 0.1620 - accuracy: 0.7040 - auc: 0.9177 - recall: 0.9896 - precision: 0.2365 - val_loss: 0.8753 - val_accuracy: 0.6963 - val_auc: 0.9032 - val_recall: 0.9845 - val_precision: 0.2393 - lr: 3.5000e-04\n",
      "Epoch 23/40\n",
      "139/139 [==============================] - 21s 136ms/step - loss: 0.1536 - accuracy: 0.7114 - auc: 0.9196 - recall: 0.9906 - precision: 0.2371 - val_loss: 0.8893 - val_accuracy: 0.6916 - val_auc: 0.9054 - val_recall: 0.9816 - val_precision: 0.2387 - lr: 3.5000e-04\n",
      "Epoch 24/40\n",
      "139/139 [==============================] - 21s 135ms/step - loss: 0.1550 - accuracy: 0.7177 - auc: 0.9207 - recall: 0.9904 - precision: 0.2374 - val_loss: 0.9567 - val_accuracy: 0.6692 - val_auc: 0.9024 - val_recall: 0.9850 - val_precision: 0.2374 - lr: 3.5000e-04\n",
      "Epoch 25/40\n",
      "139/139 [==============================] - 21s 136ms/step - loss: 0.1452 - accuracy: 0.7218 - auc: 0.9237 - recall: 0.9920 - precision: 0.2396 - val_loss: 0.8767 - val_accuracy: 0.6958 - val_auc: 0.9075 - val_recall: 0.9876 - val_precision: 0.2390 - lr: 3.5000e-04\n",
      "Epoch 26/40\n",
      "139/139 [==============================] - 21s 140ms/step - loss: 0.1412 - accuracy: 0.7332 - auc: 0.9228 - recall: 0.9924 - precision: 0.2413 - val_loss: 0.8390 - val_accuracy: 0.7058 - val_auc: 0.9036 - val_recall: 0.9900 - val_precision: 0.2406 - lr: 3.5000e-04\n",
      "Epoch 27/40\n",
      "139/139 [==============================] - 21s 137ms/step - loss: 0.1394 - accuracy: 0.7318 - auc: 0.9237 - recall: 0.9925 - precision: 0.2393 - val_loss: 0.8856 - val_accuracy: 0.6858 - val_auc: 0.9025 - val_recall: 0.9900 - val_precision: 0.2368 - lr: 3.5000e-04\n",
      "Epoch 28/40\n",
      "139/139 [==============================] - 21s 137ms/step - loss: 0.1319 - accuracy: 0.7418 - auc: 0.9259 - recall: 0.9931 - precision: 0.2407 - val_loss: 0.8333 - val_accuracy: 0.7089 - val_auc: 0.9068 - val_recall: 0.9897 - val_precision: 0.2394 - lr: 3.5000e-04\n",
      "Epoch 29/40\n",
      "139/139 [==============================] - 21s 137ms/step - loss: 0.1302 - accuracy: 0.7507 - auc: 0.9270 - recall: 0.9933 - precision: 0.2407 - val_loss: 0.9067 - val_accuracy: 0.7063 - val_auc: 0.8972 - val_recall: 0.9895 - val_precision: 0.2407 - lr: 3.5000e-04\n",
      "Epoch 30/40\n",
      "139/139 [==============================] - 21s 137ms/step - loss: 0.1283 - accuracy: 0.7456 - auc: 0.9280 - recall: 0.9935 - precision: 0.2418 - val_loss: 0.9034 - val_accuracy: 0.6947 - val_auc: 0.9014 - val_recall: 0.9903 - val_precision: 0.2383 - lr: 3.5000e-04\n",
      "Epoch 31/40\n",
      "139/139 [==============================] - 22s 143ms/step - loss: 0.1367 - accuracy: 0.7355 - auc: 0.9248 - recall: 0.9935 - precision: 0.2424 - val_loss: 0.8796 - val_accuracy: 0.7082 - val_auc: 0.9045 - val_recall: 0.9905 - val_precision: 0.2417 - lr: 3.5000e-04\n",
      "Epoch 32/40\n",
      "139/139 [==============================] - 21s 135ms/step - loss: 0.1287 - accuracy: 0.7528 - auc: 0.9260 - recall: 0.9935 - precision: 0.2432 - val_loss: 0.9009 - val_accuracy: 0.7003 - val_auc: 0.8991 - val_recall: 0.9842 - val_precision: 0.2474 - lr: 3.5000e-04\n",
      "Epoch 33/40\n",
      "139/139 [==============================] - 21s 138ms/step - loss: 0.1173 - accuracy: 0.7632 - auc: 0.9288 - recall: 0.9943 - precision: 0.2465 - val_loss: 0.8157 - val_accuracy: 0.7253 - val_auc: 0.9051 - val_recall: 0.9908 - val_precision: 0.2458 - lr: 1.4000e-04\n",
      "Epoch 34/40\n",
      "139/139 [==============================] - 21s 134ms/step - loss: 0.1092 - accuracy: 0.7774 - auc: 0.9322 - recall: 0.9940 - precision: 0.2471 - val_loss: 0.8006 - val_accuracy: 0.7287 - val_auc: 0.9088 - val_recall: 0.9905 - val_precision: 0.2461 - lr: 1.4000e-04\n",
      "Epoch 35/40\n",
      "139/139 [==============================] - 21s 135ms/step - loss: 0.1060 - accuracy: 0.7801 - auc: 0.9337 - recall: 0.9944 - precision: 0.2458 - val_loss: 0.7982 - val_accuracy: 0.7289 - val_auc: 0.9087 - val_recall: 0.9921 - val_precision: 0.2473 - lr: 1.4000e-04\n",
      "Epoch 36/40\n",
      "139/139 [==============================] - 21s 136ms/step - loss: 0.1015 - accuracy: 0.7844 - auc: 0.9352 - recall: 0.9954 - precision: 0.2462 - val_loss: 0.8132 - val_accuracy: 0.7276 - val_auc: 0.9118 - val_recall: 0.9903 - val_precision: 0.2477 - lr: 1.4000e-04\n",
      "Epoch 37/40\n",
      "139/139 [==============================] - 21s 135ms/step - loss: 0.1031 - accuracy: 0.7852 - auc: 0.9358 - recall: 0.9956 - precision: 0.2460 - val_loss: 0.7849 - val_accuracy: 0.7279 - val_auc: 0.9087 - val_recall: 0.9908 - val_precision: 0.2466 - lr: 1.4000e-04\n",
      "Epoch 38/40\n",
      "139/139 [==============================] - 21s 134ms/step - loss: 0.0995 - accuracy: 0.7873 - auc: 0.9358 - recall: 0.9958 - precision: 0.2476 - val_loss: 0.7982 - val_accuracy: 0.7366 - val_auc: 0.9099 - val_recall: 0.9911 - val_precision: 0.2453 - lr: 1.4000e-04\n",
      "Epoch 39/40\n",
      "139/139 [==============================] - 21s 135ms/step - loss: 0.0989 - accuracy: 0.7893 - auc: 0.9375 - recall: 0.9955 - precision: 0.2483 - val_loss: 0.7683 - val_accuracy: 0.7413 - val_auc: 0.9160 - val_recall: 0.9929 - val_precision: 0.2469 - lr: 1.4000e-04\n",
      "Epoch 40/40\n",
      "139/139 [==============================] - 21s 140ms/step - loss: 0.0955 - accuracy: 0.7908 - auc: 0.9388 - recall: 0.9958 - precision: 0.2490 - val_loss: 0.7801 - val_accuracy: 0.7358 - val_auc: 0.9112 - val_recall: 0.9937 - val_precision: 0.2459 - lr: 1.4000e-04\n"
     ]
    },
    {
     "data": {
      "text/plain": [
       "<keras.callbacks.History at 0x7f5a580eaa30>"
      ]
     },
     "execution_count": 26,
     "metadata": {},
     "output_type": "execute_result"
    }
   ],
   "source": [
    "model.fit(\n",
    "    train_aug,\n",
    "    epochs = EPOCHS,\n",
    "    callbacks = [csv_logger, tensorboard, checkpoint, reducelr],\n",
    "    class_weight = class_weight,\n",
    "    validation_data = val_ds\n",
    ")"
   ]
  },
  {
   "cell_type": "code",
   "execution_count": 27,
   "id": "4229d537",
   "metadata": {
    "execution": {
     "iopub.execute_input": "2023-06-11T10:12:59.817354Z",
     "iopub.status.busy": "2023-06-11T10:12:59.816306Z",
     "iopub.status.idle": "2023-06-11T10:14:06.430109Z",
     "shell.execute_reply": "2023-06-11T10:14:06.428666Z"
    },
    "papermill": {
     "duration": 67.57233,
     "end_time": "2023-06-11T10:14:06.433097",
     "exception": false,
     "start_time": "2023-06-11T10:12:58.860767",
     "status": "completed"
    },
    "tags": []
   },
   "outputs": [
    {
     "name": "stderr",
     "output_type": "stream",
     "text": [
      "WARNING:absl:Found untraced functions such as _jit_compiled_convolution_op, _jit_compiled_convolution_op, _jit_compiled_convolution_op, _jit_compiled_convolution_op, _jit_compiled_convolution_op while saving (showing 5 of 112). These functions will not be directly callable after loading.\n"
     ]
    },
    {
     "name": "stdout",
     "output_type": "stream",
     "text": [
      "INFO:tensorflow:Assets written to: /kaggle/working/aug_weighted_crossentropy_loss_unfreezing/assets\n"
     ]
    },
    {
     "name": "stderr",
     "output_type": "stream",
     "text": [
      "INFO:tensorflow:Assets written to: /kaggle/working/aug_weighted_crossentropy_loss_unfreezing/assets\n"
     ]
    }
   ],
   "source": [
    "model.save(os.path.join(SAVE_DIR,\"aug_weighted_crossentropy_loss_unfreezing\"))"
   ]
  },
  {
   "cell_type": "markdown",
   "id": "ea35e518",
   "metadata": {
    "papermill": {
     "duration": 0.889031,
     "end_time": "2023-06-11T10:14:08.205928",
     "exception": false,
     "start_time": "2023-06-11T10:14:07.316897",
     "status": "completed"
    },
    "tags": []
   },
   "source": [
    "### Train focal loss model without augmentation"
   ]
  },
  {
   "cell_type": "code",
   "execution_count": 28,
   "id": "0c78f0dc",
   "metadata": {
    "execution": {
     "iopub.execute_input": "2023-06-11T10:14:10.177725Z",
     "iopub.status.busy": "2023-06-11T10:14:10.177334Z",
     "iopub.status.idle": "2023-06-11T10:14:12.582262Z",
     "shell.execute_reply": "2023-06-11T10:14:12.580941Z"
    },
    "papermill": {
     "duration": 3.362366,
     "end_time": "2023-06-11T10:14:12.587839",
     "exception": false,
     "start_time": "2023-06-11T10:14:09.225473",
     "status": "completed"
    },
    "tags": []
   },
   "outputs": [
    {
     "data": {
      "text/plain": [
       "378905"
      ]
     },
     "execution_count": 28,
     "metadata": {},
     "output_type": "execute_result"
    }
   ],
   "source": [
    "keras.backend.clear_session()\n",
    "gc.collect()"
   ]
  },
  {
   "cell_type": "code",
   "execution_count": 29,
   "id": "157d4083",
   "metadata": {
    "execution": {
     "iopub.execute_input": "2023-06-11T10:14:14.418364Z",
     "iopub.status.busy": "2023-06-11T10:14:14.417979Z",
     "iopub.status.idle": "2023-06-11T10:14:32.079225Z",
     "shell.execute_reply": "2023-06-11T10:14:32.077786Z"
    },
    "papermill": {
     "duration": 18.554533,
     "end_time": "2023-06-11T10:14:32.081977",
     "exception": false,
     "start_time": "2023-06-11T10:14:13.527444",
     "status": "completed"
    },
    "tags": []
   },
   "outputs": [],
   "source": [
    "with strategy.scope():\n",
    "    model = get_model()"
   ]
  },
  {
   "cell_type": "code",
   "execution_count": 30,
   "id": "b028b821",
   "metadata": {
    "execution": {
     "iopub.execute_input": "2023-06-11T10:14:33.907381Z",
     "iopub.status.busy": "2023-06-11T10:14:33.906561Z",
     "iopub.status.idle": "2023-06-11T10:14:34.094793Z",
     "shell.execute_reply": "2023-06-11T10:14:34.093496Z"
    },
    "papermill": {
     "duration": 1.077324,
     "end_time": "2023-06-11T10:14:34.097175",
     "exception": false,
     "start_time": "2023-06-11T10:14:33.019851",
     "status": "completed"
    },
    "tags": []
   },
   "outputs": [],
   "source": [
    "with strategy.scope():\n",
    "    optimizer = keras.optimizers.Adam(\n",
    "        LR\n",
    "    )\n",
    "    \n",
    "    model.compile(\n",
    "        optimizer = optimizer,\n",
    "        loss = dermis_utils.losses.CategoricalFocalCrossentropy(gamma = 1., from_logits = True),\n",
    "        metrics = [\n",
    "            \"accuracy\",\n",
    "            keras.metrics.AUC(\n",
    "                multi_label = True,\n",
    "                from_logits = True,\n",
    "                num_labels = NUM_CLASSES\n",
    "            ),\n",
    "            keras.metrics.Recall(thresholds = 0),\n",
    "            keras.metrics.Precision(thresholds = 0)\n",
    "        ]\n",
    "    )"
   ]
  },
  {
   "cell_type": "code",
   "execution_count": 31,
   "id": "6f745a1d",
   "metadata": {
    "execution": {
     "iopub.execute_input": "2023-06-11T10:14:35.993257Z",
     "iopub.status.busy": "2023-06-11T10:14:35.992442Z",
     "iopub.status.idle": "2023-06-11T10:14:36.001683Z",
     "shell.execute_reply": "2023-06-11T10:14:36.000542Z"
    },
    "papermill": {
     "duration": 0.929052,
     "end_time": "2023-06-11T10:14:36.004188",
     "exception": false,
     "start_time": "2023-06-11T10:14:35.075136",
     "status": "completed"
    },
    "tags": []
   },
   "outputs": [],
   "source": [
    "with strategy.scope():\n",
    "    \n",
    "    csv_logger = keras.callbacks.CSVLogger(os.path.join(SAVE_DIR, 'non_aug_focal_loss_unfreezing.csv'))\n",
    "    tensorboard = keras.callbacks.TensorBoard(os.path.join(SAVE_DIR, 'logs', 'non_aug_focal_loss_unfreezing/'))\n",
    "    checkpoint = keras.callbacks.ModelCheckpoint(os.path.join(SAVE_DIR, \"non-aug-focal-loss-unfreezing-at-epoch-{epoch:02d}.hdf5\"))\n",
    "    reducelr = keras.callbacks.ReduceLROnPlateau(monitor=\"val_loss\", factor=.4, patience=4, min_lr=1e-7)"
   ]
  },
  {
   "cell_type": "code",
   "execution_count": 32,
   "id": "baba00a2",
   "metadata": {
    "execution": {
     "iopub.execute_input": "2023-06-11T10:14:37.947036Z",
     "iopub.status.busy": "2023-06-11T10:14:37.946025Z",
     "iopub.status.idle": "2023-06-11T10:25:59.493797Z",
     "shell.execute_reply": "2023-06-11T10:25:59.492427Z"
    },
    "papermill": {
     "duration": 682.501119,
     "end_time": "2023-06-11T10:25:59.496307",
     "exception": false,
     "start_time": "2023-06-11T10:14:36.995188",
     "status": "completed"
    },
    "tags": []
   },
   "outputs": [
    {
     "name": "stdout",
     "output_type": "stream",
     "text": [
      "Epoch 1/40\n"
     ]
    },
    {
     "name": "stderr",
     "output_type": "stream",
     "text": [
      "2023-06-11 10:14:57.570010: E tensorflow/core/grappler/optimizers/meta_optimizer.cc:954] model_pruner failed: INVALID_ARGUMENT: Graph does not contain terminal node Add_123/ReadVariableOp.\n",
      "2023-06-11 10:14:58.209565: E tensorflow/core/grappler/optimizers/meta_optimizer.cc:954] model_pruner failed: INVALID_ARGUMENT: Graph does not contain terminal node Add_123/ReadVariableOp.\n"
     ]
    },
    {
     "name": "stdout",
     "output_type": "stream",
     "text": [
      "139/139 [==============================] - ETA: 0s - loss: 0.9413 - accuracy: 0.5913 - auc: 0.7489 - recall: 0.8764 - precision: 0.2972"
     ]
    },
    {
     "name": "stderr",
     "output_type": "stream",
     "text": [
      "2023-06-11 10:15:43.728118: E tensorflow/core/grappler/optimizers/meta_optimizer.cc:954] model_pruner failed: INVALID_ARGUMENT: Graph does not contain terminal node Add/ReadVariableOp.\n",
      "2023-06-11 10:15:44.072093: E tensorflow/core/grappler/optimizers/meta_optimizer.cc:954] model_pruner failed: INVALID_ARGUMENT: Graph does not contain terminal node Add/ReadVariableOp.\n"
     ]
    },
    {
     "name": "stdout",
     "output_type": "stream",
     "text": [
      "139/139 [==============================] - 89s 384ms/step - loss: 0.9413 - accuracy: 0.5913 - auc: 0.7489 - recall: 0.8764 - precision: 0.2972 - val_loss: 0.8164 - val_accuracy: 0.6666 - val_auc: 0.8341 - val_recall: 0.9216 - val_precision: 0.3309 - lr: 3.5000e-04\n",
      "Epoch 2/40\n",
      "139/139 [==============================] - 15s 104ms/step - loss: 0.6725 - accuracy: 0.6755 - auc: 0.8451 - recall: 0.9385 - precision: 0.3152 - val_loss: 0.6510 - val_accuracy: 0.6961 - val_auc: 0.8672 - val_recall: 0.9363 - val_precision: 0.3331 - lr: 3.5000e-04\n",
      "Epoch 3/40\n",
      "139/139 [==============================] - 15s 103ms/step - loss: 0.5789 - accuracy: 0.7077 - auc: 0.8780 - recall: 0.9553 - precision: 0.3204 - val_loss: 0.5786 - val_accuracy: 0.7118 - val_auc: 0.8871 - val_recall: 0.9571 - val_precision: 0.3183 - lr: 3.5000e-04\n",
      "Epoch 4/40\n",
      "139/139 [==============================] - 15s 102ms/step - loss: 0.5114 - accuracy: 0.7362 - auc: 0.9003 - recall: 0.9663 - precision: 0.3267 - val_loss: 0.5395 - val_accuracy: 0.7253 - val_auc: 0.9028 - val_recall: 0.9605 - val_precision: 0.3432 - lr: 3.5000e-04\n",
      "Epoch 5/40\n",
      "139/139 [==============================] - 14s 101ms/step - loss: 0.4611 - accuracy: 0.7609 - auc: 0.9123 - recall: 0.9713 - precision: 0.3280 - val_loss: 0.5209 - val_accuracy: 0.7339 - val_auc: 0.9045 - val_recall: 0.9597 - val_precision: 0.3418 - lr: 3.5000e-04\n",
      "Epoch 6/40\n",
      "139/139 [==============================] - 14s 101ms/step - loss: 0.4191 - accuracy: 0.7748 - auc: 0.9231 - recall: 0.9770 - precision: 0.3353 - val_loss: 0.5062 - val_accuracy: 0.7503 - val_auc: 0.9140 - val_recall: 0.9674 - val_precision: 0.3324 - lr: 3.5000e-04\n",
      "Epoch 7/40\n",
      "139/139 [==============================] - 14s 100ms/step - loss: 0.3819 - accuracy: 0.7914 - auc: 0.9330 - recall: 0.9822 - precision: 0.3362 - val_loss: 0.4792 - val_accuracy: 0.7568 - val_auc: 0.9173 - val_recall: 0.9603 - val_precision: 0.3518 - lr: 3.5000e-04\n",
      "Epoch 8/40\n",
      "139/139 [==============================] - 15s 103ms/step - loss: 0.3435 - accuracy: 0.8113 - auc: 0.9404 - recall: 0.9848 - precision: 0.3438 - val_loss: 0.4769 - val_accuracy: 0.7592 - val_auc: 0.9225 - val_recall: 0.9692 - val_precision: 0.3577 - lr: 3.5000e-04\n",
      "Epoch 9/40\n",
      "139/139 [==============================] - 14s 102ms/step - loss: 0.3155 - accuracy: 0.8273 - auc: 0.9461 - recall: 0.9874 - precision: 0.3474 - val_loss: 0.4672 - val_accuracy: 0.7561 - val_auc: 0.9245 - val_recall: 0.9705 - val_precision: 0.3605 - lr: 3.5000e-04\n",
      "Epoch 10/40\n",
      "139/139 [==============================] - 15s 103ms/step - loss: 0.2902 - accuracy: 0.8395 - auc: 0.9503 - recall: 0.9875 - precision: 0.3535 - val_loss: 0.4633 - val_accuracy: 0.7724 - val_auc: 0.9239 - val_recall: 0.9689 - val_precision: 0.3676 - lr: 3.5000e-04\n",
      "Epoch 11/40\n",
      "139/139 [==============================] - 14s 101ms/step - loss: 0.2648 - accuracy: 0.8497 - auc: 0.9548 - recall: 0.9911 - precision: 0.3555 - val_loss: 0.4665 - val_accuracy: 0.7666 - val_auc: 0.9244 - val_recall: 0.9695 - val_precision: 0.3602 - lr: 3.5000e-04\n",
      "Epoch 12/40\n",
      "139/139 [==============================] - 14s 101ms/step - loss: 0.2420 - accuracy: 0.8623 - auc: 0.9593 - recall: 0.9921 - precision: 0.3606 - val_loss: 0.4607 - val_accuracy: 0.7779 - val_auc: 0.9253 - val_recall: 0.9708 - val_precision: 0.3629 - lr: 3.5000e-04\n",
      "Epoch 13/40\n",
      "139/139 [==============================] - 14s 101ms/step - loss: 0.2239 - accuracy: 0.8736 - auc: 0.9622 - recall: 0.9932 - precision: 0.3656 - val_loss: 0.4619 - val_accuracy: 0.7771 - val_auc: 0.9264 - val_recall: 0.9684 - val_precision: 0.3626 - lr: 3.5000e-04\n",
      "Epoch 14/40\n",
      "139/139 [==============================] - 14s 100ms/step - loss: 0.2083 - accuracy: 0.8790 - auc: 0.9651 - recall: 0.9936 - precision: 0.3689 - val_loss: 0.4473 - val_accuracy: 0.7824 - val_auc: 0.9303 - val_recall: 0.9687 - val_precision: 0.3698 - lr: 3.5000e-04\n",
      "Epoch 15/40\n",
      "139/139 [==============================] - 14s 101ms/step - loss: 0.1882 - accuracy: 0.8919 - auc: 0.9686 - recall: 0.9950 - precision: 0.3712 - val_loss: 0.4521 - val_accuracy: 0.7829 - val_auc: 0.9268 - val_recall: 0.9642 - val_precision: 0.3818 - lr: 3.5000e-04\n",
      "Epoch 16/40\n",
      "139/139 [==============================] - 16s 112ms/step - loss: 0.1722 - accuracy: 0.9027 - auc: 0.9708 - recall: 0.9949 - precision: 0.3772 - val_loss: 0.4622 - val_accuracy: 0.7863 - val_auc: 0.9293 - val_recall: 0.9695 - val_precision: 0.3757 - lr: 3.5000e-04\n",
      "Epoch 17/40\n",
      "139/139 [==============================] - 15s 103ms/step - loss: 0.1639 - accuracy: 0.9052 - auc: 0.9723 - recall: 0.9956 - precision: 0.3783 - val_loss: 0.4717 - val_accuracy: 0.7787 - val_auc: 0.9330 - val_recall: 0.9679 - val_precision: 0.3720 - lr: 3.5000e-04\n",
      "Epoch 18/40\n",
      "139/139 [==============================] - 15s 103ms/step - loss: 0.1575 - accuracy: 0.9082 - auc: 0.9735 - recall: 0.9959 - precision: 0.3767 - val_loss: 0.4586 - val_accuracy: 0.7876 - val_auc: 0.9345 - val_recall: 0.9671 - val_precision: 0.3778 - lr: 3.5000e-04\n",
      "Epoch 19/40\n",
      "139/139 [==============================] - 14s 100ms/step - loss: 0.1241 - accuracy: 0.9282 - auc: 0.9794 - recall: 0.9973 - precision: 0.3822 - val_loss: 0.4447 - val_accuracy: 0.8034 - val_auc: 0.9374 - val_recall: 0.9724 - val_precision: 0.3796 - lr: 1.4000e-04\n",
      "Epoch 20/40\n",
      "139/139 [==============================] - 15s 103ms/step - loss: 0.1117 - accuracy: 0.9359 - auc: 0.9809 - recall: 0.9979 - precision: 0.3854 - val_loss: 0.4527 - val_accuracy: 0.8000 - val_auc: 0.9371 - val_recall: 0.9732 - val_precision: 0.3825 - lr: 1.4000e-04\n",
      "Epoch 21/40\n",
      "139/139 [==============================] - 15s 104ms/step - loss: 0.1016 - accuracy: 0.9410 - auc: 0.9818 - recall: 0.9977 - precision: 0.3879 - val_loss: 0.4524 - val_accuracy: 0.8061 - val_auc: 0.9371 - val_recall: 0.9724 - val_precision: 0.3821 - lr: 1.4000e-04\n",
      "Epoch 22/40\n",
      "139/139 [==============================] - 14s 102ms/step - loss: 0.0960 - accuracy: 0.9448 - auc: 0.9832 - recall: 0.9981 - precision: 0.3903 - val_loss: 0.4648 - val_accuracy: 0.8008 - val_auc: 0.9380 - val_recall: 0.9732 - val_precision: 0.3863 - lr: 1.4000e-04\n",
      "Epoch 23/40\n",
      "139/139 [==============================] - 14s 101ms/step - loss: 0.0904 - accuracy: 0.9492 - auc: 0.9833 - recall: 0.9981 - precision: 0.3939 - val_loss: 0.4540 - val_accuracy: 0.7979 - val_auc: 0.9366 - val_recall: 0.9711 - val_precision: 0.3954 - lr: 1.4000e-04\n",
      "Epoch 24/40\n",
      "139/139 [==============================] - 14s 101ms/step - loss: 0.0813 - accuracy: 0.9535 - auc: 0.9850 - recall: 0.9986 - precision: 0.3992 - val_loss: 0.4511 - val_accuracy: 0.8045 - val_auc: 0.9394 - val_recall: 0.9729 - val_precision: 0.3919 - lr: 5.6000e-05\n",
      "Epoch 25/40\n",
      "139/139 [==============================] - 15s 103ms/step - loss: 0.0789 - accuracy: 0.9560 - auc: 0.9854 - recall: 0.9986 - precision: 0.3992 - val_loss: 0.4625 - val_accuracy: 0.8053 - val_auc: 0.9395 - val_recall: 0.9734 - val_precision: 0.3851 - lr: 5.6000e-05\n",
      "Epoch 26/40\n",
      "139/139 [==============================] - 14s 102ms/step - loss: 0.0778 - accuracy: 0.9554 - auc: 0.9858 - recall: 0.9990 - precision: 0.3977 - val_loss: 0.4571 - val_accuracy: 0.8058 - val_auc: 0.9398 - val_recall: 0.9737 - val_precision: 0.3903 - lr: 5.6000e-05\n",
      "Epoch 27/40\n",
      "139/139 [==============================] - 14s 101ms/step - loss: 0.0735 - accuracy: 0.9600 - auc: 0.9863 - recall: 0.9984 - precision: 0.3995 - val_loss: 0.4512 - val_accuracy: 0.8089 - val_auc: 0.9409 - val_recall: 0.9729 - val_precision: 0.3908 - lr: 5.6000e-05\n",
      "Epoch 28/40\n",
      "139/139 [==============================] - 14s 102ms/step - loss: 0.0699 - accuracy: 0.9594 - auc: 0.9876 - recall: 0.9990 - precision: 0.4014 - val_loss: 0.4523 - val_accuracy: 0.8095 - val_auc: 0.9411 - val_recall: 0.9732 - val_precision: 0.3880 - lr: 2.2400e-05\n",
      "Epoch 29/40\n",
      "139/139 [==============================] - 15s 103ms/step - loss: 0.0701 - accuracy: 0.9600 - auc: 0.9868 - recall: 0.9988 - precision: 0.3999 - val_loss: 0.4556 - val_accuracy: 0.8055 - val_auc: 0.9410 - val_recall: 0.9734 - val_precision: 0.3905 - lr: 2.2400e-05\n",
      "Epoch 30/40\n",
      "139/139 [==============================] - 14s 101ms/step - loss: 0.0722 - accuracy: 0.9587 - auc: 0.9870 - recall: 0.9987 - precision: 0.4001 - val_loss: 0.4517 - val_accuracy: 0.8063 - val_auc: 0.9413 - val_recall: 0.9742 - val_precision: 0.3898 - lr: 2.2400e-05\n",
      "Epoch 31/40\n",
      "139/139 [==============================] - 15s 103ms/step - loss: 0.0662 - accuracy: 0.9615 - auc: 0.9876 - recall: 0.9989 - precision: 0.4022 - val_loss: 0.4539 - val_accuracy: 0.8061 - val_auc: 0.9410 - val_recall: 0.9721 - val_precision: 0.3903 - lr: 2.2400e-05\n",
      "Epoch 32/40\n",
      "139/139 [==============================] - 15s 103ms/step - loss: 0.0665 - accuracy: 0.9637 - auc: 0.9879 - recall: 0.9990 - precision: 0.4008 - val_loss: 0.4532 - val_accuracy: 0.8071 - val_auc: 0.9413 - val_recall: 0.9734 - val_precision: 0.3900 - lr: 8.9600e-06\n",
      "Epoch 33/40\n",
      "139/139 [==============================] - 15s 103ms/step - loss: 0.0654 - accuracy: 0.9637 - auc: 0.9877 - recall: 0.9992 - precision: 0.4034 - val_loss: 0.4529 - val_accuracy: 0.8071 - val_auc: 0.9413 - val_recall: 0.9734 - val_precision: 0.3921 - lr: 8.9600e-06\n",
      "Epoch 34/40\n",
      "139/139 [==============================] - 14s 102ms/step - loss: 0.0672 - accuracy: 0.9632 - auc: 0.9878 - recall: 0.9988 - precision: 0.4006 - val_loss: 0.4552 - val_accuracy: 0.8105 - val_auc: 0.9413 - val_recall: 0.9734 - val_precision: 0.3910 - lr: 8.9600e-06\n",
      "Epoch 35/40\n",
      "139/139 [==============================] - 14s 102ms/step - loss: 0.0643 - accuracy: 0.9638 - auc: 0.9883 - recall: 0.9993 - precision: 0.4036 - val_loss: 0.4547 - val_accuracy: 0.8095 - val_auc: 0.9412 - val_recall: 0.9734 - val_precision: 0.3912 - lr: 8.9600e-06\n",
      "Epoch 36/40\n",
      "139/139 [==============================] - 14s 101ms/step - loss: 0.0671 - accuracy: 0.9627 - auc: 0.9878 - recall: 0.9985 - precision: 0.4006 - val_loss: 0.4546 - val_accuracy: 0.8097 - val_auc: 0.9411 - val_recall: 0.9732 - val_precision: 0.3915 - lr: 3.5840e-06\n",
      "Epoch 37/40\n",
      "139/139 [==============================] - 14s 101ms/step - loss: 0.0621 - accuracy: 0.9655 - auc: 0.9884 - recall: 0.9993 - precision: 0.4048 - val_loss: 0.4540 - val_accuracy: 0.8082 - val_auc: 0.9413 - val_recall: 0.9734 - val_precision: 0.3923 - lr: 3.5840e-06\n",
      "Epoch 38/40\n",
      "139/139 [==============================] - 15s 102ms/step - loss: 0.0626 - accuracy: 0.9651 - auc: 0.9883 - recall: 0.9993 - precision: 0.4030 - val_loss: 0.4535 - val_accuracy: 0.8108 - val_auc: 0.9412 - val_recall: 0.9732 - val_precision: 0.3928 - lr: 3.5840e-06\n",
      "Epoch 39/40\n",
      "139/139 [==============================] - 14s 101ms/step - loss: 0.0637 - accuracy: 0.9645 - auc: 0.9883 - recall: 0.9989 - precision: 0.4030 - val_loss: 0.4555 - val_accuracy: 0.8103 - val_auc: 0.9414 - val_recall: 0.9737 - val_precision: 0.3926 - lr: 3.5840e-06\n",
      "Epoch 40/40\n",
      "139/139 [==============================] - 14s 102ms/step - loss: 0.0627 - accuracy: 0.9643 - auc: 0.9883 - recall: 0.9989 - precision: 0.4037 - val_loss: 0.4556 - val_accuracy: 0.8105 - val_auc: 0.9413 - val_recall: 0.9732 - val_precision: 0.3928 - lr: 1.4336e-06\n"
     ]
    },
    {
     "data": {
      "text/plain": [
       "<keras.callbacks.History at 0x7f59b0793550>"
      ]
     },
     "execution_count": 32,
     "metadata": {},
     "output_type": "execute_result"
    }
   ],
   "source": [
    "model.fit(\n",
    "    train_non_aug,\n",
    "    epochs = EPOCHS,\n",
    "    callbacks = [csv_logger, tensorboard, checkpoint, reducelr],\n",
    "    validation_data = val_ds\n",
    ")"
   ]
  },
  {
   "cell_type": "code",
   "execution_count": 33,
   "id": "12ba4361",
   "metadata": {
    "execution": {
     "iopub.execute_input": "2023-06-11T10:26:02.453498Z",
     "iopub.status.busy": "2023-06-11T10:26:02.452984Z",
     "iopub.status.idle": "2023-06-11T10:27:08.679679Z",
     "shell.execute_reply": "2023-06-11T10:27:08.678390Z"
    },
    "papermill": {
     "duration": 67.692319,
     "end_time": "2023-06-11T10:27:08.682503",
     "exception": false,
     "start_time": "2023-06-11T10:26:00.990184",
     "status": "completed"
    },
    "tags": []
   },
   "outputs": [
    {
     "name": "stderr",
     "output_type": "stream",
     "text": [
      "WARNING:absl:Found untraced functions such as _jit_compiled_convolution_op, _jit_compiled_convolution_op, _jit_compiled_convolution_op, _jit_compiled_convolution_op, _jit_compiled_convolution_op while saving (showing 5 of 112). These functions will not be directly callable after loading.\n"
     ]
    },
    {
     "name": "stdout",
     "output_type": "stream",
     "text": [
      "INFO:tensorflow:Assets written to: /kaggle/working/non_aug_focal_loss_unfreezing/assets\n"
     ]
    },
    {
     "name": "stderr",
     "output_type": "stream",
     "text": [
      "INFO:tensorflow:Assets written to: /kaggle/working/non_aug_focal_loss_unfreezing/assets\n"
     ]
    }
   ],
   "source": [
    "model.save(os.path.join(SAVE_DIR, 'non_aug_focal_loss_unfreezing'))"
   ]
  },
  {
   "cell_type": "markdown",
   "id": "e07957e4",
   "metadata": {
    "papermill": {
     "duration": 1.516197,
     "end_time": "2023-06-11T10:27:11.572368",
     "exception": false,
     "start_time": "2023-06-11T10:27:10.056171",
     "status": "completed"
    },
    "tags": []
   },
   "source": [
    "### Train weighted cross entropy model without augmentation"
   ]
  },
  {
   "cell_type": "code",
   "execution_count": 34,
   "id": "2f57830e",
   "metadata": {
    "execution": {
     "iopub.execute_input": "2023-06-11T10:27:14.512577Z",
     "iopub.status.busy": "2023-06-11T10:27:14.512168Z",
     "iopub.status.idle": "2023-06-11T10:27:17.047351Z",
     "shell.execute_reply": "2023-06-11T10:27:17.046177Z"
    },
    "papermill": {
     "duration": 3.938923,
     "end_time": "2023-06-11T10:27:17.049679",
     "exception": false,
     "start_time": "2023-06-11T10:27:13.110756",
     "status": "completed"
    },
    "tags": []
   },
   "outputs": [
    {
     "data": {
      "text/plain": [
       "378905"
      ]
     },
     "execution_count": 34,
     "metadata": {},
     "output_type": "execute_result"
    }
   ],
   "source": [
    "keras.backend.clear_session()\n",
    "gc.collect()"
   ]
  },
  {
   "cell_type": "code",
   "execution_count": 35,
   "id": "5c1d0c6b",
   "metadata": {
    "execution": {
     "iopub.execute_input": "2023-06-11T10:27:20.045996Z",
     "iopub.status.busy": "2023-06-11T10:27:20.045554Z",
     "iopub.status.idle": "2023-06-11T10:27:37.738040Z",
     "shell.execute_reply": "2023-06-11T10:27:37.736463Z"
    },
    "papermill": {
     "duration": 19.169007,
     "end_time": "2023-06-11T10:27:37.740752",
     "exception": false,
     "start_time": "2023-06-11T10:27:18.571745",
     "status": "completed"
    },
    "tags": []
   },
   "outputs": [],
   "source": [
    "with strategy.scope():\n",
    "    model = get_model()"
   ]
  },
  {
   "cell_type": "code",
   "execution_count": 36,
   "id": "044dc27d",
   "metadata": {
    "execution": {
     "iopub.execute_input": "2023-06-11T10:27:40.706136Z",
     "iopub.status.busy": "2023-06-11T10:27:40.705689Z",
     "iopub.status.idle": "2023-06-11T10:27:40.915051Z",
     "shell.execute_reply": "2023-06-11T10:27:40.913794Z"
    },
    "papermill": {
     "duration": 1.614136,
     "end_time": "2023-06-11T10:27:40.917660",
     "exception": false,
     "start_time": "2023-06-11T10:27:39.303524",
     "status": "completed"
    },
    "tags": []
   },
   "outputs": [],
   "source": [
    "with strategy.scope():\n",
    "    optimizer = keras.optimizers.Adam(\n",
    "        LR\n",
    "    )\n",
    "    \n",
    "    model.compile(\n",
    "        optimizer = optimizer,\n",
    "        loss = keras.losses.CategoricalCrossentropy(from_logits = True),\n",
    "        metrics = [\n",
    "            \"accuracy\",\n",
    "            keras.metrics.AUC(\n",
    "                multi_label = True,\n",
    "                from_logits = True,\n",
    "                num_labels = NUM_CLASSES\n",
    "            ),\n",
    "            keras.metrics.Recall(thresholds = 0),\n",
    "            keras.metrics.Precision(thresholds = 0)\n",
    "        ]\n",
    "    )"
   ]
  },
  {
   "cell_type": "code",
   "execution_count": 37,
   "id": "cd9c2950",
   "metadata": {
    "execution": {
     "iopub.execute_input": "2023-06-11T10:27:43.829566Z",
     "iopub.status.busy": "2023-06-11T10:27:43.828578Z",
     "iopub.status.idle": "2023-06-11T10:27:43.837891Z",
     "shell.execute_reply": "2023-06-11T10:27:43.836862Z"
    },
    "papermill": {
     "duration": 1.467741,
     "end_time": "2023-06-11T10:27:43.840008",
     "exception": false,
     "start_time": "2023-06-11T10:27:42.372267",
     "status": "completed"
    },
    "tags": []
   },
   "outputs": [],
   "source": [
    "with strategy.scope():\n",
    "    \n",
    "    csv_logger = keras.callbacks.CSVLogger(os.path.join(SAVE_DIR, 'non_aug_weighted_crossentropy_loss_unfreezing.csv'))\n",
    "    tensorboard = keras.callbacks.TensorBoard(os.path.join(SAVE_DIR, 'logs', 'non_aug_weighted_crossentropy_loss_unfreezing/'))\n",
    "    checkpoint = keras.callbacks.ModelCheckpoint(os.path.join(SAVE_DIR, \"non-aug-weighted-crossentropy-loss-unfreezing-at-epoch-{epoch:02d}.hdf5\"))\n",
    "    reducelr = keras.callbacks.ReduceLROnPlateau(monitor=\"val_loss\", factor=.4, patience=4, min_lr=1e-7)"
   ]
  },
  {
   "cell_type": "code",
   "execution_count": 38,
   "id": "b3daea7c",
   "metadata": {
    "execution": {
     "iopub.execute_input": "2023-06-11T10:27:46.873511Z",
     "iopub.status.busy": "2023-06-11T10:27:46.872677Z",
     "iopub.status.idle": "2023-06-11T10:38:53.631742Z",
     "shell.execute_reply": "2023-06-11T10:38:53.630331Z"
    },
    "papermill": {
     "duration": 668.243681,
     "end_time": "2023-06-11T10:38:53.634214",
     "exception": false,
     "start_time": "2023-06-11T10:27:45.390533",
     "status": "completed"
    },
    "tags": []
   },
   "outputs": [
    {
     "name": "stdout",
     "output_type": "stream",
     "text": [
      "Epoch 1/40\n"
     ]
    },
    {
     "name": "stderr",
     "output_type": "stream",
     "text": [
      "2023-06-11 10:28:06.830095: E tensorflow/core/grappler/optimizers/meta_optimizer.cc:954] model_pruner failed: INVALID_ARGUMENT: Graph does not contain terminal node Add_123/ReadVariableOp.\n",
      "2023-06-11 10:28:07.463228: E tensorflow/core/grappler/optimizers/meta_optimizer.cc:954] model_pruner failed: INVALID_ARGUMENT: Graph does not contain terminal node Add_123/ReadVariableOp.\n"
     ]
    },
    {
     "name": "stdout",
     "output_type": "stream",
     "text": [
      "139/139 [==============================] - ETA: 0s - loss: 0.4732 - accuracy: 0.3567 - auc: 0.7420 - recall: 0.8103 - precision: 0.1905"
     ]
    },
    {
     "name": "stderr",
     "output_type": "stream",
     "text": [
      "2023-06-11 10:28:52.570697: E tensorflow/core/grappler/optimizers/meta_optimizer.cc:954] model_pruner failed: INVALID_ARGUMENT: Graph does not contain terminal node Add/ReadVariableOp.\n",
      "2023-06-11 10:28:52.966957: E tensorflow/core/grappler/optimizers/meta_optimizer.cc:954] model_pruner failed: INVALID_ARGUMENT: Graph does not contain terminal node Add/ReadVariableOp.\n"
     ]
    },
    {
     "name": "stdout",
     "output_type": "stream",
     "text": [
      "139/139 [==============================] - 89s 372ms/step - loss: 0.4732 - accuracy: 0.3567 - auc: 0.7420 - recall: 0.8103 - precision: 0.1905 - val_loss: 1.5786 - val_accuracy: 0.4505 - val_auc: 0.8228 - val_recall: 0.8784 - val_precision: 0.2017 - lr: 3.5000e-04\n",
      "Epoch 2/40\n",
      "139/139 [==============================] - 14s 99ms/step - loss: 0.3427 - accuracy: 0.5027 - auc: 0.8438 - recall: 0.9075 - precision: 0.2158 - val_loss: 1.2267 - val_accuracy: 0.5463 - val_auc: 0.8621 - val_recall: 0.9400 - val_precision: 0.2233 - lr: 3.5000e-04\n",
      "Epoch 3/40\n",
      "139/139 [==============================] - 14s 99ms/step - loss: 0.2874 - accuracy: 0.5627 - auc: 0.8765 - recall: 0.9381 - precision: 0.2276 - val_loss: 1.0589 - val_accuracy: 0.6092 - val_auc: 0.8855 - val_recall: 0.9597 - val_precision: 0.2321 - lr: 3.5000e-04\n",
      "Epoch 4/40\n",
      "139/139 [==============================] - 16s 111ms/step - loss: 0.2545 - accuracy: 0.5989 - auc: 0.8908 - recall: 0.9536 - precision: 0.2319 - val_loss: 1.0284 - val_accuracy: 0.6166 - val_auc: 0.8928 - val_recall: 0.9668 - val_precision: 0.2405 - lr: 3.5000e-04\n",
      "Epoch 5/40\n",
      "139/139 [==============================] - 14s 100ms/step - loss: 0.2338 - accuracy: 0.6163 - auc: 0.8991 - recall: 0.9611 - precision: 0.2337 - val_loss: 0.9839 - val_accuracy: 0.6421 - val_auc: 0.9011 - val_recall: 0.9758 - val_precision: 0.2379 - lr: 3.5000e-04\n",
      "Epoch 6/40\n",
      "139/139 [==============================] - 14s 99ms/step - loss: 0.2109 - accuracy: 0.6438 - auc: 0.9120 - recall: 0.9704 - precision: 0.2383 - val_loss: 0.9322 - val_accuracy: 0.6639 - val_auc: 0.9019 - val_recall: 0.9811 - val_precision: 0.2414 - lr: 3.5000e-04\n",
      "Epoch 7/40\n",
      "139/139 [==============================] - 14s 99ms/step - loss: 0.1877 - accuracy: 0.6733 - auc: 0.9194 - recall: 0.9768 - precision: 0.2401 - val_loss: 0.8473 - val_accuracy: 0.6911 - val_auc: 0.9095 - val_recall: 0.9850 - val_precision: 0.2467 - lr: 3.5000e-04\n",
      "Epoch 8/40\n",
      "139/139 [==============================] - 14s 99ms/step - loss: 0.1773 - accuracy: 0.6873 - auc: 0.9244 - recall: 0.9834 - precision: 0.2408 - val_loss: 0.8770 - val_accuracy: 0.6792 - val_auc: 0.9105 - val_recall: 0.9829 - val_precision: 0.2459 - lr: 3.5000e-04\n",
      "Epoch 9/40\n",
      "139/139 [==============================] - 14s 96ms/step - loss: 0.1621 - accuracy: 0.7093 - auc: 0.9295 - recall: 0.9862 - precision: 0.2430 - val_loss: 0.9205 - val_accuracy: 0.6732 - val_auc: 0.9168 - val_recall: 0.9834 - val_precision: 0.2437 - lr: 3.5000e-04\n",
      "Epoch 10/40\n",
      "139/139 [==============================] - 14s 98ms/step - loss: 0.1476 - accuracy: 0.7216 - auc: 0.9343 - recall: 0.9879 - precision: 0.2425 - val_loss: 0.8228 - val_accuracy: 0.7039 - val_auc: 0.9166 - val_recall: 0.9847 - val_precision: 0.2519 - lr: 3.5000e-04\n",
      "Epoch 11/40\n",
      "139/139 [==============================] - 14s 99ms/step - loss: 0.1459 - accuracy: 0.7242 - auc: 0.9354 - recall: 0.9885 - precision: 0.2446 - val_loss: 0.8177 - val_accuracy: 0.7097 - val_auc: 0.9154 - val_recall: 0.9866 - val_precision: 0.2558 - lr: 3.5000e-04\n",
      "Epoch 12/40\n",
      "139/139 [==============================] - 14s 98ms/step - loss: 0.1369 - accuracy: 0.7408 - auc: 0.9371 - recall: 0.9914 - precision: 0.2453 - val_loss: 0.7936 - val_accuracy: 0.7168 - val_auc: 0.9156 - val_recall: 0.9895 - val_precision: 0.2517 - lr: 3.5000e-04\n",
      "Epoch 13/40\n",
      "139/139 [==============================] - 14s 98ms/step - loss: 0.1243 - accuracy: 0.7526 - auc: 0.9418 - recall: 0.9932 - precision: 0.2458 - val_loss: 0.7943 - val_accuracy: 0.7253 - val_auc: 0.9178 - val_recall: 0.9900 - val_precision: 0.2475 - lr: 3.5000e-04\n",
      "Epoch 14/40\n",
      "139/139 [==============================] - 14s 99ms/step - loss: 0.1140 - accuracy: 0.7710 - auc: 0.9466 - recall: 0.9945 - precision: 0.2484 - val_loss: 0.8146 - val_accuracy: 0.7237 - val_auc: 0.9217 - val_recall: 0.9879 - val_precision: 0.2505 - lr: 3.5000e-04\n",
      "Epoch 15/40\n",
      "139/139 [==============================] - 14s 98ms/step - loss: 0.1097 - accuracy: 0.7725 - auc: 0.9492 - recall: 0.9942 - precision: 0.2490 - val_loss: 0.7647 - val_accuracy: 0.7313 - val_auc: 0.9225 - val_recall: 0.9887 - val_precision: 0.2584 - lr: 3.5000e-04\n",
      "Epoch 16/40\n",
      "139/139 [==============================] - 14s 97ms/step - loss: 0.0963 - accuracy: 0.7908 - auc: 0.9521 - recall: 0.9961 - precision: 0.2518 - val_loss: 0.8887 - val_accuracy: 0.6905 - val_auc: 0.9227 - val_recall: 0.9903 - val_precision: 0.2548 - lr: 3.5000e-04\n",
      "Epoch 17/40\n",
      "139/139 [==============================] - 14s 99ms/step - loss: 0.0976 - accuracy: 0.7975 - auc: 0.9513 - recall: 0.9956 - precision: 0.2522 - val_loss: 0.7908 - val_accuracy: 0.7279 - val_auc: 0.9259 - val_recall: 0.9897 - val_precision: 0.2556 - lr: 3.5000e-04\n",
      "Epoch 18/40\n",
      "139/139 [==============================] - 14s 98ms/step - loss: 0.0989 - accuracy: 0.7965 - auc: 0.9502 - recall: 0.9941 - precision: 0.2519 - val_loss: 0.7999 - val_accuracy: 0.7234 - val_auc: 0.9224 - val_recall: 0.9892 - val_precision: 0.2573 - lr: 3.5000e-04\n",
      "Epoch 19/40\n",
      "139/139 [==============================] - 14s 98ms/step - loss: 0.0880 - accuracy: 0.8098 - auc: 0.9553 - recall: 0.9972 - precision: 0.2546 - val_loss: 0.7275 - val_accuracy: 0.7484 - val_auc: 0.9232 - val_recall: 0.9905 - val_precision: 0.2646 - lr: 3.5000e-04\n",
      "Epoch 20/40\n",
      "139/139 [==============================] - 14s 96ms/step - loss: 0.0803 - accuracy: 0.8260 - auc: 0.9578 - recall: 0.9975 - precision: 0.2571 - val_loss: 0.7728 - val_accuracy: 0.7358 - val_auc: 0.9220 - val_recall: 0.9913 - val_precision: 0.2586 - lr: 3.5000e-04\n",
      "Epoch 21/40\n",
      "139/139 [==============================] - 14s 95ms/step - loss: 0.0820 - accuracy: 0.8191 - auc: 0.9564 - recall: 0.9967 - precision: 0.2590 - val_loss: 0.7531 - val_accuracy: 0.7511 - val_auc: 0.9242 - val_recall: 0.9892 - val_precision: 0.2642 - lr: 3.5000e-04\n",
      "Epoch 22/40\n",
      "139/139 [==============================] - 15s 102ms/step - loss: 0.0749 - accuracy: 0.8328 - auc: 0.9586 - recall: 0.9968 - precision: 0.2610 - val_loss: 0.7616 - val_accuracy: 0.7482 - val_auc: 0.9254 - val_recall: 0.9897 - val_precision: 0.2611 - lr: 3.5000e-04\n",
      "Epoch 23/40\n",
      "139/139 [==============================] - 14s 98ms/step - loss: 0.0761 - accuracy: 0.8346 - auc: 0.9603 - recall: 0.9979 - precision: 0.2597 - val_loss: 0.7676 - val_accuracy: 0.7458 - val_auc: 0.9219 - val_recall: 0.9895 - val_precision: 0.2629 - lr: 3.5000e-04\n",
      "Epoch 24/40\n",
      "139/139 [==============================] - 14s 98ms/step - loss: 0.0637 - accuracy: 0.8523 - auc: 0.9640 - recall: 0.9979 - precision: 0.2613 - val_loss: 0.6983 - val_accuracy: 0.7724 - val_auc: 0.9281 - val_recall: 0.9905 - val_precision: 0.2680 - lr: 1.4000e-04\n",
      "Epoch 25/40\n",
      "139/139 [==============================] - 14s 101ms/step - loss: 0.0549 - accuracy: 0.8676 - auc: 0.9669 - recall: 0.9987 - precision: 0.2647 - val_loss: 0.7090 - val_accuracy: 0.7724 - val_auc: 0.9264 - val_recall: 0.9900 - val_precision: 0.2692 - lr: 1.4000e-04\n",
      "Epoch 26/40\n",
      "139/139 [==============================] - 14s 100ms/step - loss: 0.0518 - accuracy: 0.8727 - auc: 0.9676 - recall: 0.9991 - precision: 0.2660 - val_loss: 0.7227 - val_accuracy: 0.7689 - val_auc: 0.9273 - val_recall: 0.9905 - val_precision: 0.2684 - lr: 1.4000e-04\n",
      "Epoch 27/40\n",
      "139/139 [==============================] - 14s 100ms/step - loss: 0.0498 - accuracy: 0.8773 - auc: 0.9689 - recall: 0.9990 - precision: 0.2667 - val_loss: 0.7148 - val_accuracy: 0.7732 - val_auc: 0.9264 - val_recall: 0.9908 - val_precision: 0.2710 - lr: 1.4000e-04\n",
      "Epoch 28/40\n",
      "139/139 [==============================] - 14s 99ms/step - loss: 0.0474 - accuracy: 0.8834 - auc: 0.9696 - recall: 0.9993 - precision: 0.2698 - val_loss: 0.7053 - val_accuracy: 0.7834 - val_auc: 0.9268 - val_recall: 0.9895 - val_precision: 0.2721 - lr: 1.4000e-04\n",
      "Epoch 29/40\n",
      "139/139 [==============================] - 14s 100ms/step - loss: 0.0452 - accuracy: 0.8907 - auc: 0.9697 - recall: 0.9989 - precision: 0.2704 - val_loss: 0.7074 - val_accuracy: 0.7795 - val_auc: 0.9273 - val_recall: 0.9908 - val_precision: 0.2720 - lr: 5.6000e-05\n",
      "Epoch 30/40\n",
      "139/139 [==============================] - 14s 99ms/step - loss: 0.0423 - accuracy: 0.8943 - auc: 0.9706 - recall: 0.9992 - precision: 0.2711 - val_loss: 0.6977 - val_accuracy: 0.7800 - val_auc: 0.9272 - val_recall: 0.9905 - val_precision: 0.2707 - lr: 5.6000e-05\n",
      "Epoch 31/40\n",
      "139/139 [==============================] - 14s 98ms/step - loss: 0.0413 - accuracy: 0.8976 - auc: 0.9713 - recall: 0.9995 - precision: 0.2714 - val_loss: 0.6966 - val_accuracy: 0.7795 - val_auc: 0.9274 - val_recall: 0.9895 - val_precision: 0.2723 - lr: 5.6000e-05\n",
      "Epoch 32/40\n",
      "139/139 [==============================] - 14s 100ms/step - loss: 0.0412 - accuracy: 0.8954 - auc: 0.9712 - recall: 0.9994 - precision: 0.2721 - val_loss: 0.6930 - val_accuracy: 0.7805 - val_auc: 0.9262 - val_recall: 0.9892 - val_precision: 0.2752 - lr: 5.6000e-05\n",
      "Epoch 33/40\n",
      "139/139 [==============================] - 14s 100ms/step - loss: 0.0418 - accuracy: 0.8979 - auc: 0.9708 - recall: 0.9994 - precision: 0.2729 - val_loss: 0.6885 - val_accuracy: 0.7847 - val_auc: 0.9264 - val_recall: 0.9887 - val_precision: 0.2742 - lr: 5.6000e-05\n",
      "Epoch 34/40\n",
      "139/139 [==============================] - 14s 101ms/step - loss: 0.0389 - accuracy: 0.9012 - auc: 0.9715 - recall: 0.9990 - precision: 0.2726 - val_loss: 0.6875 - val_accuracy: 0.7861 - val_auc: 0.9272 - val_recall: 0.9884 - val_precision: 0.2760 - lr: 5.6000e-05\n",
      "Epoch 35/40\n",
      "139/139 [==============================] - 14s 101ms/step - loss: 0.0380 - accuracy: 0.9055 - auc: 0.9721 - recall: 0.9992 - precision: 0.2743 - val_loss: 0.6971 - val_accuracy: 0.7837 - val_auc: 0.9275 - val_recall: 0.9895 - val_precision: 0.2771 - lr: 5.6000e-05\n",
      "Epoch 36/40\n",
      "139/139 [==============================] - 14s 100ms/step - loss: 0.0391 - accuracy: 0.9031 - auc: 0.9712 - recall: 0.9992 - precision: 0.2759 - val_loss: 0.7011 - val_accuracy: 0.7842 - val_auc: 0.9275 - val_recall: 0.9887 - val_precision: 0.2789 - lr: 5.6000e-05\n",
      "Epoch 37/40\n",
      "139/139 [==============================] - 14s 99ms/step - loss: 0.0380 - accuracy: 0.9050 - auc: 0.9715 - recall: 0.9993 - precision: 0.2752 - val_loss: 0.7001 - val_accuracy: 0.7824 - val_auc: 0.9271 - val_recall: 0.9892 - val_precision: 0.2749 - lr: 5.6000e-05\n",
      "Epoch 38/40\n",
      "139/139 [==============================] - 14s 99ms/step - loss: 0.0373 - accuracy: 0.9086 - auc: 0.9714 - recall: 0.9990 - precision: 0.2749 - val_loss: 0.7019 - val_accuracy: 0.7850 - val_auc: 0.9271 - val_recall: 0.9897 - val_precision: 0.2772 - lr: 5.6000e-05\n",
      "Epoch 39/40\n",
      "139/139 [==============================] - 14s 99ms/step - loss: 0.0362 - accuracy: 0.9087 - auc: 0.9719 - recall: 0.9994 - precision: 0.2756 - val_loss: 0.7006 - val_accuracy: 0.7829 - val_auc: 0.9279 - val_recall: 0.9897 - val_precision: 0.2779 - lr: 2.2400e-05\n",
      "Epoch 40/40\n",
      "139/139 [==============================] - 14s 100ms/step - loss: 0.0355 - accuracy: 0.9109 - auc: 0.9729 - recall: 0.9995 - precision: 0.2762 - val_loss: 0.7057 - val_accuracy: 0.7871 - val_auc: 0.9273 - val_recall: 0.9897 - val_precision: 0.2760 - lr: 2.2400e-05\n"
     ]
    },
    {
     "data": {
      "text/plain": [
       "<keras.callbacks.History at 0x7f59a0f59940>"
      ]
     },
     "execution_count": 38,
     "metadata": {},
     "output_type": "execute_result"
    }
   ],
   "source": [
    "model.fit(\n",
    "    train_non_aug,\n",
    "    epochs = EPOCHS,\n",
    "    class_weight = class_weight,\n",
    "    callbacks = [csv_logger, tensorboard, checkpoint, reducelr],\n",
    "    validation_data = val_ds\n",
    ")"
   ]
  },
  {
   "cell_type": "code",
   "execution_count": 39,
   "id": "54b05b0b",
   "metadata": {
    "execution": {
     "iopub.execute_input": "2023-06-11T10:38:57.512796Z",
     "iopub.status.busy": "2023-06-11T10:38:57.511685Z",
     "iopub.status.idle": "2023-06-11T10:40:04.325044Z",
     "shell.execute_reply": "2023-06-11T10:40:04.323665Z"
    },
    "papermill": {
     "duration": 68.810864,
     "end_time": "2023-06-11T10:40:04.327791",
     "exception": false,
     "start_time": "2023-06-11T10:38:55.516927",
     "status": "completed"
    },
    "tags": []
   },
   "outputs": [
    {
     "name": "stderr",
     "output_type": "stream",
     "text": [
      "WARNING:absl:Found untraced functions such as _jit_compiled_convolution_op, _jit_compiled_convolution_op, _jit_compiled_convolution_op, _jit_compiled_convolution_op, _jit_compiled_convolution_op while saving (showing 5 of 112). These functions will not be directly callable after loading.\n"
     ]
    },
    {
     "name": "stdout",
     "output_type": "stream",
     "text": [
      "INFO:tensorflow:Assets written to: /kaggle/working/non_aug_weighted_crossentropy_loss_unfreezing/assets\n"
     ]
    },
    {
     "name": "stderr",
     "output_type": "stream",
     "text": [
      "INFO:tensorflow:Assets written to: /kaggle/working/non_aug_weighted_crossentropy_loss_unfreezing/assets\n"
     ]
    }
   ],
   "source": [
    "model.save(os.path.join(SAVE_DIR, 'non_aug_weighted_crossentropy_loss_unfreezing'))"
   ]
  }
 ],
 "metadata": {
  "kernelspec": {
   "display_name": "Python 3",
   "language": "python",
   "name": "python3"
  },
  "language_info": {
   "codemirror_mode": {
    "name": "ipython",
    "version": 3
   },
   "file_extension": ".py",
   "mimetype": "text/x-python",
   "name": "python",
   "nbconvert_exporter": "python",
   "pygments_lexer": "ipython3",
   "version": "3.8.16"
  },
  "papermill": {
   "default_parameters": {},
   "duration": 3737.840039,
   "end_time": "2023-06-11T10:40:15.880935",
   "environment_variables": {},
   "exception": null,
   "input_path": "__notebook__.ipynb",
   "output_path": "__notebook__.ipynb",
   "parameters": {},
   "start_time": "2023-06-11T09:37:58.040896",
   "version": "2.4.0"
  }
 },
 "nbformat": 4,
 "nbformat_minor": 5
}
